{
 "cells": [
  {
   "cell_type": "markdown",
   "metadata": {},
   "source": [
    "# Extracting a term structure of zero coupon bond prices from market swap rates\n",
    "Consider an (in--arrears) interest rate swap from the viewpoint of the side paying fixed and receiving floating.\n",
    "\n",
    "Let the notional amount of the swap be 1.\n",
    "\n",
    "Let ${\\mathbb{T}}=\\{T_1,\\ldots,T_n\\}$ be the tenor structure for the swap.\n",
    "\n",
    "Let $t$ be the time when the swap was set up. If $t<T_1$, we have a *forward start swap*.\n",
    "- At each time $T_i$, $2\\leq i\\leq n$, the fixed payment made is $(T_i-T_{i-1})\\ell(t,{\\mathbb{T}})$.\n",
    "- At each time $T_i$, $2\\leq i\\leq n$, the floating payment received is\n",
    "$$\n",
    "(T_i-T_{i-1})r(T_{i-1},T_i)\n",
    "$$\n",
    "where $r(T_{i-1},T_i)$ is the floating market interest rate (with simple compounding) for the accrual period $[T_{i-1},T_i]$.\n",
    "\n",
    "Usually the swap is set up such that its initial value is zero. Then $\\ell(T_1,{\\mathbb{T}})$ is the (forward) *swap rate*.\n",
    "\n",
    "Then the swap rate must equal the coupon on a coupon bond quoted at par, i.e. with price $V(T_1,{\\mathbb{T}},\\ell(T_1,{\\mathbb{T}}))=1$.\n",
    "\\begin{eqnarray*}\n",
    "(1-B(T_1,T_n)) & = & \\ell(T_1,{\\mathbb{T}}) \\sum_{i=2}^n (T_i-T_{i-1}) B(T_1,T_i) \\\\\n",
    "\\Leftrightarrow\\qquad \\ell(T_1,{\\mathbb{T}}) & = &\n",
    "\\frac{1-B(T_1,T_n)}{\\sum_{i=2}^n (T_i-T_{i-1}) B(T_1,T_i)}\n",
    "\\end{eqnarray*}\n",
    "\n",
    "Given market swap rates $\\ell(T_1,{\\mathbb{T}})$, we want to determine the associated zero coupon bond prices $B(T_1,T_i)$.\n",
    "\n",
    "Let us first import the requisite packages:"
   ]
  },
  {
   "cell_type": "code",
   "execution_count": 1,
   "metadata": {},
   "outputs": [],
   "source": [
    "import numpy as np\n",
    "import pandas as pd\n",
    "import pandas_datareader\n",
    "import datetime\n",
    "import scipy.optimize as opt\n",
    "import matplotlib.pyplot as plt\n",
    "%matplotlib inline"
   ]
  },
  {
   "cell_type": "markdown",
   "metadata": {},
   "source": [
    "US swap rate data can be downloaded from the FRED database supplied by the Federal Reserve Bank of St. Louis.\n",
    "\n",
    "At present, we only need the swap rates on a single day. Choosing this day:"
   ]
  },
  {
   "cell_type": "code",
   "execution_count": 2,
   "metadata": {},
   "outputs": [],
   "source": [
    "start=datetime.datetime(2020,12,15)\n",
    "end=datetime.datetime(2020,12,15)"
   ]
  },
  {
   "cell_type": "markdown",
   "metadata": {},
   "source": [
    "Market swap rates are available for swaps of the following lengths (in years):"
   ]
  },
  {
   "cell_type": "code",
   "execution_count": 3,
   "metadata": {},
   "outputs": [],
   "source": [
    "swapmaturities = [1.,2.,3.,4.,5.,6.,7.,8.,9.,10.,15.,20.,30.]"
   ]
  },
  {
   "cell_type": "markdown",
   "metadata": {},
   "source": [
    "The `FredReader` interface function allows us to download the market swap rates using Python.\n",
    "\n",
    "Download the rates and merge them into a DataFrame called `swaprates`:"
   ]
  },
  {
   "cell_type": "code",
   "execution_count": 4,
   "metadata": {},
   "outputs": [
    {
     "data": {
      "text/html": [
       "<div>\n",
       "<style scoped>\n",
       "    .dataframe tbody tr th:only-of-type {\n",
       "        vertical-align: middle;\n",
       "    }\n",
       "\n",
       "    .dataframe tbody tr th {\n",
       "        vertical-align: top;\n",
       "    }\n",
       "\n",
       "    .dataframe thead th {\n",
       "        text-align: right;\n",
       "    }\n",
       "</style>\n",
       "<table border=\"1\" class=\"dataframe\">\n",
       "  <thead>\n",
       "    <tr style=\"text-align: right;\">\n",
       "      <th></th>\n",
       "      <th>ICERates1100USD1Y</th>\n",
       "      <th>ICERates1100USD2Y</th>\n",
       "      <th>ICERates1100USD3Y</th>\n",
       "      <th>ICERates1100USD4Y</th>\n",
       "      <th>ICERates1100USD5Y</th>\n",
       "      <th>ICERates1100USD6Y</th>\n",
       "      <th>ICERates1100USD7Y</th>\n",
       "      <th>ICERates1100USD8Y</th>\n",
       "      <th>ICERates1100USD9Y</th>\n",
       "      <th>ICERates1100USD10Y</th>\n",
       "      <th>ICERates1100USD15Y</th>\n",
       "      <th>ICERates1100USD20Y</th>\n",
       "      <th>ICERates1100USD30Y</th>\n",
       "    </tr>\n",
       "    <tr>\n",
       "      <th>DATE</th>\n",
       "      <th></th>\n",
       "      <th></th>\n",
       "      <th></th>\n",
       "      <th></th>\n",
       "      <th></th>\n",
       "      <th></th>\n",
       "      <th></th>\n",
       "      <th></th>\n",
       "      <th></th>\n",
       "      <th></th>\n",
       "      <th></th>\n",
       "      <th></th>\n",
       "      <th></th>\n",
       "    </tr>\n",
       "  </thead>\n",
       "  <tbody>\n",
       "    <tr>\n",
       "      <th>2020-12-15</th>\n",
       "      <td>0.192</td>\n",
       "      <td>0.203</td>\n",
       "      <td>0.245</td>\n",
       "      <td>0.33</td>\n",
       "      <td>0.432</td>\n",
       "      <td>0.543</td>\n",
       "      <td>0.647</td>\n",
       "      <td>0.744</td>\n",
       "      <td>0.832</td>\n",
       "      <td>0.91</td>\n",
       "      <td>1.164</td>\n",
       "      <td>1.288</td>\n",
       "      <td>1.371</td>\n",
       "    </tr>\n",
       "  </tbody>\n",
       "</table>\n",
       "</div>"
      ],
      "text/plain": [
       "            ICERates1100USD1Y  ICERates1100USD2Y  ICERates1100USD3Y  \\\n",
       "DATE                                                                  \n",
       "2020-12-15              0.192              0.203              0.245   \n",
       "\n",
       "            ICERates1100USD4Y  ICERates1100USD5Y  ICERates1100USD6Y  \\\n",
       "DATE                                                                  \n",
       "2020-12-15               0.33              0.432              0.543   \n",
       "\n",
       "            ICERates1100USD7Y  ICERates1100USD8Y  ICERates1100USD9Y  \\\n",
       "DATE                                                                  \n",
       "2020-12-15              0.647              0.744              0.832   \n",
       "\n",
       "            ICERates1100USD10Y  ICERates1100USD15Y  ICERates1100USD20Y  \\\n",
       "DATE                                                                     \n",
       "2020-12-15                0.91               1.164               1.288   \n",
       "\n",
       "            ICERates1100USD30Y  \n",
       "DATE                            \n",
       "2020-12-15               1.371  "
      ]
     },
     "execution_count": 4,
     "metadata": {},
     "output_type": "execute_result"
    }
   ],
   "source": [
    "ICEswaprates=['ICERates1100USD2Y','ICERates1100USD3Y','ICERates1100USD4Y','ICERates1100USD5Y','ICERates1100USD6Y','ICERates1100USD7Y','ICERates1100USD8Y','ICERates1100USD9Y','ICERates1100USD10Y','ICERates1100USD15Y','ICERates1100USD20Y','ICERates1100USD30Y']\n",
    "fred=pandas_datareader.fred.FredReader('ICERates1100USD1Y', start=start, end=end)\n",
    "swaprates=fred.read()\n",
    "fred.close()\n",
    "for x in ICEswaprates:\n",
    "    fred=pandas_datareader.fred.FredReader(x, start=start, end=end)\n",
    "    df=fred.read()\n",
    "    fred.close()\n",
    "    swaprates=pd.merge(swaprates,df,on='DATE',how='outer')\n",
    "swaprates"
   ]
  },
  {
   "cell_type": "markdown",
   "metadata": {},
   "source": [
    "Save this as a CSV file for later use:"
   ]
  },
  {
   "cell_type": "code",
   "execution_count": 5,
   "metadata": {},
   "outputs": [],
   "source": [
    "swaprates.to_csv('swaprates'+str(start.date())+'.csv')"
   ]
  },
  {
   "cell_type": "markdown",
   "metadata": {},
   "source": [
    "Read the swap rates back from the file:"
   ]
  },
  {
   "cell_type": "code",
   "execution_count": 6,
   "metadata": {},
   "outputs": [
    {
     "data": {
      "text/html": [
       "<div>\n",
       "<style scoped>\n",
       "    .dataframe tbody tr th:only-of-type {\n",
       "        vertical-align: middle;\n",
       "    }\n",
       "\n",
       "    .dataframe tbody tr th {\n",
       "        vertical-align: top;\n",
       "    }\n",
       "\n",
       "    .dataframe thead th {\n",
       "        text-align: right;\n",
       "    }\n",
       "</style>\n",
       "<table border=\"1\" class=\"dataframe\">\n",
       "  <thead>\n",
       "    <tr style=\"text-align: right;\">\n",
       "      <th></th>\n",
       "      <th>DATE</th>\n",
       "      <th>ICERates1100USD1Y</th>\n",
       "      <th>ICERates1100USD2Y</th>\n",
       "      <th>ICERates1100USD3Y</th>\n",
       "      <th>ICERates1100USD4Y</th>\n",
       "      <th>ICERates1100USD5Y</th>\n",
       "      <th>ICERates1100USD6Y</th>\n",
       "      <th>ICERates1100USD7Y</th>\n",
       "      <th>ICERates1100USD8Y</th>\n",
       "      <th>ICERates1100USD9Y</th>\n",
       "      <th>ICERates1100USD10Y</th>\n",
       "      <th>ICERates1100USD15Y</th>\n",
       "      <th>ICERates1100USD20Y</th>\n",
       "      <th>ICERates1100USD30Y</th>\n",
       "    </tr>\n",
       "  </thead>\n",
       "  <tbody>\n",
       "    <tr>\n",
       "      <th>0</th>\n",
       "      <td>2020-12-15</td>\n",
       "      <td>0.192</td>\n",
       "      <td>0.203</td>\n",
       "      <td>0.245</td>\n",
       "      <td>0.33</td>\n",
       "      <td>0.432</td>\n",
       "      <td>0.543</td>\n",
       "      <td>0.647</td>\n",
       "      <td>0.744</td>\n",
       "      <td>0.832</td>\n",
       "      <td>0.91</td>\n",
       "      <td>1.164</td>\n",
       "      <td>1.288</td>\n",
       "      <td>1.371</td>\n",
       "    </tr>\n",
       "  </tbody>\n",
       "</table>\n",
       "</div>"
      ],
      "text/plain": [
       "         DATE  ICERates1100USD1Y  ICERates1100USD2Y  ICERates1100USD3Y  \\\n",
       "0  2020-12-15              0.192              0.203              0.245   \n",
       "\n",
       "   ICERates1100USD4Y  ICERates1100USD5Y  ICERates1100USD6Y  ICERates1100USD7Y  \\\n",
       "0               0.33              0.432              0.543              0.647   \n",
       "\n",
       "   ICERates1100USD8Y  ICERates1100USD9Y  ICERates1100USD10Y  \\\n",
       "0              0.744              0.832                0.91   \n",
       "\n",
       "   ICERates1100USD15Y  ICERates1100USD20Y  ICERates1100USD30Y  \n",
       "0               1.164               1.288               1.371  "
      ]
     },
     "execution_count": 6,
     "metadata": {},
     "output_type": "execute_result"
    }
   ],
   "source": [
    "swaprates = pd.read_csv('swaprates'+str(start.date())+'.csv')\n",
    "swaprates"
   ]
  },
  {
   "cell_type": "markdown",
   "metadata": {},
   "source": [
    "For further processing, it is convenient to have these rates in a NumPy array `rates`:"
   ]
  },
  {
   "cell_type": "code",
   "execution_count": 7,
   "metadata": {},
   "outputs": [
    {
     "data": {
      "text/plain": [
       "array([0.192, 0.203, 0.245, 0.33, 0.4320000000000001, 0.5429999999999999,\n",
       "       0.647, 0.7440000000000001, 0.8320000000000001, 0.91, 1.164, 1.288,\n",
       "       1.371], dtype=object)"
      ]
     },
     "execution_count": 7,
     "metadata": {},
     "output_type": "execute_result"
    }
   ],
   "source": [
    "rates = (swaprates.to_numpy())[0][1:]\n",
    "rates"
   ]
  },
  {
   "cell_type": "markdown",
   "metadata": {},
   "source": [
    "By USD swap market convention, the fixed leg of a swap pays semi-annually, while the floating leg pays quarterly. \n",
    "\n",
    "Due to the semi-annual fixed payments, we have more payment dates $T_i$ than available market swap rates, so some form of interpolation is required\n",
    "\n",
    "For the pragmatic reasons of simplicity and robustness, linear interpolation of logarithimc zero coupon bond prices is often applied.\n",
    "\n",
    "Given the zero coupon bond prices $B(t,T_1)$ and $B(t,T_2)$, by loglinear interpolation we have for $T_1\\leq T_i\\leq T_2$\n",
    "$$\n",
    "\\ln B(t,T_i) = \\ln B(t,T_1) + \\frac{T_i-T_1}{T_2-T_1}\n",
    "\\ln\\left(\\frac{B(t,T_2)}{B(t,T_1)}\\right) \n",
    "$$\n",
    "This can also be written as\n",
    "$$\n",
    "B(t,T_i) = B(t,T_1)^{1-\\frac{T_i-T_1}{T_2-T_1}} B(t,T_2)^{\\frac{T_i-T_1}{T_2-T_1}}\n",
    "$$\n",
    "Suppose that out of the $n$ zero coupon bonds in the swap value condition\n",
    "$$\n",
    "(1-B(T_0,T_n)) = \\ell(T_0,{\\mathbb{T}}) \\sum_{i=1}^n (T_i-T_{i-1}) B(T_0,T_i)\n",
    "$$\n",
    "we already know the value of the first $m<n$ bonds. Loglinear interpolation allows us to express any $B(T_0,T_i)$ for $m<i<n$ as a function of $B(T_0,T_m)$ and $B(T_0,T_n)$, and we can use the swap value condition to determine $B(T_0,T_n)$. However, typically this must be done numerically. For this, we will use the SciPy function `root_scalar(...)`. Therefore, we need to define an objective function which takes $B(T_0,T_n)$ as its first argument and returns zero when the swap value condition is satisfied:"
   ]
  },
  {
   "cell_type": "code",
   "execution_count": 9,
   "metadata": {},
   "outputs": [],
   "source": [
    "# objective function for root search\n",
    "def swapPVloglinear(lastbond,timeline,zcb,swaprate):\n",
    "    dt     = (timeline[1:]-timeline[:-1])\n",
    "    i      = len(zcb)\n",
    "    ttm    = (timeline[i:]-timeline[i-1])/(timeline[-1]-timeline[i-1])\n",
    "    tmp    = zcb[-1]**(1.-ttm) * lastbond**ttm\n",
    "    PV     = np.sum(dt*swaprate*np.append(zcb[1:],tmp))\n",
    "    return PV-(1.-lastbond)"
   ]
  },
  {
   "cell_type": "markdown",
   "metadata": {},
   "source": [
    "Let's test this out using the one-year swap rate, with semi-annual payments on the fixed leg. Note that we can initialise $B(T_0,T_0)=1$."
   ]
  },
  {
   "cell_type": "code",
   "execution_count": 11,
   "metadata": {},
   "outputs": [
    {
     "name": "stdout",
     "output_type": "stream",
     "text": [
      "[0.  0.5 1. ]\n",
      "0.19200000003976037  0.192\n"
     ]
    }
   ],
   "source": [
    "dt = 0.5\n",
    "zcb = np.array([1.])\n",
    "timeline = np.arange(0,1.1,dt)\n",
    "print(timeline)\n",
    "sol = opt.root_scalar(swapPVloglinear, bracket=[0.0001, 1], args=(timeline,zcb,rates[0]/100.))\n",
    "print(str((1./(sol.root)**0.5-1)/dt*100)+'  '+str(rates[0]))"
   ]
  },
  {
   "cell_type": "markdown",
   "metadata": {},
   "source": [
    "Before we iteratively apply this to all swap rates, we need an additional function which fills in the missing zero coupon bonds $B(T_0,T_i)$ for $m<i<n$ on a timeline by loglinear interpolation:"
   ]
  },
  {
   "cell_type": "code",
   "execution_count": 12,
   "metadata": {},
   "outputs": [],
   "source": [
    "# fill up ZCB vector using loglinear interpolation\n",
    "def ZCBloglinear(lastbond,timeline,zcb):\n",
    "    dt     = (timeline[1:]-timeline[:-1])\n",
    "    i      = len(zcb)\n",
    "    ttm    = (timeline[i:]-timeline[i-1])/(timeline[-1]-timeline[i-1])\n",
    "    tmp    = zcb[-1]**(1.-ttm) * lastbond**ttm\n",
    "    return np.append(zcb,tmp)"
   ]
  },
  {
   "cell_type": "markdown",
   "metadata": {},
   "source": [
    "Based on the result we obtained in the calculation using the one-year swap rate above:"
   ]
  },
  {
   "cell_type": "code",
   "execution_count": 13,
   "metadata": {},
   "outputs": [
    {
     "name": "stdout",
     "output_type": "stream",
     "text": [
      "[1.]\n"
     ]
    },
    {
     "data": {
      "text/plain": [
       "array([1.        , 0.99904092, 0.99808276])"
      ]
     },
     "execution_count": 13,
     "metadata": {},
     "output_type": "execute_result"
    }
   ],
   "source": [
    "print(zcb)\n",
    "zcb = ZCBloglinear(sol.root,timeline,zcb)\n",
    "zcb"
   ]
  },
  {
   "cell_type": "markdown",
   "metadata": {},
   "source": [
    "Now we can extract a term structure of zero coupon bond prices by iterating over all market swap rates:"
   ]
  },
  {
   "cell_type": "code",
   "execution_count": 14,
   "metadata": {},
   "outputs": [],
   "source": [
    "dt = 0.5\n",
    "zcb = np.array([1.])\n",
    "i = 0\n",
    "for T in swapmaturities:\n",
    "    timeline = np.arange(0,T+0.1,dt)\n",
    "    sol = opt.root_scalar(swapPVloglinear, bracket=[0.0001, 1], args=(timeline,zcb,rates[i]/100.))\n",
    "    zcb = ZCBloglinear(sol.root,timeline,zcb)\n",
    "    i = i+1"
   ]
  },
  {
   "cell_type": "markdown",
   "metadata": {},
   "source": [
    "To check the result, define a function which returns the present value (from the perspective of the side receiving the fixed leg) of a swap of length $T$ years:"
   ]
  },
  {
   "cell_type": "code",
   "execution_count": 16,
   "metadata": {},
   "outputs": [],
   "source": [
    "def swapPV(timeline,zcb,swaprate,T):\n",
    "    t      = timeline[timeline<=T]\n",
    "    b      = zcb[timeline<=T]\n",
    "    dt     = (t[1:]-t[:-1])\n",
    "    PV     = np.sum(dt*swaprate*b[1:])\n",
    "    return PV-(1.-b[-1])"
   ]
  },
  {
   "cell_type": "markdown",
   "metadata": {},
   "source": [
    "If we calculate the PVs of all swaps based on the market swap rates, all such PVs should be zero (up to rounding error):"
   ]
  },
  {
   "cell_type": "code",
   "execution_count": 17,
   "metadata": {},
   "outputs": [
    {
     "name": "stdout",
     "output_type": "stream",
     "text": [
      "Swap length: 1.0  Swap rate: 0.192  PV: -3.9705348384155847e-13\n",
      "Swap length: 2.0  Swap rate: 0.203  PV: 1.3877787807814457e-17\n",
      "Swap length: 3.0  Swap rate: 0.245  PV: -1.474514954580286e-17\n",
      "Swap length: 4.0  Swap rate: 0.33  PV: 3.469446951953614e-17\n",
      "Swap length: 5.0  Swap rate: 0.4320000000000001  PV: 0.0\n",
      "Swap length: 6.0  Swap rate: 0.5429999999999999  PV: 2.0816681711721685e-17\n",
      "Swap length: 7.0  Swap rate: 0.647  PV: 3.3306690738754696e-16\n",
      "Swap length: 8.0  Swap rate: 0.7440000000000001  PV: 1.186550857568136e-15\n",
      "Swap length: 9.0  Swap rate: 0.8320000000000001  PV: 3.622102617839573e-15\n",
      "Swap length: 10.0  Swap rate: 0.91  PV: 8.992806499463768e-15\n",
      "Swap length: 15.0  Swap rate: 1.164  PV: 8.326672684688674e-17\n",
      "Swap length: 20.0  Swap rate: 1.288  PV: 1.1934897514720433e-15\n",
      "Swap length: 30.0  Swap rate: 1.371  PV: 5.551115123125783e-17\n"
     ]
    }
   ],
   "source": [
    "i = 0\n",
    "for r in rates:\n",
    "    print(\"Swap length: \"+str(swapmaturities[i])+\"  Swap rate: \"+str(r)+\"  PV: \"+str(swapPV(timeline,zcb,r/100.,swapmaturities[i])))\n",
    "    i = i+1"
   ]
  },
  {
   "cell_type": "markdown",
   "metadata": {},
   "source": [
    "We can plot the term structure of zero coupon bond prices:"
   ]
  },
  {
   "cell_type": "code",
   "execution_count": 18,
   "metadata": {},
   "outputs": [
    {
     "data": {
      "image/png": "[encoded data removed]",
      "text/plain": [
       "<Figure size 432x288 with 1 Axes>"
      ]
     },
     "metadata": {
      "needs_background": "light"
     },
     "output_type": "display_data"
    }
   ],
   "source": [
    "# intialise data of lists. \n",
    "data = {'Maturity':timeline, \n",
    "        'Discount factors':zcb} \n",
    "  \n",
    "# Create DataFrame \n",
    "df = pd.DataFrame(data) \n",
    "df=df.set_index('Maturity')\n",
    "\n",
    "plt.plot(df)\n",
    "plt.show()"
   ]
  },
  {
   "cell_type": "markdown",
   "metadata": {},
   "source": [
    "Define now a function to convert a term structure of zero coupon bond prices into a term structure of forward rates with simple compounding $L(T_0,T_i)$ with\n",
    "$$\n",
    "L(T_0,T_i)=\\frac1{T_{i+1}-T_i}\\left(\\frac{B(T_0,T_i)}{B(T_0,T_{i+1})}-1\\right)\n",
    "$$"
   ]
  },
  {
   "cell_type": "code",
   "execution_count": 19,
   "metadata": {},
   "outputs": [],
   "source": [
    "def forwardLIBOR(timeline,zcb):\n",
    "    dt = timeline[1:]-timeline[:-1]\n",
    "    quotient = zcb[:-1]/zcb[1:]\n",
    "    return (quotient-1.)/dt"
   ]
  },
  {
   "cell_type": "markdown",
   "metadata": {},
   "source": [
    "Plot the term structure of forward rates:"
   ]
  },
  {
   "cell_type": "code",
   "execution_count": 20,
   "metadata": {},
   "outputs": [
    {
     "data": {
      "text/plain": [
       "[<matplotlib.lines.Line2D at 0x18235e79240>]"
      ]
     },
     "execution_count": 20,
     "metadata": {},
     "output_type": "execute_result"
    },
    {
     "data": {
      "image/png": "[encoded data removed]",
      "text/plain": [
       "<Figure size 432x288 with 1 Axes>"
      ]
     },
     "metadata": {
      "needs_background": "light"
     },
     "output_type": "display_data"
    }
   ],
   "source": [
    "df['Fwd rate']=np.append([np.NaN],forwardLIBOR(timeline,zcb))\n",
    "plt.plot(df['Fwd rate'])"
   ]
  },
  {
   "cell_type": "code",
   "execution_count": null,
   "metadata": {},
   "outputs": [],
   "source": []
  }
 ],
 "metadata": {
  "kernelspec": {
   "display_name": "Python 3",
   "language": "python",
   "name": "python3"
  },
  "language_info": {
   "codemirror_mode": {
    "name": "ipython",
    "version": 3
   },
   "file_extension": ".py",
   "mimetype": "text/x-python",
   "name": "python",
   "nbconvert_exporter": "python",
   "pygments_lexer": "ipython3",
   "version": "3.7.7"
  }
 },
 "nbformat": 4,
 "nbformat_minor": 4
}
