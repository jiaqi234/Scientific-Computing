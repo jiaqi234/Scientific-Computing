{
 "cells": [
  {
   "cell_type": "markdown",
   "metadata": {},
   "source": [
    "<h1 style=\"font-family:Impact,Arial;font-size:60px;\">Monte Carlo simulation of the LIBOR Market Model (LMM)</h1>\n",
    "<h2 style=\"font-family:Arial;\">Erik Schl&ouml;gl</h2>\n",
    "<p><small> School of Mathematical &amp; Physical Sciences<br>\n",
    "University of Technology Sydney\n",
    "</small></p>\n",
    "<p>\n",
    "<a href=\"mailto:Erik.Schlogl@uts.edu.au?Subject=37003 LMM\" target=\"_blank\">\n",
    "<small><font color=MediumVioletRed>Erik.Schlogl@uts.edu.au</font></small></a>\n",
    "</p>\n",
    "<hr style=\"height:5px;border:none;color:#333;background-color:#333;\" />\n",
    "Let us start by importing some packages which we will need below:"
   ]
  },
  {
   "cell_type": "code",
   "execution_count": 44,
   "metadata": {},
   "outputs": [],
   "source": [
    "import numpy as np\n",
    "from scipy.stats import norm\n",
    "from scipy import optimize\n",
    "import matplotlib.pyplot as plt\n",
    "from numba import jit"
   ]
  },
  {
   "cell_type": "markdown",
   "metadata": {},
   "source": [
    "<hr style=\"height:5px;border:none;color:#333;background-color:#333;\" />\n",
    "<h1>1. Implementing the analytical caplet price.</h1>\n",
    "Recall that the forward LIBOR $L(t,T)$ is defined in terms of zero coupon bond\n",
    "prices by\n",
    "$$\n",
    "L(t,T):=\\frac1{\\delta}\\left(\\frac{B(t,T)}{B(t,T+\\delta)}-1\\right)\n",
    "$$\n",
    "Consider now a caplet paying, at time $T+\\delta$,\n",
    "$$\n",
    "\\delta[L(T,T)-\\kappa]^+\n",
    "$$\n",
    "Valuing this payoff as the discounted expected value under the time\n",
    "$T+\\delta$ forward measure ${P}_{T+\\delta}$:\n",
    "\\begin{eqnarray*}\n",
    "&& B(0,T+\\delta)E_{T+\\delta}[\\delta\\max(0,L(T,T)-\\kappa)]\\\\\n",
    "& = & \\delta\n",
    "B(0,T+\\delta)\\left(E_{T+\\delta}[L(T,T)\\mathbb{I}_{\\{L(T,T)>\\kappa\\}}]-\\kappa P_{T+\\delta}\\{L(T,T)>\\kappa\\}\\right)\\\\\n",
    "& = & \\delta B(0,T+\\delta)(L(0,T)N(h_1)-\\kappa N(h_2))\n",
    "\\end{eqnarray*}\n",
    "with\n",
    "$$\n",
    "h_{1,2}=\\frac{\\ln\\frac{L(0,T)}{\\kappa}\\pm\\frac12\\int_0^T\\lambda^2(s,T)ds}{\\sqrt{\\int_0^T\\lambda^2(s,T)ds}}\n",
    "$$\n",
    "The floorlet is priced analogously. \n",
    "\n",
    "The following function implements the pricing formula for $\\delta=T_2-T_1$ and a constant vector $\\lambda(s,T)$<code>=sgm</code>, where the variable <code>capfloor</code> is set to <code>1</code> for a caplet and <code>-1</code> for a floorlet. <code>F</code> is the forward LIBOR $L(0,T)$, <code>lvl</code> is the strike level $\\kappa$ and <code>discount</code> is the zero coupon bond price $B(0,T+\\delta)$."
   ]
  },
  {
   "cell_type": "code",
   "execution_count": 2,
   "metadata": {},
   "outputs": [],
   "source": [
    "def BlackCaplet(F,lvl,sgm,T1,T2,capfloor,discount):\n",
    "    sgm2 = np.sum(sgm*sgm)\n",
    "    d1 = (np.log(F/lvl)+(0.5*sgm2)*T1)/(np.sqrt(sgm2*T1))\n",
    "    d2 = d1 - np.sqrt(sgm2*T1)\n",
    "    return capfloor*discount*(T2-T1)*(F*norm.cdf(capfloor*d1)-lvl*norm.cdf(capfloor*d2))"
   ]
  },
  {
   "cell_type": "markdown",
   "metadata": {},
   "source": [
    "Usage example:"
   ]
  },
  {
   "cell_type": "code",
   "execution_count": 3,
   "metadata": {},
   "outputs": [
    {
     "name": "stdout",
     "output_type": "stream",
     "text": [
      "0.0012480443327004273\n"
     ]
    }
   ],
   "source": [
    "F = 0.05\n",
    "lvl = 0.05\n",
    "sgm = np.array([0.1,0.2])\n",
    "T1 = 1.5\n",
    "T2 = 1.75\n",
    "capfloor = 1\n",
    "discount = (1+(T2-T1)*F)**(-T2/(T2-T1))\n",
    "caplet = BlackCaplet(F,lvl,sgm,T1,T2,capfloor,discount)\n",
    "print(caplet)"
   ]
  },
  {
   "cell_type": "markdown",
   "metadata": {},
   "source": [
    "<hr style=\"height:5px;border:none;color:#333;background-color:#333;\" />\n",
    "<h1>2. Monte Carlo simulation of a single caplet.</h1>\n",
    "We can express the caplet price by its discounted expected payoff under the forward measure to the end of the accrual period of the underlying rate, i.e. to $T_2$:\n",
    "$$\n",
    "B(0,T+\\delta)E[\\delta[L(T,T)-\\kappa]^+]\n",
    "$$\n",
    "Under this measure, the underlying rate is lognormally distributed, so for constant volatility $\\lambda(s,T)=\\sigma$ we can write \n",
    "$$\n",
    "L(T,T)=L(0,T)\\exp\\left\\{-\\frac12\\sigma^2T_1+\\sqrt{\\sigma^2T_1}x\\right\\}\n",
    "$$\n",
    "where $x$ is a standard normal random variable. The function <code>LMMCapletMC()</code> takes the same arguments as <code>BlackCaplet()</code> and an additional argument <code>n</code>, the number of simulations. These are implemented in a vectorised manner in order to avoid explicit loops:"
   ]
  },
  {
   "cell_type": "code",
   "execution_count": 4,
   "metadata": {},
   "outputs": [],
   "source": [
    "def LMMCapletMC(F,lvl,sgm,T1,T2,capfloor,discount,n):\n",
    "    w = np.random.standard_normal(n)\n",
    "    sgm2 = np.sum(sgm*sgm)\n",
    "    FT=F*np.exp((-0.5*sgm2)*T1+np.sqrt(sgm2*T1)*w)\n",
    "    payoff=capfloor*(FT-lvl)*(T2-T1)\n",
    "    payoff=payoff*(payoff>0)\n",
    "    MC=discount*np.mean(payoff)\n",
    "    MCstd=discount*np.std(payoff)/np.sqrt(n)\n",
    "    return MC, MCstd"
   ]
  },
  {
   "cell_type": "markdown",
   "metadata": {},
   "source": [
    "Testing this against the analytical solutions, using 10000 simulations:"
   ]
  },
  {
   "cell_type": "code",
   "execution_count": 5,
   "metadata": {},
   "outputs": [
    {
     "name": "stdout",
     "output_type": "stream",
     "text": [
      "The MC estimate for the option price is: \n",
      "0.0012278741065773055\n",
      "The 2 standard deviation confidence interval for the option price is: \n",
      "0.0011858388006818698 0.0012699094124727411\n",
      "The distance to the closed-form value in standard deviations is:\n",
      "-0.9596802351478552\n"
     ]
    }
   ],
   "source": [
    "n = 10000\n",
    "MC, MCstd = LMMCapletMC(F,lvl,sgm,T1,T2,capfloor,discount,n)\n",
    "print('The MC estimate for the option price is: ')\n",
    "print(MC)\n",
    "print('The 2 standard deviation confidence interval for the option price is: ')\n",
    "print(MC-2*MCstd,MC+2*MCstd)\n",
    "print('The distance to the closed-form value in standard deviations is:')\n",
    "print((MC-caplet)/MCstd)"
   ]
  },
  {
   "cell_type": "markdown",
   "metadata": {},
   "source": [
    "Notice that the analytical solution lies inside the confidence interval (at a confidence level of approximately 95%) around the Monte Carlo estimate, i.e., the absolute value of the distance between the analytical value and the MC value in standard deviations is less than 2.\n",
    "\n",
    "As we increase the number of simulations $n$, the confidence interval shrinks with $\\sqrt{n}$. However, the analytical value continues to lie inside the confidence interval, suggesting that both implementations are correct:"
   ]
  },
  {
   "cell_type": "code",
   "execution_count": 6,
   "metadata": {},
   "outputs": [
    {
     "name": "stdout",
     "output_type": "stream",
     "text": [
      "The MC estimate for the option price is: \n",
      "0.0012494645324851415\n",
      "The 2 standard deviation confidence interval for the option price is: \n",
      "0.0012451382505207548 0.0012537908144495283\n",
      "The distance to the closed-form value in standard deviations is:\n",
      "0.6565451796277101\n"
     ]
    }
   ],
   "source": [
    "n = 1000000\n",
    "MC, MCstd = LMMCapletMC(F,lvl,sgm,T1,T2,capfloor,discount,n)\n",
    "print('The MC estimate for the option price is: ')\n",
    "print(MC)\n",
    "print('The 2 standard deviation confidence interval for the option price is: ')\n",
    "print(MC-2*MCstd,MC+2*MCstd)\n",
    "print('The distance to the closed-form value in standard deviations is:')\n",
    "print((MC-caplet)/MCstd)"
   ]
  },
  {
   "cell_type": "code",
   "execution_count": 7,
   "metadata": {},
   "outputs": [
    {
     "name": "stdout",
     "output_type": "stream",
     "text": [
      "The MC estimate for the option price is: \n",
      "0.001248578860703622\n",
      "The 2 standard deviation confidence interval for the option price is: \n",
      "0.0012472125621544347 0.0012499451592528094\n",
      "The distance to the closed-form value in standard deviations is:\n",
      "0.7824468576251532\n"
     ]
    }
   ],
   "source": [
    "n = 10000000\n",
    "MC, MCstd = LMMCapletMC(F,lvl,sgm,T1,T2,capfloor,discount,n)\n",
    "print('The MC estimate for the option price is: ')\n",
    "print(MC)\n",
    "print('The 2 standard deviation confidence interval for the option price is: ')\n",
    "print(MC-2*MCstd,MC+2*MCstd)\n",
    "print('The distance to the closed-form value in standard deviations is:')\n",
    "print((MC-caplet)/MCstd)"
   ]
  },
  {
   "cell_type": "markdown",
   "metadata": {},
   "source": [
    "<hr style=\"height:5px;border:none;color:#333;background-color:#333;\" />\n",
    "<h1>3. Monte Carlo simulation under the terminal measure.</h1>\n",
    "Under the terminal measure (i.e., the forward measure to $T_N$), $L(t,T_{N-1})$ is a lognormal martingale and its dynamics can be discretised as\n",
    "$$\n",
    "L(t+\\Delta t,T_{N-1})=L(t,T_{N-1})\\exp\\left\\{-\\frac12\\lambda^2(t,T_i)\\Delta t+\\lambda(t,T_i)\\Delta W_{T_{N}}(t)\\right\\}\n",
    "$$\n",
    "where $\\Delta W_{T_{i+1}}(t)$ is a vector of $d$ independent, normally distributed random variables with mean zero and variance $\\Delta t$.\n",
    "\n",
    "For the other rates $L(t,T_i)$, with $N>i+1$, we need implement a level-dependent drift, discretising the dynamics by\n",
    "$$\n",
    "L(t+\\Delta t,T_i)=L(t,T_i)\\exp\\left\\{-\\left(\\frac12\\lambda^2(t,T_i)+\\sum_{k=i+1}^{N-1}\\gamma(t,T_k,T_{k+1})\\lambda(t,T_i)\\right)\\Delta t+\\lambda(t,T_i)\\Delta W_{T_{N}}(t)\\right\\}\n",
    "$$\n",
    "with\n",
    "$$\n",
    "\\gamma(t,T_i,T_{i+1})=\\frac{(T_{i+1}-T_i)L(t,T_i)}{1+(T_{i+1}-T_i)L(t,T_i)}\\lambda(t,T_i)\n",
    "$$\n",
    "The function <code>LMMMCTM()</code> takes as arguments:\n",
    "<UL>\n",
    "    <LI><code>F</code>, the vector containing all initial forward rates $L(0,T_i)$, $0\\leq i<N$.</LI>\n",
    "    <LI>The constant volatility $\\lambda(t,T)$<code>=sgm</code>, which is a $d$-dimensional vector.</LI>\n",
    "    <LI><code>tenor</code>, the vector containing the maturity time grid of the $T_i$, $0\\leq i\\leq N$. Note that in the present case, this is also the grid of calendar time steps for the simulation.</LI>\n",
    "    <LI>The number of simulations <code>n</code>.</LI>\n",
    "    <LI><code>discounted_payoff</code>, a function which calculates the payoff of the derivative financial instrument that we are trying to price, given a simulated path of forward rates <code>simF</code> and <code>num</code>, a vector  of values of the numeraire at each time point of the simulation.</LI>\n",
    "    </UL>\n",
    "Note that <code>simF</code> is a matrix, where the $\\ell$-th row represents the path of the $\\ell$-th forward rate $L(t,T_{\\ell})$ and the $j$-th column represents all forward rates at time $T_j$.\n",
    "\n",
    "The function is implemented using explicit <code>for</code> loops, so we need to use JIT to make it reasonably fast:"
   ]
  },
  {
   "cell_type": "code",
   "execution_count": 5,
   "metadata": {},
   "outputs": [],
   "source": [
    "# simulation under the terminal measure, tenor steps only\n",
    "@jit(nopython=True)\n",
    "def LMMMCTM(F,sgm,tenor,n,discounted_payoff):\n",
    "    dim     = sgm.shape[0] # number of driving Brownian motions\n",
    "    m       = len(F)\n",
    "    sgm2    = np.transpose(sgm) @ sgm # matrix multiplication operator\n",
    "    tau     = tenor[1:]-tenor[:-1]\n",
    "    sqrtau  = np.sqrt(tau)\n",
    "    mu      = np.zeros(dim)\n",
    "    num     = np.ones(m) # numeraire values\n",
    "    for j in range(0,m):\n",
    "        num[0] /= 1.0+tau[j]*F[j]\n",
    "    simF      = np.zeros((m,m)) # maturities x calendar time\n",
    "    simF[:,0] = F\n",
    "    acc = 0.0\n",
    "    acc2 = 0.0\n",
    "    for i in range(0,n): # loop over paths\n",
    "        for j in range(1,m): # tenor steps\n",
    "            w = np.random.standard_normal(dim)*sqrtau[j-1]\n",
    "            mu[:] = 0.0\n",
    "            simF[-1,j] = simF[-1,j-1]*np.exp(-0.5*sgm2[-1,-1]*tau[j-1]+np.sum(sgm[:,-1]*w))\n",
    "            for l in range(m-2,j-1,-1):\n",
    "                mu -= sgm[:,l+1]*tau[l+1]*simF[l+1,j-1]/(1.0+tau[l+1]*simF[l+1,j-1])\n",
    "                simF[l,j] = simF[l,j-1]*np.exp((np.sum(mu*sgm[:,l])-0.5*sgm2[l,l])*tau[j-1]+np.sum(sgm[:,l]*w))\n",
    "            num[j] = 1.0\n",
    "            for l in range(j,m):\n",
    "                num[j] /= 1.0+tau[l]*simF[l,j]\n",
    "        payoff = discounted_payoff(simF,num)\n",
    "        acc = acc + payoff\n",
    "        acc2 = acc2 + payoff*payoff\n",
    "    MC = num[0]*acc/n\n",
    "    MCstd = num[0]*np.sqrt(acc2/n-acc*acc/n**2)/np.sqrt(n)\n",
    "    print(simF[:,0])\n",
    "    return MC, MCstd"
   ]
  },
  {
   "cell_type": "markdown",
   "metadata": {},
   "source": [
    "Now we need to define instances of the <code>discounted_payoff</code> function. Let us assume that $\\delta=0.25$ (so if $\\delta\\not=0.25$, this would have to be redefined). The first instance calculates the payoff of the final caplet, i.e. with payoff occuring at $T_N$. In <code>LMMMCTM()</code>, the simulation ends in $T_{N-1}$, so we discount the payoff from $T_N$ to $T_{N-1}$ and then divide by the value of the numeraire at time $T_{N-1}$:"
   ]
  },
  {
   "cell_type": "code",
   "execution_count": 6,
   "metadata": {},
   "outputs": [],
   "source": [
    "@jit(nopython=True)\n",
    "def MCpayoff_caplet(simF,num):\n",
    "    # end-of-period payoff discounted to beginning-of-period\n",
    "    payoff = 0.25*(simF[-1,-1]-0.05)/(1.0+0.25*simF[-1,-1])\n",
    "    return payoff*(payoff>0)/num[-1]"
   ]
  },
  {
   "cell_type": "markdown",
   "metadata": {},
   "source": [
    "The following instance calculates the payoff of a caplet on $L(T_5,T_5)$:"
   ]
  },
  {
   "cell_type": "code",
   "execution_count": 7,
   "metadata": {},
   "outputs": [],
   "source": [
    "@jit(nopython=True)\n",
    "def MCpayoff_caplet2(simF,num):\n",
    "    i = 5\n",
    "    payoff = 0.25*(simF[i,i]-0.05)/(1.0+0.25*simF[i,i])\n",
    "    return payoff*(payoff>0)/num[i]"
   ]
  },
  {
   "cell_type": "markdown",
   "metadata": {},
   "source": [
    "The following instance calculates the payoff of a caplet on $L(T_3,T_3)$:"
   ]
  },
  {
   "cell_type": "code",
   "execution_count": 8,
   "metadata": {},
   "outputs": [],
   "source": [
    "@jit(nopython=True)\n",
    "def MCpayoff_caplet3(simF,num):\n",
    "    i = 3\n",
    "    payoff = 0.25*(simF[i,i]-0.05)/(1.0+0.25*simF[i,i])\n",
    "    return payoff*(payoff>0)/num[i]"
   ]
  },
  {
   "cell_type": "markdown",
   "metadata": {},
   "source": [
    "Testing the terminal caplet with 1.6 million simulations:"
   ]
  },
  {
   "cell_type": "code",
   "execution_count": 12,
   "metadata": {},
   "outputs": [
    {
     "name": "stdout",
     "output_type": "stream",
     "text": [
      "The analytical caplet price is:  0.0012480443327004273\n",
      "[0.05 0.05 0.05 0.05 0.05 0.05 0.05]\n",
      "0.9167159269066227\n",
      "The MC estimate for the option price is: \n",
      "0.0012461644523552092\n",
      "The 2 standard deviation confidence interval for the option price is: \n",
      "0.0012427564838249944 0.001249572420885424\n",
      "The distance to the closed-form value in standard deviations is:\n",
      "-1.1032263523276777\n"
     ]
    }
   ],
   "source": [
    "F = 0.05\n",
    "lvl = 0.05\n",
    "sgm = np.array([0.1,0.2])\n",
    "T1 = 1.5\n",
    "T2 = 1.75\n",
    "capfloor = 1\n",
    "discount = (1+(T2-T1)*F)**(-T2/(T2-T1))\n",
    "caplet = BlackCaplet(F,lvl,sgm,T1,T2,capfloor,discount)\n",
    "print(\"The analytical caplet price is: \",caplet)\n",
    "T = np.array([0.0,0.25,0.5,0.75,1.,1.25,1.5,1.75])\n",
    "F = np.ones(len(T)-1)*0.05\n",
    "newsgm = np.ones((2,len(F)))\n",
    "newsgm[0,:] = 0.1\n",
    "newsgm[1,:] = 0.2\n",
    "MC, MCstd = LMMMCTM(F,newsgm,T,1600000,MCpayoff_caplet)\n",
    "print((1+0.25*0.05)**(-1.75/0.25))\n",
    "print('The MC estimate for the option price is: ')\n",
    "print(MC)\n",
    "print('The 2 standard deviation confidence interval for the option price is: ')\n",
    "print(MC-2*MCstd,MC+2*MCstd)\n",
    "print('The distance to the closed-form value in standard deviations is:')\n",
    "print((MC-caplet)/MCstd)"
   ]
  },
  {
   "cell_type": "markdown",
   "metadata": {},
   "source": [
    "The result lies within the confidence bounds. Similarly, we obtain for the other two example payoffs:"
   ]
  },
  {
   "cell_type": "code",
   "execution_count": 13,
   "metadata": {},
   "outputs": [
    {
     "name": "stdout",
     "output_type": "stream",
     "text": [
      "0.0011541442665949945\n",
      "[0.05 0.05 0.05 0.05 0.05 0.05 0.05]\n",
      "0.9397770619428674\n",
      "The MC estimate for the option price is: \n",
      "0.001156428414636433\n",
      "The 2 standard deviation confidence interval for the option price is: \n",
      "0.0011532986927369905 0.0011595581365358755\n",
      "The distance to the closed-form value in standard deviations is:\n",
      "1.4596492051548218\n"
     ]
    }
   ],
   "source": [
    "F = 0.05\n",
    "lvl = 0.05\n",
    "sgm = np.array([0.1,0.2])\n",
    "T1 = 1.25\n",
    "T2 = 1.5\n",
    "capfloor = 1\n",
    "discount = (1+(T2-T1)*F)**(-T2/(T2-T1))\n",
    "caplet = BlackCaplet(F,lvl,sgm,T1,T2,capfloor,discount)\n",
    "print(caplet)\n",
    "T = np.array([0.0,0.25,0.5,0.75,1.,1.25,1.5,1.75])\n",
    "F = np.ones(len(T)-1)*0.05\n",
    "newsgm = np.ones((2,len(F)))\n",
    "newsgm[0,:] = 0.1\n",
    "newsgm[1,:] = 0.2\n",
    "MC, MCstd = LMMMCTM(F,newsgm,T,1600000,MCpayoff_caplet2)\n",
    "print((1+0.25*0.05)**(-1.25/0.25))\n",
    "print('The MC estimate for the option price is: ')\n",
    "print(MC)\n",
    "print('The 2 standard deviation confidence interval for the option price is: ')\n",
    "print(MC-2*MCstd,MC+2*MCstd)\n",
    "print('The distance to the closed-form value in standard deviations is:')\n",
    "print((MC-caplet)/MCstd)"
   ]
  },
  {
   "cell_type": "code",
   "execution_count": 14,
   "metadata": {},
   "outputs": [
    {
     "name": "stdout",
     "output_type": "stream",
     "text": [
      "0.0009174394776697413\n",
      "[0.05 0.05 0.05 0.05 0.05 0.05 0.05]\n",
      "0.9397770619428674\n",
      "The MC estimate for the option price is: \n",
      "0.0009179748542818702\n",
      "The 2 standard deviation confidence interval for the option price is: \n",
      "0.0009155638888549782 0.0009203858197087621\n",
      "The distance to the closed-form value in standard deviations is:\n",
      "0.4441180335124815\n"
     ]
    }
   ],
   "source": [
    "F = 0.05\n",
    "lvl = 0.05\n",
    "sgm = np.array([0.1,0.2])\n",
    "T1 = 0.75\n",
    "T2 = 1.0\n",
    "capfloor = 1\n",
    "discount = (1+(T2-T1)*F)**(-T2/(T2-T1))\n",
    "caplet = BlackCaplet(F,lvl,sgm,T1,T2,capfloor,discount)\n",
    "print(caplet)\n",
    "T = np.array([0.0,0.25,0.5,0.75,1.,1.25,1.5,1.75])\n",
    "F = np.ones(len(T)-1)*0.05\n",
    "newsgm = np.ones((2,len(F)))\n",
    "newsgm[0,:] = 0.1\n",
    "newsgm[1,:] = 0.2\n",
    "MC, MCstd = LMMMCTM(F,newsgm,T,1600000,MCpayoff_caplet3)\n",
    "print((1+0.25*0.05)**(-1.25/0.25))\n",
    "print('The MC estimate for the option price is: ')\n",
    "print(MC)\n",
    "print('The 2 standard deviation confidence interval for the option price is: ')\n",
    "print(MC-2*MCstd,MC+2*MCstd)\n",
    "print('The distance to the closed-form value in standard deviations is:')\n",
    "print((MC-caplet)/MCstd)"
   ]
  },
  {
   "cell_type": "markdown",
   "metadata": {},
   "source": [
    "<hr style=\"height:5px;border:none;color:#333;background-color:#333;\" />\n",
    "<h1>4. Monte Carlo simulation under an arbitrary forward measure.</h1>\n",
    "As before, we are restricting ourselves to calendar time steps which match <code>tenor</code>, i.e. the maturity grid given by the $T_i$. However, we now allow the user to choose under which forward measure the simulation is to be carried out. This is passed to the function <code>LMMMC()</code> in the argument <code>sim_measure</code>, i.e., the simulation is carried out under the $T_{\\text{sim_measure}}$ forward measure.\n",
    "\n",
    "This requires two changes to the previous code:\n",
    "<OL>\n",
    "    <LI>$L(t,T_{\\text{sim_measure}-1})$ is now a martingale, while for other rates $L(t,T_i)$, with <code>sim_measure</code>$>i+1$, we need implement a level-dependent drift, discretising the dynamics by\n",
    "$$\n",
    "L(t+\\Delta t,T_i)=L(t,T_i)\\exp\\left\\{-\\left(\\frac12\\lambda^2(t,T_i)+\\sum_{k=i+1}^{\\text{sim_measure}-1}\\gamma(t,T_k,T_{k+1})\\lambda(t,T_i)\\right)\\Delta t+\\lambda(t,T_i)\\Delta W_{T_{\\text{sim_measure}}}(t)\\right\\}\n",
    "$$\n",
    "        and for <code>sim_measure</code>$<i+1$, \n",
    "        $$\n",
    "        L(t+\\Delta t,T_i)=L(t,T_i)\\exp\\left\\{-\\left(\\frac12\\lambda^2(t,T_i)-\\sum_{k=\\text{sim_measure}}^{i}\\gamma(t,T_k,T_{k+1})\\lambda(t,T_i)\\right)\\Delta t+\\lambda(t,T_i)\\Delta W_{T_{\\text{sim_measure}}}(t)\\right\\}\n",
    "$$\n",
    "        </LI>\n",
    "    <LI>The numeraire of the $T_{\\text{sim_measure}}$ forward measure, $B(t,T_{\\text{sim_measure}})$, matures at time $T_{\\text{sim_measure}}$ with value 1. Thus from $T_{\\text{sim_measure}}$, we need to switch to a numeraire corresponding to the selffinancing strategy of a rolling investment at spot LIBOR. This also means that in each time step beyond $T_{\\text{sim_measure}}$, the simulation proceeds under the \"rolling spot\" measure, which corresponds to the forward measure to the <I>next</I> maturity in the maturity grid. Thus, beyond the initial $T_{\\text{sim_measure}}$, we increment <code>sim_measure</code> by 1 in each time step.</LI>\n",
    "        </OL>\n",
    "Again, we use JIT to speed up the function implemented using explicit loops:"
   ]
  },
  {
   "cell_type": "code",
   "execution_count": 9,
   "metadata": {},
   "outputs": [],
   "source": [
    "# simulation under the arbitrary measure, tenor steps only\n",
    "@jit(nopython=True)\n",
    "def LMMMC(F,sgm,tenor,sim_measure,n,discounted_payoff):\n",
    "    dim     = sgm.shape[0] # number of driving Brownian motions\n",
    "    m       = len(F)\n",
    "    sgm2    = np.transpose(sgm) @ sgm # matrix multiplication operator\n",
    "    tau     = tenor[1:]-tenor[:-1]\n",
    "    sqrtau  = np.sqrt(tau)\n",
    "    mu      = np.zeros(dim)\n",
    "    num     = np.ones(m) # numeraire values\n",
    "    for j in range(0,sim_measure):\n",
    "        num[0] /= 1.0+tau[j]*F[j]\n",
    "    simF      = np.zeros((m,m)) # maturities x calendar time\n",
    "    simF[:,0] = F\n",
    "    acc = 0.0\n",
    "    acc2 = 0.0\n",
    "    for i in range(0,n): # loop over paths\n",
    "        measure = sim_measure\n",
    "        for j in range(1,m): # tenor steps\n",
    "            w = np.random.standard_normal(dim)*sqrtau[j-1]\n",
    "            simF[measure-1,j] = simF[measure-1,j-1]*np.exp(-0.5*sgm2[measure-1,measure-1]*tau[j-1]+np.sum(sgm[:,measure-1]*w))\n",
    "            mu[:] = 0.0\n",
    "            for l in range(measure-2,j-1,-1):\n",
    "                mu -= sgm[:,l+1]*tau[l+1]*simF[l+1,j-1]/(1.0+tau[l+1]*simF[l+1,j-1])\n",
    "                simF[l,j] = simF[l,j-1]*np.exp((np.sum(mu*sgm[:,l])-0.5*sgm2[l,l])*tau[j-1]+np.sum(sgm[:,l]*w))\n",
    "            mu[:] = 0.0\n",
    "            for l in range(measure,m):\n",
    "                mu += sgm[:,l]*tau[l]*simF[l,j-1]/(1.0+tau[l]*simF[l,j-1])\n",
    "                simF[l,j] = simF[l,j-1]*np.exp((np.sum(mu*sgm[:,l])-0.5*sgm2[l,l])*tau[j-1]+np.sum(sgm[:,l]*w))\n",
    "            if (measure==j): # here we are under the rolling spot measure \n",
    "                num[j] = num[j-1] * (1.0+tau[j-1]*simF[j-1,j-1])\n",
    "                measure += 1\n",
    "            else:            # here we are still under the initial forward measure selected by the user\n",
    "                num[j] = 1.0\n",
    "                for l in range(j,measure):\n",
    "                    num[j] /= 1.0+tau[l]*simF[l,j]\n",
    "        payoff = discounted_payoff(simF,num)\n",
    "        acc = acc + payoff\n",
    "        acc2 = acc2 + payoff*payoff\n",
    "    MC = num[0]*acc/n\n",
    "    MCstd = num[0]*np.sqrt(acc2/n-acc*acc/n**2)/np.sqrt(n)\n",
    "    return MC, MCstd"
   ]
  },
  {
   "cell_type": "markdown",
   "metadata": {},
   "source": [
    "Pricing the terminal caplet under the terminal measure (i.e., the $T_7$ forward measure) using the new routine:"
   ]
  },
  {
   "cell_type": "code",
   "execution_count": 16,
   "metadata": {},
   "outputs": [
    {
     "name": "stdout",
     "output_type": "stream",
     "text": [
      "0.0012480443327004273\n",
      "0.9167159269066227\n",
      "The MC estimate for the option price is: \n",
      "0.0012483191407637656\n",
      "The 2 standard deviation confidence interval for the option price is: \n",
      "0.0012458238349930674 0.0012508144465344638\n",
      "The distance to the closed-form value in standard deviations is:\n",
      "0.22026003110740017\n"
     ]
    }
   ],
   "source": [
    "F = 0.05\n",
    "lvl = 0.05\n",
    "sgm = np.array([0.1,0.2])\n",
    "T1 = 1.5\n",
    "T2 = 1.75\n",
    "capfloor = 1\n",
    "discount = (1+(T2-T1)*F)**(-T2/(T2-T1))\n",
    "caplet = BlackCaplet(F,lvl,sgm,T1,T2,capfloor,discount)\n",
    "print(caplet)\n",
    "T = np.array([0.0,0.25,0.5,0.75,1.,1.25,1.5,1.75])\n",
    "F = np.ones(len(T)-1)*0.05\n",
    "newsgm = np.ones((2,len(F)))\n",
    "newsgm[0,:] = 0.1\n",
    "newsgm[1,:] = 0.2\n",
    "MC, MCstd = LMMMC(F,newsgm,T,7,3000000,MCpayoff_caplet)\n",
    "print((1+0.25*0.05)**(-1.75/0.25))\n",
    "print('The MC estimate for the option price is: ')\n",
    "print(MC)\n",
    "print('The 2 standard deviation confidence interval for the option price is: ')\n",
    "print(MC-2*MCstd,MC+2*MCstd)\n",
    "print('The distance to the closed-form value in standard deviations is:')\n",
    "print((MC-caplet)/MCstd)"
   ]
  },
  {
   "cell_type": "markdown",
   "metadata": {},
   "source": [
    "Terminal caplet under the $T_6$ forward measure:"
   ]
  },
  {
   "cell_type": "code",
   "execution_count": 17,
   "metadata": {},
   "outputs": [
    {
     "name": "stdout",
     "output_type": "stream",
     "text": [
      "0.0012480443327004273\n",
      "0.9167159269066227\n",
      "The MC estimate for the option price is: \n",
      "0.0012504817962880742\n",
      "The 2 standard deviation confidence interval for the option price is: \n",
      "0.0012479980652627778 0.0012529655273133707\n",
      "The distance to the closed-form value in standard deviations is:\n",
      "1.9627436005120067\n"
     ]
    }
   ],
   "source": [
    "F = 0.05\n",
    "lvl = 0.05\n",
    "sgm = np.array([0.1,0.2])\n",
    "T1 = 1.5\n",
    "T2 = 1.75\n",
    "capfloor = 1\n",
    "discount = (1+(T2-T1)*F)**(-T2/(T2-T1))\n",
    "caplet = BlackCaplet(F,lvl,sgm,T1,T2,capfloor,discount)\n",
    "print(caplet)\n",
    "T = np.array([0.0,0.25,0.5,0.75,1.,1.25,1.5,1.75])\n",
    "F = np.ones(len(T)-1)*0.05\n",
    "newsgm = np.ones((2,len(F)))\n",
    "newsgm[0,:] = 0.1\n",
    "newsgm[1,:] = 0.2\n",
    "MC, MCstd = LMMMC(F,newsgm,T,6,3000000,MCpayoff_caplet)\n",
    "print((1+0.25*0.05)**(-1.75/0.25))\n",
    "print('The MC estimate for the option price is: ')\n",
    "print(MC)\n",
    "print('The 2 standard deviation confidence interval for the option price is: ')\n",
    "print(MC-2*MCstd,MC+2*MCstd)\n",
    "print('The distance to the closed-form value in standard deviations is:')\n",
    "print((MC-caplet)/MCstd)"
   ]
  },
  {
   "cell_type": "markdown",
   "metadata": {},
   "source": [
    "And now the terminal caplet under the rolling spot measure from the start:"
   ]
  },
  {
   "cell_type": "code",
   "execution_count": 11,
   "metadata": {},
   "outputs": [
    {
     "name": "stdout",
     "output_type": "stream",
     "text": [
      "0.0012480443327004273\n",
      "0.9167159269066227\n",
      "The MC estimate for the option price is: \n",
      "0.0012467460308138974\n",
      "The 2 standard deviation confidence interval for the option price is: \n",
      "0.00124429496447053 0.0012491970971572647\n",
      "The distance to the closed-form value in standard deviations is:\n",
      "-1.0593771890697368\n"
     ]
    }
   ],
   "source": [
    "F = 0.05\n",
    "lvl = 0.05\n",
    "sgm = np.array([0.1,0.2])\n",
    "T1 = 1.5\n",
    "T2 = 1.75\n",
    "capfloor = 1\n",
    "discount = (1+(T2-T1)*F)**(-T2/(T2-T1))\n",
    "caplet = BlackCaplet(F,lvl,sgm,T1,T2,capfloor,discount)\n",
    "print(caplet)\n",
    "T = np.array([0.0,0.25,0.5,0.75,1.,1.25,1.5,1.75])\n",
    "F = np.ones(len(T)-1)*0.05\n",
    "newsgm = np.ones((2,len(F)))\n",
    "newsgm[0,:] = 0.1\n",
    "newsgm[1,:] = 0.2\n",
    "MC, MCstd = LMMMC(F,newsgm,T,1,3000000,MCpayoff_caplet)\n",
    "print((1+0.25*0.05)**(-1.75/0.25))\n",
    "print('The MC estimate for the option price is: ')\n",
    "print(MC)\n",
    "print('The 2 standard deviation confidence interval for the option price is: ')\n",
    "print(MC-2*MCstd,MC+2*MCstd)\n",
    "print('The distance to the closed-form value in standard deviations is:')\n",
    "print((MC-caplet)/MCstd)"
   ]
  },
  {
   "cell_type": "markdown",
   "metadata": {},
   "source": [
    "<hr style=\"height:5px;border:none;color:#333;background-color:#333;\" />\n",
    "<h1>5. Refining the calendar time discretisation.</h1>\n",
    "In the next generalisation of the code, we want to allow the user to specify <code>steps</code>, the number of calendar time steps to take between each $T_j$ and $T_{j+1}$ in the tenor grid. Thus, within each tenor step from $T_j$ to $T_{j+1}$, we have a loop <code>for k in range(0,steps)</code>, where we take time steps of length <code>dt</code>$=\\Delta t=(T_{j+1}-T_j)/$<code>steps</code>. Other than this change in the time step size, the code evolving the forward LIBORs in <code>simF</code> remains unchanged. \n",
    "\n",
    "For the numeraire, however, some care needs to be taken to ensure consistency with our chosen \"interpolation by daycount fractions\". When <code>measure==j</code>, we are under the rolling spot measure, so we propagate the numeraire value from time $T_j$ to time $T_j+k\\Delta t$ by accruing interest at a simple compounded rate $k\\Delta t L(T_j,T_j)$, i.e., the numeraire at time $T_j+k\\Delta t$ is equal to the numeraire at time $T_j$ times\n",
    "$$\n",
    "1+k\\Delta t L(T_j,T_j)\n",
    "$$\n",
    "On the other hand, if <code>measure>j</code>, we are under the $T_{\\text{measure}}$ forward measure, so the numeraire at time $T_j+k\\Delta t$ is the zero coupon bond $B(T_j+k\\Delta t,T_{\\text{measure}})$, which under interpolation by daycount fractions is\n",
    "$$\n",
    "B(T_j+k\\Delta t,T_{\\text{measure}})=\\frac{1+k\\Delta t L(T_j,T_j)}{1+(T_{j+1}-T_j)L(T_j,T_j)}\\prod_{\\ell=j+1}^{\\text{measure}-1}(1+(T_{\\ell+1}-T_{\\ell})L(T_j+k\\Delta t,T_{\\ell}))^{-1}\n",
    "$$"
   ]
  },
  {
   "cell_type": "code",
   "execution_count": 48,
   "metadata": {},
   "outputs": [],
   "source": [
    "# simulation under an arbitrary measure, with time refinement\n",
    "@jit(nopython=True)\n",
    "def LMMMCsteps(F,sgm,tenor,sim_measure,n,discounted_payoff,steps):\n",
    "    dim     = sgm.shape[0] # number of driving Brownian motions\n",
    "    m       = len(F)\n",
    "    sgm2    = np.transpose(sgm) @ sgm # matrix multiplication operator\n",
    "    tau     = tenor[1:]-tenor[:-1]\n",
    "    sqrtau  = np.sqrt(tau)\n",
    "    mu      = np.zeros(dim)\n",
    "    num     = np.ones((m-1)*steps+1) # numeraire values\n",
    "    for j in range(0,sim_measure):\n",
    "        num[0] /= 1.0+tau[j]*F[j]\n",
    "    simF      = np.zeros((m,(m-1)*steps+1)) # maturities x calendar time\n",
    "    simF[:,0] = F\n",
    "    acc = 0.0\n",
    "    acc2 = 0.0\n",
    "    for i in range(0,n): # loop over paths\n",
    "        measure = sim_measure\n",
    "        idx = 1\n",
    "        for j in range(1,m): # tenor steps\n",
    "            dt      = tau[j-1]/steps\n",
    "            L       = simF[j-1,idx-1] \n",
    "            prevnum = num[idx-1]\n",
    "            for k in range(0,steps):\n",
    "                w = np.random.standard_normal(dim)*np.sqrt(dt)\n",
    "                simF[measure-1,idx] = simF[measure-1,idx-1]*np.exp(-0.5*sgm2[measure-1,measure-1]*dt+np.sum(sgm[:,measure-1]*w))\n",
    "                mu[:] = 0.0\n",
    "                for l in range(measure-2,j-1,-1):\n",
    "                    mu -= sgm[:,l+1]*tau[l+1]*simF[l+1,idx-1]/(1.0+tau[l+1]*simF[l+1,idx-1])\n",
    "                    simF[l,idx] = simF[l,idx-1]*np.exp((np.sum(mu*sgm[:,l])-0.5*sgm2[l,l])*dt+np.sum(sgm[:,l]*w))\n",
    "                mu[:] = 0.0\n",
    "                for l in range(measure,m):\n",
    "                    mu += sgm[:,l]*tau[l]*simF[l,idx-1]/(1.0+tau[l]*simF[l,idx-1])\n",
    "                    simF[l,idx] = simF[l,idx-1]*np.exp((np.sum(mu*sgm[:,l])-0.5*sgm2[l,l])*dt+np.sum(sgm[:,l]*w))\n",
    "                if (measure==j):\n",
    "                    num[idx] = prevnum * (1.0+dt*(k+1)*L)\n",
    "                else:\n",
    "                    num[idx] = (1.0+dt*(k+1)*L)/(1.0+tau[j-1]*L)\n",
    "                    for l in range(j,measure):\n",
    "                        num[idx] /= 1.0+tau[l]*simF[l,idx]\n",
    "                idx += 1\n",
    "            if (measure==j):\n",
    "                measure += 1\n",
    "        payoff = discounted_payoff(simF,num)\n",
    "        acc = acc + payoff\n",
    "        acc2 = acc2 + payoff*payoff\n",
    "    MC = num[0]*acc/n\n",
    "    MCstd = num[0]*np.sqrt(acc2/n-acc*acc/n**2)/np.sqrt(n)\n",
    "    return MC, MCstd"
   ]
  },
  {
   "cell_type": "markdown",
   "metadata": {},
   "source": [
    "Using this code to price the terminal (i.e., $L(T_{39},T_{39})$) caplet under the $T_6$ measure with <code>steps=1</code>, 3 million simulations:"
   ]
  },
  {
   "cell_type": "code",
   "execution_count": 50,
   "metadata": {},
   "outputs": [
    {
     "name": "stdout",
     "output_type": "stream",
     "text": [
      "0.0020761364978965882\n",
      "The MC estimate for the option price is: \n",
      "0.00207282644051674\n",
      "The 2 standard deviation confidence interval for the option price is: \n",
      "0.0020686865716379906 0.0020769663093954897\n",
      "The distance to the closed-form value in standard deviations is:\n",
      "-1.5991121829191854\n"
     ]
    }
   ],
   "source": [
    "F = 0.05\n",
    "lvl = 0.05\n",
    "sgm = np.array([0.1,0.2])\n",
    "T1 = 9.75\n",
    "T2 = 10.0\n",
    "capfloor = 1\n",
    "discount = (1+(T2-T1)*F)**(-T2/(T2-T1))\n",
    "caplet = BlackCaplet(F,lvl,sgm,T1,T2,capfloor,discount)\n",
    "print(caplet)\n",
    "T = np.array([x*0.25 for x in range(0,41)])\n",
    "F = np.ones(len(T)-1)*0.05\n",
    "newsgm = np.ones((2,len(F)))\n",
    "newsgm[0,:] = 0.1\n",
    "newsgm[1,:] = 0.2\n",
    "np.random.seed(912345)\n",
    "MC, MCstd = LMMMCsteps(F,newsgm,T,6,3000000,MCpayoff_caplet,1)\n",
    "print('The MC estimate for the option price is: ')\n",
    "print(MC)\n",
    "print('The 2 standard deviation confidence interval for the option price is: ')\n",
    "print(MC-2*MCstd,MC+2*MCstd)\n",
    "print('The distance to the closed-form value in standard deviations is:')\n",
    "print((MC-caplet)/MCstd)"
   ]
  },
  {
   "cell_type": "markdown",
   "metadata": {},
   "source": [
    "Using this code to price the terminal (i.e., $L(T_{39},T_{39})$) caplet under the terminal measure with <code>steps=8</code>, 300,000 simulations:"
   ]
  },
  {
   "cell_type": "code",
   "execution_count": 51,
   "metadata": {},
   "outputs": [
    {
     "name": "stdout",
     "output_type": "stream",
     "text": [
      "0.0020761364978965882\n",
      "The MC estimate for the option price is: \n",
      "0.002078335545399891\n",
      "The 2 standard deviation confidence interval for the option price is: \n",
      "0.0020606568720512313 0.002096014218748551\n",
      "The distance to the closed-form value in standard deviations is:\n",
      "0.24877969742788303\n"
     ]
    }
   ],
   "source": [
    "F = 0.05\n",
    "lvl = 0.05\n",
    "sgm = np.array([0.1,0.2])\n",
    "T1 = 9.75\n",
    "T2 = 10.0\n",
    "capfloor = 1\n",
    "discount = (1+(T2-T1)*F)**(-T2/(T2-T1))\n",
    "caplet = BlackCaplet(F,lvl,sgm,T1,T2,capfloor,discount)\n",
    "print(caplet)\n",
    "T = np.array([x*0.25 for x in range(0,41)])\n",
    "F = np.ones(len(T)-1)*0.05\n",
    "newsgm = np.ones((2,len(F)))\n",
    "newsgm[0,:] = 0.1\n",
    "newsgm[1,:] = 0.2\n",
    "np.random.seed(912345)\n",
    "MC, MCstd = LMMMCsteps(F,newsgm,T,40,300000,MCpayoff_caplet,8)\n",
    "print('The MC estimate for the option price is: ')\n",
    "print(MC)\n",
    "print('The 2 standard deviation confidence interval for the option price is: ')\n",
    "print(MC-2*MCstd,MC+2*MCstd)\n",
    "print('The distance to the closed-form value in standard deviations is:')\n",
    "print((MC-caplet)/MCstd)"
   ]
  },
  {
   "cell_type": "markdown",
   "metadata": {},
   "source": [
    "Define a payoff for the caplet on $L(T_{38},T_{38})$ under the assumption that `steps=16`:"
   ]
  },
  {
   "cell_type": "code",
   "execution_count": 53,
   "metadata": {},
   "outputs": [],
   "source": [
    "@jit(nopython=True)\n",
    "def MCpayoff38(simF,num):\n",
    "    j = 38\n",
    "    i = 608\n",
    "    payoff = 0.25*(simF[j,i]-0.05)/(1.0+0.25*simF[j,i])\n",
    "    #print(simF[i,i],payoff)\n",
    "    return payoff*(payoff>0)/num[i]"
   ]
  },
  {
   "cell_type": "markdown",
   "metadata": {},
   "source": [
    "Price this caplet using 300,000 simulations:"
   ]
  },
  {
   "cell_type": "code",
   "execution_count": 54,
   "metadata": {},
   "outputs": [
    {
     "name": "stdout",
     "output_type": "stream",
     "text": [
      "0.0020760270953254683\n",
      "The MC estimate for the option price is: \n",
      "0.0020795844389894782\n",
      "The 2 standard deviation confidence interval for the option price is: \n",
      "0.0020664238993334666 0.00209274497864549\n",
      "The distance to the closed-form value in standard deviations is:\n",
      "0.5406075673173512\n"
     ]
    }
   ],
   "source": [
    "F = 0.05\n",
    "lvl = 0.05\n",
    "sgm = np.array([0.1,0.2])\n",
    "T1 = 9.5\n",
    "T2 = 9.75\n",
    "capfloor = 1\n",
    "discount = (1+(T2-T1)*F)**(-T2/(T2-T1))\n",
    "caplet = BlackCaplet(F,lvl,sgm,T1,T2,capfloor,discount)\n",
    "print(caplet)\n",
    "T = np.array([x*0.25 for x in range(0,41)])\n",
    "F = np.ones(len(T)-1)*0.05\n",
    "newsgm = np.ones((2,len(F)))\n",
    "newsgm[0,:] = 0.1\n",
    "newsgm[1,:] = 0.2\n",
    "np.random.seed(912345)\n",
    "steps = 16\n",
    "MC, MCstd = LMMMCsteps(F,newsgm,T,1,300000,MCpayoff38,steps)\n",
    "print('The MC estimate for the option price is: ')\n",
    "print(MC)\n",
    "print('The 2 standard deviation confidence interval for the option price is: ')\n",
    "print(MC-2*MCstd,MC+2*MCstd)\n",
    "print('The distance to the closed-form value in standard deviations is:')\n",
    "print((MC-caplet)/MCstd)"
   ]
  },
  {
   "cell_type": "markdown",
   "metadata": {},
   "source": [
    "<hr style=\"height:5px;border:none;color:#333;background-color:#333;\" />\n",
    "<h1>6. Implied volatilities of \"broken date\" caplets.</h1>\n",
    "Suppose we wish to calculate the prices of caplets on each $L(T_j+k\\Delta t,T_j+k\\Delta t)$ for $0\\leq k\\leq$<code>steps</code>, i.e. a total of <code>steps+1</code> caplets. Note that under the current model assumptions, only two of these caplets (for $k=0$ and $k=$<code>steps</code>) could be exactly priced using the analytical formula. We will price all <code>steps+1</code> caplets by Monte Carlo simulation, but we don't want to run <code>LMMMCsteps()</code> separately for each caplet. Since <code>LMMMCsteps()</code> simulates the entire term structure, we can price all <code>steps+1</code> caplets at once. This requires only a slight modification to <code>LMMMCsteps()</code>: Because now instead of a single payoff, we need to evaluate the expected value and standard deviation of multiple payoffs, we add a further function argument, <code>payoffdim</code>, which gives the number of payoffs on each simulation. Accordingly, <code>acc</code> and <code>acc2</code> (collecting the sum of payoffs and sum of squared payoffs, respectively) are now initialised as arrays of length <code>payoffdim</code>, and the function <code>discounted_payoff</code> must return an array of length <code>payoffdim</code>.\n",
    "\n",
    "First, define the modified simulation routine:"
   ]
  },
  {
   "cell_type": "code",
   "execution_count": 55,
   "metadata": {},
   "outputs": [],
   "source": [
    "# simulation under an arbitrary measure, with time refinement\n",
    "@jit(nopython=True)\n",
    "def LMMMCsteps2(F,sgm,tenor,sim_measure,n,discounted_payoff,payoffdim,steps):\n",
    "    dim     = sgm.shape[0] # number of driving Brownian motions\n",
    "    m       = len(F)\n",
    "    #print(\"m: \",m)\n",
    "    sgm2    = np.transpose(sgm) @ sgm # matrix multiplication operator\n",
    "    tau     = tenor[1:]-tenor[:-1]\n",
    "    sqrtau  = np.sqrt(tau)\n",
    "    mu      = np.zeros(dim)\n",
    "    num     = np.ones((m-1)*steps+1) # numeraire values\n",
    "    for j in range(0,sim_measure):\n",
    "        num[0] /= 1.0+tau[j]*F[j]\n",
    "    simF      = np.zeros((m,(m-1)*steps+1)) # maturities x calendar time\n",
    "    simF[:,0] = F\n",
    "    acc = np.zeros(payoffdim)\n",
    "    acc2 = np.zeros(payoffdim)\n",
    "    for i in range(0,n): # loop over paths\n",
    "        measure = sim_measure\n",
    "        idx = 1\n",
    "        for j in range(1,m): # tenor steps\n",
    "            dt      = tau[j-1]/steps\n",
    "            L       = simF[j-1,idx-1] \n",
    "            prevnum = num[idx-1]\n",
    "            for k in range(0,steps):\n",
    "                w = np.random.standard_normal(dim)*np.sqrt(dt)\n",
    "                #if (idx==1):\n",
    "                #    print(w)\n",
    "                simF[measure-1,idx] = simF[measure-1,idx-1]*np.exp(-0.5*sgm2[measure-1,measure-1]*dt+np.sum(sgm[:,measure-1]*w))\n",
    "                mu[:] = 0.0\n",
    "                for l in range(measure-2,j-1,-1):\n",
    "                    mu -= sgm[:,l+1]*tau[l+1]*simF[l+1,idx-1]/(1.0+tau[l+1]*simF[l+1,idx-1])\n",
    "                    simF[l,idx] = simF[l,idx-1]*np.exp((np.sum(mu*sgm[:,l])-0.5*sgm2[l,l])*dt+np.sum(sgm[:,l]*w))\n",
    "                mu[:] = 0.0\n",
    "                for l in range(measure,m):\n",
    "                    #print(l,m)\n",
    "                    mu += sgm[:,l]*tau[l]*simF[l,idx-1]/(1.0+tau[l]*simF[l,idx-1])\n",
    "                    simF[l,idx] = simF[l,idx-1]*np.exp((np.sum(mu*sgm[:,l])-0.5*sgm2[l,l])*dt+np.sum(sgm[:,l]*w))\n",
    "                if (measure==j):\n",
    "                    num[idx] = prevnum * (1.0+dt*(k+1)*L)\n",
    "                    #measure += 1\n",
    "                    #print(\"Measure: \",measure,\" j: \",j)\n",
    "                else:\n",
    "                    num[idx] = (1.0+dt*(k+1)*L)/(1.0+tau[j-1]*L)\n",
    "                    for l in range(j,measure):\n",
    "                        num[idx] /= 1.0+tau[l]*simF[l,idx]\n",
    "                idx += 1\n",
    "            if (measure==j):\n",
    "                measure += 1\n",
    "        payoff = discounted_payoff(simF,num)\n",
    "        acc = acc + payoff\n",
    "        acc2 = acc2 + payoff*payoff\n",
    "    MC = num[0]*acc/n\n",
    "    MCstd = num[0]*np.sqrt(acc2/n-acc*acc/n**2)/np.sqrt(n)\n",
    "    return MC, MCstd"
   ]
  },
  {
   "cell_type": "markdown",
   "metadata": {},
   "source": [
    "Under the assumption that $j=38$ and `steps=16`, the following function returns the payoffs of the 17 caplets for a single simulation. As explained in the lecture segment <I>Monte Carlo simulation in the lognormal LIBOR Market Model</I>, the realisation of the rate $L(T,T)$ underlying a caplet can be calculated from the corresponding zero coupon bond price by\n",
    "$$\n",
    "L(T,T)=\\frac1{\\delta}(B(T,T+\\delta)^{-1}-1)\n",
    "$$\n",
    "where under interpolation by daycount fractions the zero coupon bond price is\n",
    "$$\n",
    "B(T,T+\\delta)=\\frac{1+(T_{\\eta(T+\\delta)}-(T+\\delta))L(T,T_{\\eta(T)})}{1+(T_{\\eta(T)}-T)L(T_{\\eta(T)-1},T_{\\eta(T)-1})}(1+(T_{\\eta(T)+1}-T_{\\eta(T)}) L(T,T_{\\eta(T)}))^{-1}\n",
    "$$\n",
    "with\n",
    "$$\n",
    "\\eta(t)=\\max\\{i\\in\\{0,\\ldots,N\\}|T_{i-1}<t\\}\n",
    "$$"
   ]
  },
  {
   "cell_type": "code",
   "execution_count": 56,
   "metadata": {},
   "outputs": [],
   "source": [
    "@jit(nopython=True)\n",
    "def MCpayoff_brokendate2(simF,num):\n",
    "    j = 38\n",
    "    i = 608\n",
    "    payoff = np.zeros(17)\n",
    "    prevLIBOR = simF[j,i]\n",
    "    for k in range(0,17):\n",
    "        nextLIBOR = simF[j+1,i+k]\n",
    "        bond      = (1+(16-k)*0.25/16*nextLIBOR)/(1+(16-k)*0.25/16*prevLIBOR)*1./(1+0.25*nextLIBOR)\n",
    "        rate      = (1./bond-1.)/0.25\n",
    "        payoff[k] = 0.25*(rate-0.05)*bond/num[i+k]\n",
    "    return payoff*(payoff>0)"
   ]
  },
  {
   "cell_type": "markdown",
   "metadata": {},
   "source": [
    "Calculate the Monte Carlo prices and standard deviations using 300,000 simulations:"
   ]
  },
  {
   "cell_type": "code",
   "execution_count": 57,
   "metadata": {},
   "outputs": [
    {
     "name": "stdout",
     "output_type": "stream",
     "text": [
      "0.0020760270953254683\n",
      "0.0020761364978965882\n",
      "The MC estimate for the option price is: \n",
      "[0.00207835 0.0020766  0.00207499 0.00207338 0.00207197 0.00207075\n",
      " 0.00206962 0.0020689  0.00206831 0.00206814 0.00206827 0.002069\n",
      " 0.0020705  0.00207254 0.00207449 0.0020782  0.00208152]\n",
      "The 2 standard deviation confidence interval for the option price is: \n",
      "[0.00206522 0.0020635  0.00206191 0.00206032 0.00205894 0.00205773\n",
      " 0.00205662 0.00205591 0.00205534 0.00205517 0.0020553  0.00205603\n",
      " 0.00205752 0.00205955 0.00206148 0.00206516 0.00206844] [0.00209148 0.0020897  0.00208807 0.00208644 0.00208501 0.00208376\n",
      " 0.00208262 0.00208189 0.00208129 0.00208111 0.00208124 0.00208196\n",
      " 0.00208348 0.00208554 0.00208751 0.00209125 0.0020946 ]\n"
     ]
    }
   ],
   "source": [
    "F = 0.05\n",
    "lvl = 0.05\n",
    "sgm = np.array([0.1,0.2])\n",
    "T1 = 9.5\n",
    "T2 = 9.75\n",
    "capfloor = 1\n",
    "discount = (1+(T2-T1)*F)**(-T2/(T2-T1))\n",
    "caplet = BlackCaplet(F,lvl,sgm,T1,T2,capfloor,discount)\n",
    "print(caplet)\n",
    "caplet2 = BlackCaplet(F,lvl,sgm,T1+0.25,T2+0.25,capfloor,(1+(T2-T1)*F)**(-(T2+0.25)/(T2-T1)))\n",
    "print(caplet2)\n",
    "T = np.array([x*0.25 for x in range(0,41)])\n",
    "F = np.ones(len(T)-1)*0.05\n",
    "newsgm = np.ones((2,len(F)))\n",
    "newsgm[0,:] = 0.1\n",
    "newsgm[1,:] = 0.2\n",
    "np.random.seed(912345)\n",
    "steps = 16\n",
    "MC, MCstd = LMMMCsteps2(F,newsgm,T,1,300000,MCpayoff_brokendate2,17,steps)\n",
    "print('The MC estimate for the option price is: ')\n",
    "print(MC)\n",
    "print('The 2 standard deviation confidence interval for the option price is: ')\n",
    "print(MC-2*MCstd,MC+2*MCstd)"
   ]
  },
  {
   "cell_type": "markdown",
   "metadata": {},
   "source": [
    "Notice that we now have 17 Monte Carlo prices in `MC` and the 17 corresponding standard deviations in `MCstd`.\n",
    "\n",
    "Define the routines to determine the implied volatilities of caplets using a root search:"
   ]
  },
  {
   "cell_type": "code",
   "execution_count": 58,
   "metadata": {},
   "outputs": [],
   "source": [
    "def BlackCapletSGM(sgm,F,lvl,T1,T2,capfloor,discount,price):\n",
    "    sgmvec = np.array([sgm,])\n",
    "    return price-BlackCaplet(F,lvl,sgmvec,T1,T2,capfloor,discount)\n",
    "\n",
    "def BlackCapletImpVol(F,lvl,T1,T2,capfloor,discount,price):\n",
    "\tsol = optimize.root_scalar(BlackCapletSGM, bracket=[0.0001, 1.0], args=(F,lvl,T1,T2,capfloor,discount,price))\n",
    "\treturn sol.root"
   ]
  },
  {
   "cell_type": "markdown",
   "metadata": {},
   "source": [
    "Now, iterate over the Monte Carlo prices to calculate the implied volatilities. Note that the maturity of each caplet is $T_j+k\\Delta t$ for $0\\leq k<17$."
   ]
  },
  {
   "cell_type": "code",
   "execution_count": 59,
   "metadata": {},
   "outputs": [
    {
     "data": {
      "text/plain": [
       "array([0.22386731, 0.22366779, 0.22348442, 0.22330193, 0.22314192,\n",
       "       0.22300269, 0.22287464, 0.22279291, 0.22272616, 0.22270609,\n",
       "       0.22272024, 0.22280159, 0.22297017, 0.22320012, 0.2234197 ,\n",
       "       0.22383729, 0.22421088])"
      ]
     },
     "execution_count": 59,
     "metadata": {},
     "output_type": "execute_result"
    }
   ],
   "source": [
    "iv  = np.zeros(17)\n",
    "mat = np.zeros(17)\n",
    "for k in range(0,17):\n",
    "    mat[k] = T1+k*0.25/16\n",
    "    iv[k]  = BlackCapletImpVol(0.05,lvl,T1+k*0.25/16,T2+k*0.25/16,capfloor,(1+(T2-T1)*0.05)**(-(T2+0.25/16*k)/(T2-T1)),MC[k])\n",
    "iv"
   ]
  },
  {
   "cell_type": "markdown",
   "metadata": {},
   "source": [
    "Finally, plot the implied volatilities:"
   ]
  },
  {
   "cell_type": "code",
   "execution_count": 61,
   "metadata": {},
   "outputs": [
    {
     "data": {
      "text/plain": [
       "[<matplotlib.lines.Line2D at 0x7f49bc566e50>]"
      ]
     },
     "execution_count": 61,
     "metadata": {},
     "output_type": "execute_result"
    },
    {
     "data": {
      "image/png": "[encoded data removed]",
      "text/plain": [
       "<Figure size 432x288 with 1 Axes>"
      ]
     },
     "metadata": {
      "needs_background": "light"
     },
     "output_type": "display_data"
    }
   ],
   "source": [
    "plt.plot(mat,iv)"
   ]
  },
  {
   "cell_type": "markdown",
   "metadata": {},
   "source": [
    "Here, one notices an interesting effect: Between the two maturities which match the tenor grid (i.e. $k=0$ and $k=17$), the implied volatilities drop and then ris again. This is because of the choice of interpolation: For $k\\geq 1$, the underlying rate $L(T_j+k\\Delta t,T_j+k\\Delta t)$ depends on $L(T_j,T_j)$ and $L(T_j+k\\Delta t,T_{j+1})$, where $L(T_j,T_j)$ is \"dead\", i.e. doesn't evolve stochastically between $T_j$ and $T_j+k\\Delta t$. This can be fixed by artificially letting $L(T_j,T_j)$ evolve beyond $T_j$ (for interpolation purposes only). This so-called \"dead rate simulation\" is introduced in \n",
    "\n",
    "<B>Chung, I.-H., T. Dun and E. Schl&ouml;gl</B> (2010) Lognormal Forward Market Model (LFM) Volatility Function Approximation; in: Chiarella, C. and A. Novikov (Eds.): <I>Contemporary Quantitative Finance - Essays in Honour of Eckhard Platen</I>; Springer Verlag, pp. 369-406."
   ]
  },
  {
   "cell_type": "code",
   "execution_count": null,
   "metadata": {},
   "outputs": [],
   "source": []
  }
 ],
 "metadata": {
  "kernelspec": {
   "display_name": "Python 3",
   "language": "python",
   "name": "python3"
  },
  "language_info": {
   "codemirror_mode": {
    "name": "ipython",
    "version": 3
   },
   "file_extension": ".py",
   "mimetype": "text/x-python",
   "name": "python",
   "nbconvert_exporter": "python",
   "pygments_lexer": "ipython3",
   "version": "3.7.7"
  }
 },
 "nbformat": 4,
 "nbformat_minor": 4
}
