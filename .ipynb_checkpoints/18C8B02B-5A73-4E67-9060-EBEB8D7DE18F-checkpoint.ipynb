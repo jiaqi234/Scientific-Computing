{
 "cells": [
  {
   "cell_type": "code",
   "execution_count": 3,
   "metadata": {
    "collapsed": true
   },
   "outputs": [],
   "source": [
    "import numpy as np\n",
    "from scipy.stats import norm\n",
    "from scipy import optimize\n",
    "import matplotlib.pyplot as plt"
   ]
  },
  {
   "cell_type": "markdown",
   "metadata": {
    "pycharm": {
     "name": "#%% md\n"
    }
   },
   "source": [
    "Q1 (a)"
   ]
  },
  {
   "cell_type": "code",
   "execution_count": 4,
   "metadata": {
    "pycharm": {
     "name": "#%%\n"
    }
   },
   "outputs": [],
   "source": [
    "def BlackCaplet(F,lvl,sgm,T1,T2,capfloor,discount):\n",
    "    sgm2 = np.sum(sgm*sgm)\n",
    "    d1 = (np.log(F/lvl)+(0.5*sgm2)*T1)/(np.sqrt(sgm2*T1))\n",
    "    d2 = d1 - np.sqrt(sgm2*T1)\n",
    "    return capfloor*discount*(T2-T1)*(F*norm.cdf(capfloor*d1)-lvl*norm.cdf(capfloor*d2))\n"
   ]
  },
  {
   "cell_type": "code",
   "execution_count": 5,
   "metadata": {
    "pycharm": {
     "name": "#%%\n"
    }
   },
   "outputs": [
    {
     "name": "stdout",
     "output_type": "stream",
     "text": [
      "0.0012480443327004273\n"
     ]
    }
   ],
   "source": [
    "F = 0.05\n",
    "lvl = 0.05\n",
    "sgm = np.array([0.1,0.2])\n",
    "T1 = 1.5\n",
    "T2 = 1.75\n",
    "capfloor = 1\n",
    "discount = (1+(T2-T1)*F)**(-T2/(T2-T1))\n",
    "caplet = BlackCaplet(F,lvl,sgm,T1,T2,capfloor,discount)\n",
    "print(caplet)"
   ]
  },
  {
   "cell_type": "markdown",
   "metadata": {
    "pycharm": {
     "name": "#%% md\n"
    }
   },
   "source": [
    "Q2 (a)"
   ]
  },
  {
   "cell_type": "code",
   "execution_count": 6,
   "metadata": {
    "pycharm": {
     "name": "#%%\n"
    }
   },
   "outputs": [],
   "source": [
    "import pandas as pd\n",
    "import numpy as np\n",
    "from scipy import optimize\n",
    "from scipy.stats import norm\n",
    "import datetime\n",
    "import matplotlib.pyplot as plt"
   ]
  },
  {
   "cell_type": "code",
   "execution_count": 7,
   "metadata": {
    "pycharm": {
     "name": "#%%\n"
    }
   },
   "outputs": [],
   "source": [
    "df = pd.read_excel(\"spx_quotedata20220218_all.xlsx\")\n"
   ]
  },
  {
   "cell_type": "code",
   "execution_count": 8,
   "metadata": {
    "pycharm": {
     "name": "#%%\n"
    }
   },
   "outputs": [
    {
     "data": {
      "text/html": [
       "<div>\n",
       "<style scoped>\n",
       "    .dataframe tbody tr th:only-of-type {\n",
       "        vertical-align: middle;\n",
       "    }\n",
       "\n",
       "    .dataframe tbody tr th {\n",
       "        vertical-align: top;\n",
       "    }\n",
       "\n",
       "    .dataframe thead th {\n",
       "        text-align: right;\n",
       "    }\n",
       "</style>\n",
       "<table border=\"1\" class=\"dataframe\">\n",
       "  <thead>\n",
       "    <tr style=\"text-align: right;\">\n",
       "      <th></th>\n",
       "      <th>Expiration Date</th>\n",
       "      <th>Calls</th>\n",
       "      <th>Last Sale</th>\n",
       "      <th>Net</th>\n",
       "      <th>Bid</th>\n",
       "      <th>Ask</th>\n",
       "      <th>Volume</th>\n",
       "      <th>IV</th>\n",
       "      <th>Delta</th>\n",
       "      <th>Gamma</th>\n",
       "      <th>...</th>\n",
       "      <th>Puts</th>\n",
       "      <th>Last Sale.1</th>\n",
       "      <th>Net.1</th>\n",
       "      <th>Bid.1</th>\n",
       "      <th>Ask.1</th>\n",
       "      <th>Volume.1</th>\n",
       "      <th>IV.1</th>\n",
       "      <th>Delta.1</th>\n",
       "      <th>Gamma.1</th>\n",
       "      <th>Open Interest.1</th>\n",
       "    </tr>\n",
       "  </thead>\n",
       "  <tbody>\n",
       "    <tr>\n",
       "      <th>0</th>\n",
       "      <td>Tue Feb 22 2022</td>\n",
       "      <td>SPXW220222C02400000</td>\n",
       "      <td>0.00</td>\n",
       "      <td>0.0</td>\n",
       "      <td>1945.6</td>\n",
       "      <td>1962.5</td>\n",
       "      <td>0</td>\n",
       "      <td>2.6200</td>\n",
       "      <td>1.0</td>\n",
       "      <td>0.0</td>\n",
       "      <td>...</td>\n",
       "      <td>SPXW220222P02400000</td>\n",
       "      <td>0.05</td>\n",
       "      <td>0.025</td>\n",
       "      <td>0.0</td>\n",
       "      <td>0.05</td>\n",
       "      <td>1</td>\n",
       "      <td>1.5871</td>\n",
       "      <td>0.0</td>\n",
       "      <td>0.0</td>\n",
       "      <td>269</td>\n",
       "    </tr>\n",
       "    <tr>\n",
       "      <th>1</th>\n",
       "      <td>Tue Feb 22 2022</td>\n",
       "      <td>SPXW220222C02600000</td>\n",
       "      <td>0.00</td>\n",
       "      <td>0.0</td>\n",
       "      <td>1745.6</td>\n",
       "      <td>1762.5</td>\n",
       "      <td>0</td>\n",
       "      <td>2.3011</td>\n",
       "      <td>1.0</td>\n",
       "      <td>0.0</td>\n",
       "      <td>...</td>\n",
       "      <td>SPXW220222P02600000</td>\n",
       "      <td>0.05</td>\n",
       "      <td>0.025</td>\n",
       "      <td>0.0</td>\n",
       "      <td>0.05</td>\n",
       "      <td>2</td>\n",
       "      <td>1.3932</td>\n",
       "      <td>0.0</td>\n",
       "      <td>0.0</td>\n",
       "      <td>294</td>\n",
       "    </tr>\n",
       "    <tr>\n",
       "      <th>2</th>\n",
       "      <td>Tue Feb 22 2022</td>\n",
       "      <td>SPXW220222C03000000</td>\n",
       "      <td>1328.24</td>\n",
       "      <td>0.0</td>\n",
       "      <td>1345.6</td>\n",
       "      <td>1362.5</td>\n",
       "      <td>0</td>\n",
       "      <td>1.7248</td>\n",
       "      <td>1.0</td>\n",
       "      <td>0.0</td>\n",
       "      <td>...</td>\n",
       "      <td>SPXW220222P03000000</td>\n",
       "      <td>0.05</td>\n",
       "      <td>0.025</td>\n",
       "      <td>0.0</td>\n",
       "      <td>0.05</td>\n",
       "      <td>325</td>\n",
       "      <td>1.0238</td>\n",
       "      <td>0.0</td>\n",
       "      <td>0.0</td>\n",
       "      <td>988</td>\n",
       "    </tr>\n",
       "    <tr>\n",
       "      <th>3</th>\n",
       "      <td>Tue Feb 22 2022</td>\n",
       "      <td>SPXW220222C03200000</td>\n",
       "      <td>1119.57</td>\n",
       "      <td>0.0</td>\n",
       "      <td>1151.5</td>\n",
       "      <td>1158.1</td>\n",
       "      <td>0</td>\n",
       "      <td>1.4583</td>\n",
       "      <td>1.0</td>\n",
       "      <td>0.0</td>\n",
       "      <td>...</td>\n",
       "      <td>SPXW220222P03200000</td>\n",
       "      <td>0.05</td>\n",
       "      <td>0.000</td>\n",
       "      <td>0.0</td>\n",
       "      <td>0.05</td>\n",
       "      <td>3411</td>\n",
       "      <td>0.8503</td>\n",
       "      <td>0.0</td>\n",
       "      <td>0.0</td>\n",
       "      <td>9290</td>\n",
       "    </tr>\n",
       "    <tr>\n",
       "      <th>4</th>\n",
       "      <td>Tue Feb 22 2022</td>\n",
       "      <td>SPXW220222C03300000</td>\n",
       "      <td>0.00</td>\n",
       "      <td>0.0</td>\n",
       "      <td>1051.6</td>\n",
       "      <td>1058.1</td>\n",
       "      <td>0</td>\n",
       "      <td>1.3334</td>\n",
       "      <td>1.0</td>\n",
       "      <td>0.0</td>\n",
       "      <td>...</td>\n",
       "      <td>SPXW220222P03300000</td>\n",
       "      <td>0.05</td>\n",
       "      <td>0.050</td>\n",
       "      <td>0.0</td>\n",
       "      <td>0.05</td>\n",
       "      <td>343</td>\n",
       "      <td>0.7701</td>\n",
       "      <td>0.0</td>\n",
       "      <td>0.0</td>\n",
       "      <td>0</td>\n",
       "    </tr>\n",
       "  </tbody>\n",
       "</table>\n",
       "<p>5 rows × 22 columns</p>\n",
       "</div>"
      ],
      "text/plain": [
       "   Expiration Date                Calls  Last Sale  Net     Bid     Ask  \\\n",
       "0  Tue Feb 22 2022  SPXW220222C02400000       0.00  0.0  1945.6  1962.5   \n",
       "1  Tue Feb 22 2022  SPXW220222C02600000       0.00  0.0  1745.6  1762.5   \n",
       "2  Tue Feb 22 2022  SPXW220222C03000000    1328.24  0.0  1345.6  1362.5   \n",
       "3  Tue Feb 22 2022  SPXW220222C03200000    1119.57  0.0  1151.5  1158.1   \n",
       "4  Tue Feb 22 2022  SPXW220222C03300000       0.00  0.0  1051.6  1058.1   \n",
       "\n",
       "   Volume      IV  Delta  Gamma  ...                 Puts  Last Sale.1  Net.1  \\\n",
       "0       0  2.6200    1.0    0.0  ...  SPXW220222P02400000         0.05  0.025   \n",
       "1       0  2.3011    1.0    0.0  ...  SPXW220222P02600000         0.05  0.025   \n",
       "2       0  1.7248    1.0    0.0  ...  SPXW220222P03000000         0.05  0.025   \n",
       "3       0  1.4583    1.0    0.0  ...  SPXW220222P03200000         0.05  0.000   \n",
       "4       0  1.3334    1.0    0.0  ...  SPXW220222P03300000         0.05  0.050   \n",
       "\n",
       "   Bid.1  Ask.1  Volume.1    IV.1  Delta.1  Gamma.1  Open Interest.1  \n",
       "0    0.0   0.05         1  1.5871      0.0      0.0              269  \n",
       "1    0.0   0.05         2  1.3932      0.0      0.0              294  \n",
       "2    0.0   0.05       325  1.0238      0.0      0.0              988  \n",
       "3    0.0   0.05      3411  0.8503      0.0      0.0             9290  \n",
       "4    0.0   0.05       343  0.7701      0.0      0.0                0  \n",
       "\n",
       "[5 rows x 22 columns]"
      ]
     },
     "execution_count": 8,
     "metadata": {},
     "output_type": "execute_result"
    }
   ],
   "source": [
    "df.head()"
   ]
  },
  {
   "cell_type": "code",
   "execution_count": 10,
   "metadata": {
    "pycharm": {
     "name": "#%%\n"
    }
   },
   "outputs": [
    {
     "data": {
      "text/html": [
       "<div>\n",
       "<style scoped>\n",
       "    .dataframe tbody tr th:only-of-type {\n",
       "        vertical-align: middle;\n",
       "    }\n",
       "\n",
       "    .dataframe tbody tr th {\n",
       "        vertical-align: top;\n",
       "    }\n",
       "\n",
       "    .dataframe thead th {\n",
       "        text-align: right;\n",
       "    }\n",
       "</style>\n",
       "<table border=\"1\" class=\"dataframe\">\n",
       "  <thead>\n",
       "    <tr style=\"text-align: right;\">\n",
       "      <th></th>\n",
       "      <th>Expiration Date</th>\n",
       "      <th>Calls</th>\n",
       "      <th>Last Sale</th>\n",
       "      <th>Net</th>\n",
       "      <th>Bid</th>\n",
       "      <th>Ask</th>\n",
       "      <th>Volume</th>\n",
       "      <th>IV</th>\n",
       "      <th>Delta</th>\n",
       "      <th>Gamma</th>\n",
       "      <th>...</th>\n",
       "      <th>Net.1</th>\n",
       "      <th>Bid.1</th>\n",
       "      <th>Ask.1</th>\n",
       "      <th>Volume.1</th>\n",
       "      <th>IV.1</th>\n",
       "      <th>Delta.1</th>\n",
       "      <th>Gamma.1</th>\n",
       "      <th>Open Interest.1</th>\n",
       "      <th>Call mid</th>\n",
       "      <th>Put mid</th>\n",
       "    </tr>\n",
       "  </thead>\n",
       "  <tbody>\n",
       "    <tr>\n",
       "      <th>0</th>\n",
       "      <td>Tue Feb 22 2022</td>\n",
       "      <td>SPXW220222C02400000</td>\n",
       "      <td>0.00</td>\n",
       "      <td>0.0</td>\n",
       "      <td>1945.6</td>\n",
       "      <td>1962.5</td>\n",
       "      <td>0</td>\n",
       "      <td>2.6200</td>\n",
       "      <td>1.0</td>\n",
       "      <td>0.0</td>\n",
       "      <td>...</td>\n",
       "      <td>0.025</td>\n",
       "      <td>0.0</td>\n",
       "      <td>0.05</td>\n",
       "      <td>1</td>\n",
       "      <td>1.5871</td>\n",
       "      <td>0.0</td>\n",
       "      <td>0.0</td>\n",
       "      <td>269</td>\n",
       "      <td>1954.05</td>\n",
       "      <td>0.025</td>\n",
       "    </tr>\n",
       "    <tr>\n",
       "      <th>1</th>\n",
       "      <td>Tue Feb 22 2022</td>\n",
       "      <td>SPXW220222C02600000</td>\n",
       "      <td>0.00</td>\n",
       "      <td>0.0</td>\n",
       "      <td>1745.6</td>\n",
       "      <td>1762.5</td>\n",
       "      <td>0</td>\n",
       "      <td>2.3011</td>\n",
       "      <td>1.0</td>\n",
       "      <td>0.0</td>\n",
       "      <td>...</td>\n",
       "      <td>0.025</td>\n",
       "      <td>0.0</td>\n",
       "      <td>0.05</td>\n",
       "      <td>2</td>\n",
       "      <td>1.3932</td>\n",
       "      <td>0.0</td>\n",
       "      <td>0.0</td>\n",
       "      <td>294</td>\n",
       "      <td>1754.05</td>\n",
       "      <td>0.025</td>\n",
       "    </tr>\n",
       "    <tr>\n",
       "      <th>2</th>\n",
       "      <td>Tue Feb 22 2022</td>\n",
       "      <td>SPXW220222C03000000</td>\n",
       "      <td>1328.24</td>\n",
       "      <td>0.0</td>\n",
       "      <td>1345.6</td>\n",
       "      <td>1362.5</td>\n",
       "      <td>0</td>\n",
       "      <td>1.7248</td>\n",
       "      <td>1.0</td>\n",
       "      <td>0.0</td>\n",
       "      <td>...</td>\n",
       "      <td>0.025</td>\n",
       "      <td>0.0</td>\n",
       "      <td>0.05</td>\n",
       "      <td>325</td>\n",
       "      <td>1.0238</td>\n",
       "      <td>0.0</td>\n",
       "      <td>0.0</td>\n",
       "      <td>988</td>\n",
       "      <td>1354.05</td>\n",
       "      <td>0.025</td>\n",
       "    </tr>\n",
       "    <tr>\n",
       "      <th>3</th>\n",
       "      <td>Tue Feb 22 2022</td>\n",
       "      <td>SPXW220222C03200000</td>\n",
       "      <td>1119.57</td>\n",
       "      <td>0.0</td>\n",
       "      <td>1151.5</td>\n",
       "      <td>1158.1</td>\n",
       "      <td>0</td>\n",
       "      <td>1.4583</td>\n",
       "      <td>1.0</td>\n",
       "      <td>0.0</td>\n",
       "      <td>...</td>\n",
       "      <td>0.000</td>\n",
       "      <td>0.0</td>\n",
       "      <td>0.05</td>\n",
       "      <td>3411</td>\n",
       "      <td>0.8503</td>\n",
       "      <td>0.0</td>\n",
       "      <td>0.0</td>\n",
       "      <td>9290</td>\n",
       "      <td>1154.80</td>\n",
       "      <td>0.025</td>\n",
       "    </tr>\n",
       "    <tr>\n",
       "      <th>4</th>\n",
       "      <td>Tue Feb 22 2022</td>\n",
       "      <td>SPXW220222C03300000</td>\n",
       "      <td>0.00</td>\n",
       "      <td>0.0</td>\n",
       "      <td>1051.6</td>\n",
       "      <td>1058.1</td>\n",
       "      <td>0</td>\n",
       "      <td>1.3334</td>\n",
       "      <td>1.0</td>\n",
       "      <td>0.0</td>\n",
       "      <td>...</td>\n",
       "      <td>0.050</td>\n",
       "      <td>0.0</td>\n",
       "      <td>0.05</td>\n",
       "      <td>343</td>\n",
       "      <td>0.7701</td>\n",
       "      <td>0.0</td>\n",
       "      <td>0.0</td>\n",
       "      <td>0</td>\n",
       "      <td>1054.85</td>\n",
       "      <td>0.025</td>\n",
       "    </tr>\n",
       "  </tbody>\n",
       "</table>\n",
       "<p>5 rows × 24 columns</p>\n",
       "</div>"
      ],
      "text/plain": [
       "   Expiration Date                Calls  Last Sale  Net     Bid     Ask  \\\n",
       "0  Tue Feb 22 2022  SPXW220222C02400000       0.00  0.0  1945.6  1962.5   \n",
       "1  Tue Feb 22 2022  SPXW220222C02600000       0.00  0.0  1745.6  1762.5   \n",
       "2  Tue Feb 22 2022  SPXW220222C03000000    1328.24  0.0  1345.6  1362.5   \n",
       "3  Tue Feb 22 2022  SPXW220222C03200000    1119.57  0.0  1151.5  1158.1   \n",
       "4  Tue Feb 22 2022  SPXW220222C03300000       0.00  0.0  1051.6  1058.1   \n",
       "\n",
       "   Volume      IV  Delta  Gamma  ...  Net.1  Bid.1 Ask.1  Volume.1    IV.1  \\\n",
       "0       0  2.6200    1.0    0.0  ...  0.025    0.0  0.05         1  1.5871   \n",
       "1       0  2.3011    1.0    0.0  ...  0.025    0.0  0.05         2  1.3932   \n",
       "2       0  1.7248    1.0    0.0  ...  0.025    0.0  0.05       325  1.0238   \n",
       "3       0  1.4583    1.0    0.0  ...  0.000    0.0  0.05      3411  0.8503   \n",
       "4       0  1.3334    1.0    0.0  ...  0.050    0.0  0.05       343  0.7701   \n",
       "\n",
       "   Delta.1  Gamma.1  Open Interest.1  Call mid  Put mid  \n",
       "0      0.0      0.0              269   1954.05    0.025  \n",
       "1      0.0      0.0              294   1754.05    0.025  \n",
       "2      0.0      0.0              988   1354.05    0.025  \n",
       "3      0.0      0.0             9290   1154.80    0.025  \n",
       "4      0.0      0.0                0   1054.85    0.025  \n",
       "\n",
       "[5 rows x 24 columns]"
      ]
     },
     "execution_count": 10,
     "metadata": {},
     "output_type": "execute_result"
    }
   ],
   "source": [
    "df[\"Call mid\"]=(df[\"Bid\"]+df[\"Ask\"])/2\n",
    "df[\"Put mid\"]=(df[\"Bid.1\"]+df[\"Ask.1\"])/2\n",
    "df.head()\n"
   ]
  },
  {
   "cell_type": "code",
   "execution_count": 12,
   "metadata": {
    "pycharm": {
     "name": "#%%\n"
    }
   },
   "outputs": [
    {
     "ename": "AttributeError",
     "evalue": "'datetime.date' object has no attribute 'split'",
     "output_type": "error",
     "traceback": [
      "\u001b[0;31m---------------------------------------------------------------------------\u001b[0m",
      "\u001b[0;31mAttributeError\u001b[0m                            Traceback (most recent call last)",
      "\u001b[0;32m/var/folders/72/h7wj2vyx6jd6znsg8gk6xdgr0000gn/T/ipykernel_8282/2338616540.py\u001b[0m in \u001b[0;36m<module>\u001b[0;34m\u001b[0m\n\u001b[1;32m      3\u001b[0m     \u001b[0;32mreturn\u001b[0m \u001b[0mdatetime\u001b[0m\u001b[0;34m.\u001b[0m\u001b[0mdate\u001b[0m\u001b[0;34m(\u001b[0m\u001b[0mint\u001b[0m\u001b[0;34m(\u001b[0m\u001b[0ms\u001b[0m\u001b[0;34m.\u001b[0m\u001b[0msplit\u001b[0m\u001b[0;34m(\u001b[0m\u001b[0;34m)\u001b[0m\u001b[0;34m[\u001b[0m\u001b[0;36m3\u001b[0m\u001b[0;34m]\u001b[0m\u001b[0;34m)\u001b[0m\u001b[0;34m,\u001b[0m\u001b[0mmonthdict\u001b[0m\u001b[0;34m[\u001b[0m\u001b[0ms\u001b[0m\u001b[0;34m.\u001b[0m\u001b[0msplit\u001b[0m\u001b[0;34m(\u001b[0m\u001b[0;34m)\u001b[0m\u001b[0;34m[\u001b[0m\u001b[0;36m1\u001b[0m\u001b[0;34m]\u001b[0m\u001b[0;34m]\u001b[0m\u001b[0;34m,\u001b[0m\u001b[0mint\u001b[0m\u001b[0;34m(\u001b[0m\u001b[0ms\u001b[0m\u001b[0;34m.\u001b[0m\u001b[0msplit\u001b[0m\u001b[0;34m(\u001b[0m\u001b[0;34m)\u001b[0m\u001b[0;34m[\u001b[0m\u001b[0;36m2\u001b[0m\u001b[0;34m]\u001b[0m\u001b[0;34m)\u001b[0m\u001b[0;34m)\u001b[0m\u001b[0;34m\u001b[0m\u001b[0;34m\u001b[0m\u001b[0m\n\u001b[1;32m      4\u001b[0m \u001b[0;34m\u001b[0m\u001b[0m\n\u001b[0;32m----> 5\u001b[0;31m \u001b[0mdf\u001b[0m\u001b[0;34m[\u001b[0m\u001b[0;34m\"Expiration Date\"\u001b[0m\u001b[0;34m]\u001b[0m \u001b[0;34m=\u001b[0m \u001b[0mdf\u001b[0m\u001b[0;34m[\u001b[0m\u001b[0;34m\"Expiration Date\"\u001b[0m\u001b[0;34m]\u001b[0m\u001b[0;34m.\u001b[0m\u001b[0mapply\u001b[0m\u001b[0;34m(\u001b[0m\u001b[0mconvdate\u001b[0m\u001b[0;34m)\u001b[0m\u001b[0;34m\u001b[0m\u001b[0;34m\u001b[0m\u001b[0m\n\u001b[0m\u001b[1;32m      6\u001b[0m \u001b[0mtoday\u001b[0m \u001b[0;34m=\u001b[0m \u001b[0mdatetime\u001b[0m\u001b[0;34m.\u001b[0m\u001b[0mdate\u001b[0m\u001b[0;34m(\u001b[0m\u001b[0;36m2022\u001b[0m\u001b[0;34m,\u001b[0m \u001b[0;36m1\u001b[0m\u001b[0;34m,\u001b[0m \u001b[0;36m10\u001b[0m\u001b[0;34m)\u001b[0m\u001b[0;34m\u001b[0m\u001b[0;34m\u001b[0m\u001b[0m\n\u001b[1;32m      7\u001b[0m \u001b[0mdf\u001b[0m\u001b[0;34m[\u001b[0m\u001b[0;34m\"TTM\"\u001b[0m\u001b[0;34m]\u001b[0m \u001b[0;34m=\u001b[0m \u001b[0mdf\u001b[0m\u001b[0;34m[\u001b[0m\u001b[0;34m\"Expiration Date\"\u001b[0m\u001b[0;34m]\u001b[0m\u001b[0;34m.\u001b[0m\u001b[0mapply\u001b[0m\u001b[0;34m(\u001b[0m\u001b[0;32mlambda\u001b[0m \u001b[0md\u001b[0m\u001b[0;34m:\u001b[0m \u001b[0;34m(\u001b[0m\u001b[0md\u001b[0m\u001b[0;34m-\u001b[0m\u001b[0mtoday\u001b[0m\u001b[0;34m)\u001b[0m\u001b[0;34m.\u001b[0m\u001b[0mdays\u001b[0m\u001b[0;34m/\u001b[0m\u001b[0;36m365\u001b[0m\u001b[0;34m)\u001b[0m\u001b[0;34m\u001b[0m\u001b[0;34m\u001b[0m\u001b[0m\n",
      "\u001b[0;32m/Library/Frameworks/Python.framework/Versions/3.9/lib/python3.9/site-packages/pandas/core/series.py\u001b[0m in \u001b[0;36mapply\u001b[0;34m(self, func, convert_dtype, args, **kwargs)\u001b[0m\n\u001b[1;32m   4355\u001b[0m         \u001b[0mdtype\u001b[0m\u001b[0;34m:\u001b[0m \u001b[0mfloat64\u001b[0m\u001b[0;34m\u001b[0m\u001b[0;34m\u001b[0m\u001b[0m\n\u001b[1;32m   4356\u001b[0m         \"\"\"\n\u001b[0;32m-> 4357\u001b[0;31m         \u001b[0;32mreturn\u001b[0m \u001b[0mSeriesApply\u001b[0m\u001b[0;34m(\u001b[0m\u001b[0mself\u001b[0m\u001b[0;34m,\u001b[0m \u001b[0mfunc\u001b[0m\u001b[0;34m,\u001b[0m \u001b[0mconvert_dtype\u001b[0m\u001b[0;34m,\u001b[0m \u001b[0margs\u001b[0m\u001b[0;34m,\u001b[0m \u001b[0mkwargs\u001b[0m\u001b[0;34m)\u001b[0m\u001b[0;34m.\u001b[0m\u001b[0mapply\u001b[0m\u001b[0;34m(\u001b[0m\u001b[0;34m)\u001b[0m\u001b[0;34m\u001b[0m\u001b[0;34m\u001b[0m\u001b[0m\n\u001b[0m\u001b[1;32m   4358\u001b[0m \u001b[0;34m\u001b[0m\u001b[0m\n\u001b[1;32m   4359\u001b[0m     def _reduce(\n",
      "\u001b[0;32m/Library/Frameworks/Python.framework/Versions/3.9/lib/python3.9/site-packages/pandas/core/apply.py\u001b[0m in \u001b[0;36mapply\u001b[0;34m(self)\u001b[0m\n\u001b[1;32m   1041\u001b[0m             \u001b[0;32mreturn\u001b[0m \u001b[0mself\u001b[0m\u001b[0;34m.\u001b[0m\u001b[0mapply_str\u001b[0m\u001b[0;34m(\u001b[0m\u001b[0;34m)\u001b[0m\u001b[0;34m\u001b[0m\u001b[0;34m\u001b[0m\u001b[0m\n\u001b[1;32m   1042\u001b[0m \u001b[0;34m\u001b[0m\u001b[0m\n\u001b[0;32m-> 1043\u001b[0;31m         \u001b[0;32mreturn\u001b[0m \u001b[0mself\u001b[0m\u001b[0;34m.\u001b[0m\u001b[0mapply_standard\u001b[0m\u001b[0;34m(\u001b[0m\u001b[0;34m)\u001b[0m\u001b[0;34m\u001b[0m\u001b[0;34m\u001b[0m\u001b[0m\n\u001b[0m\u001b[1;32m   1044\u001b[0m \u001b[0;34m\u001b[0m\u001b[0m\n\u001b[1;32m   1045\u001b[0m     \u001b[0;32mdef\u001b[0m \u001b[0magg\u001b[0m\u001b[0;34m(\u001b[0m\u001b[0mself\u001b[0m\u001b[0;34m)\u001b[0m\u001b[0;34m:\u001b[0m\u001b[0;34m\u001b[0m\u001b[0;34m\u001b[0m\u001b[0m\n",
      "\u001b[0;32m/Library/Frameworks/Python.framework/Versions/3.9/lib/python3.9/site-packages/pandas/core/apply.py\u001b[0m in \u001b[0;36mapply_standard\u001b[0;34m(self)\u001b[0m\n\u001b[1;32m   1096\u001b[0m                 \u001b[0;31m# List[Union[Callable[..., Any], str]]]]]\"; expected\u001b[0m\u001b[0;34m\u001b[0m\u001b[0;34m\u001b[0m\u001b[0;34m\u001b[0m\u001b[0m\n\u001b[1;32m   1097\u001b[0m                 \u001b[0;31m# \"Callable[[Any], Any]\"\u001b[0m\u001b[0;34m\u001b[0m\u001b[0;34m\u001b[0m\u001b[0;34m\u001b[0m\u001b[0m\n\u001b[0;32m-> 1098\u001b[0;31m                 mapped = lib.map_infer(\n\u001b[0m\u001b[1;32m   1099\u001b[0m                     \u001b[0mvalues\u001b[0m\u001b[0;34m,\u001b[0m\u001b[0;34m\u001b[0m\u001b[0;34m\u001b[0m\u001b[0m\n\u001b[1;32m   1100\u001b[0m                     \u001b[0mf\u001b[0m\u001b[0;34m,\u001b[0m  \u001b[0;31m# type: ignore[arg-type]\u001b[0m\u001b[0;34m\u001b[0m\u001b[0;34m\u001b[0m\u001b[0m\n",
      "\u001b[0;32m/Library/Frameworks/Python.framework/Versions/3.9/lib/python3.9/site-packages/pandas/_libs/lib.pyx\u001b[0m in \u001b[0;36mpandas._libs.lib.map_infer\u001b[0;34m()\u001b[0m\n",
      "\u001b[0;32m/var/folders/72/h7wj2vyx6jd6znsg8gk6xdgr0000gn/T/ipykernel_8282/2338616540.py\u001b[0m in \u001b[0;36mconvdate\u001b[0;34m(s)\u001b[0m\n\u001b[1;32m      1\u001b[0m \u001b[0mmonthdict\u001b[0m \u001b[0;34m=\u001b[0m \u001b[0;34m{\u001b[0m \u001b[0;34m\"Jan\"\u001b[0m\u001b[0;34m:\u001b[0m\u001b[0;36m1\u001b[0m\u001b[0;34m,\u001b[0m\u001b[0;34m\"Feb\"\u001b[0m\u001b[0;34m:\u001b[0m\u001b[0;36m2\u001b[0m\u001b[0;34m,\u001b[0m\u001b[0;34m\"Mar\"\u001b[0m\u001b[0;34m:\u001b[0m\u001b[0;36m3\u001b[0m\u001b[0;34m,\u001b[0m\u001b[0;34m\"Apr\"\u001b[0m\u001b[0;34m:\u001b[0m\u001b[0;36m4\u001b[0m\u001b[0;34m,\u001b[0m\u001b[0;34m\"May\"\u001b[0m\u001b[0;34m:\u001b[0m\u001b[0;36m5\u001b[0m\u001b[0;34m,\u001b[0m\u001b[0;34m\"Jun\"\u001b[0m\u001b[0;34m:\u001b[0m\u001b[0;36m6\u001b[0m\u001b[0;34m,\u001b[0m\u001b[0;34m\"Jul\"\u001b[0m\u001b[0;34m:\u001b[0m\u001b[0;36m7\u001b[0m\u001b[0;34m,\u001b[0m\u001b[0;34m\"Aug\"\u001b[0m\u001b[0;34m:\u001b[0m\u001b[0;36m8\u001b[0m\u001b[0;34m,\u001b[0m\u001b[0;34m\"Sep\"\u001b[0m\u001b[0;34m:\u001b[0m\u001b[0;36m9\u001b[0m\u001b[0;34m,\u001b[0m\u001b[0;34m\"Oct\"\u001b[0m\u001b[0;34m:\u001b[0m\u001b[0;36m10\u001b[0m\u001b[0;34m,\u001b[0m\u001b[0;34m\"Nov\"\u001b[0m\u001b[0;34m:\u001b[0m\u001b[0;36m11\u001b[0m\u001b[0;34m,\u001b[0m\u001b[0;34m\"Dec\"\u001b[0m\u001b[0;34m:\u001b[0m\u001b[0;36m12\u001b[0m\u001b[0;34m}\u001b[0m\u001b[0;34m\u001b[0m\u001b[0;34m\u001b[0m\u001b[0m\n\u001b[1;32m      2\u001b[0m \u001b[0;32mdef\u001b[0m \u001b[0mconvdate\u001b[0m\u001b[0;34m(\u001b[0m\u001b[0ms\u001b[0m\u001b[0;34m)\u001b[0m\u001b[0;34m:\u001b[0m\u001b[0;34m\u001b[0m\u001b[0;34m\u001b[0m\u001b[0m\n\u001b[0;32m----> 3\u001b[0;31m     \u001b[0;32mreturn\u001b[0m \u001b[0mdatetime\u001b[0m\u001b[0;34m.\u001b[0m\u001b[0mdate\u001b[0m\u001b[0;34m(\u001b[0m\u001b[0mint\u001b[0m\u001b[0;34m(\u001b[0m\u001b[0ms\u001b[0m\u001b[0;34m.\u001b[0m\u001b[0msplit\u001b[0m\u001b[0;34m(\u001b[0m\u001b[0;34m)\u001b[0m\u001b[0;34m[\u001b[0m\u001b[0;36m3\u001b[0m\u001b[0;34m]\u001b[0m\u001b[0;34m)\u001b[0m\u001b[0;34m,\u001b[0m\u001b[0mmonthdict\u001b[0m\u001b[0;34m[\u001b[0m\u001b[0ms\u001b[0m\u001b[0;34m.\u001b[0m\u001b[0msplit\u001b[0m\u001b[0;34m(\u001b[0m\u001b[0;34m)\u001b[0m\u001b[0;34m[\u001b[0m\u001b[0;36m1\u001b[0m\u001b[0;34m]\u001b[0m\u001b[0;34m]\u001b[0m\u001b[0;34m,\u001b[0m\u001b[0mint\u001b[0m\u001b[0;34m(\u001b[0m\u001b[0ms\u001b[0m\u001b[0;34m.\u001b[0m\u001b[0msplit\u001b[0m\u001b[0;34m(\u001b[0m\u001b[0;34m)\u001b[0m\u001b[0;34m[\u001b[0m\u001b[0;36m2\u001b[0m\u001b[0;34m]\u001b[0m\u001b[0;34m)\u001b[0m\u001b[0;34m)\u001b[0m\u001b[0;34m\u001b[0m\u001b[0;34m\u001b[0m\u001b[0m\n\u001b[0m\u001b[1;32m      4\u001b[0m \u001b[0;34m\u001b[0m\u001b[0m\n\u001b[1;32m      5\u001b[0m \u001b[0mdf\u001b[0m\u001b[0;34m[\u001b[0m\u001b[0;34m\"Expiration Date\"\u001b[0m\u001b[0;34m]\u001b[0m \u001b[0;34m=\u001b[0m \u001b[0mdf\u001b[0m\u001b[0;34m[\u001b[0m\u001b[0;34m\"Expiration Date\"\u001b[0m\u001b[0;34m]\u001b[0m\u001b[0;34m.\u001b[0m\u001b[0mapply\u001b[0m\u001b[0;34m(\u001b[0m\u001b[0mconvdate\u001b[0m\u001b[0;34m)\u001b[0m\u001b[0;34m\u001b[0m\u001b[0;34m\u001b[0m\u001b[0m\n",
      "\u001b[0;31mAttributeError\u001b[0m: 'datetime.date' object has no attribute 'split'"
     ]
    }
   ],
   "source": [
    "monthdict = { \"Jan\":1,\"Feb\":2,\"Mar\":3,\"Apr\":4,\"May\":5,\"Jun\":6,\"Jul\":7,\"Aug\":8,\"Sep\":9,\"Oct\":10,\"Nov\":11,\"Dec\":12}\n",
    "def convdate(s):\n",
    "    return datetime.date(int(s.split()[3]),monthdict[s.split()[1]],int(s.split()[2]))\n",
    "\n",
    "df[\"Expiration Date\"] = df[\"Expiration Date\"].apply(convdate)\n",
    "today = datetime.date(2022, 1, 10)\n",
    "df[\"TTM\"] = df[\"Expiration Date\"].apply(lambda d: (d-today).days/365)\n",
    "df.tail()"
   ]
  },
  {
   "cell_type": "code",
   "execution_count": 15,
   "metadata": {
    "pycharm": {
     "name": "#%%\n"
    }
   },
   "outputs": [],
   "source": [
    "SP500_20220218 = 4348.8701\n",
    "TTM = df[df[\"TTM\"]>0].TTM.unique()\n",
    "def f(x,C,P,K,S):\n",
    "    D,B = x\n",
    "    return np.sum((C-P-D*S+B*K)**2)\n",
    "N      = len(TTM)\n",
    "D      = np.empty(N)         # implied dividend discount factors\n",
    "B      = np.empty(N)         # implied discount factors\n",
    "i = 0\n",
    "for T in TTM:\n",
    "    C = df[df[\"TTM\"]==T][\"Call mid\"].to_numpy()\n",
    "    P = df[df[\"TTM\"]==T][\"Put mid\"].to_numpy()\n",
    "    K = df[df[\"TTM\"]==T][\"Strike\"].to_numpy()\n",
    "    args = C,P,K,SP500_20220218\n",
    "    D[i],B[i] = optimize.minimize(f, [0.9,0.9], method='SLSQP',args=args).x\n",
    "    i = i+1"
   ]
  },
  {
   "cell_type": "markdown",
   "metadata": {
    "pycharm": {
     "name": "#%% md\n"
    }
   },
   "source": [
    "Q2 (b)"
   ]
  },
  {
   "cell_type": "code",
   "execution_count": null,
   "metadata": {
    "pycharm": {
     "name": "#%%\n"
    }
   },
   "outputs": [],
   "source": [
    "\n",
    "def BlackScholes(S,K,sgm,r,q,T,callput):\n",
    "    d1 = (np.log(S/K)+((r-q)+0.5*sgm*sgm)*T)/(sgm*np.sqrt(T))\n",
    "    d2 = d1 - sgm*np.sqrt(T)\n",
    "    return callput*(S*np.exp(-q*T)*norm.cdf(callput*d1)-K*np.exp(-r*T)*norm.cdf(callput*d2))\n",
    "\n",
    "def BlackScholesSGM(sgm,S,K,r,q,T,callput,price):\n",
    "    return price-BlackScholes(S,K,sgm,r,q,T,callput)\n",
    "\n",
    "def BlackScholesImpVol(S,K,r,q,T,callput,price):\n",
    "\tsol = optimize.root_scalar(BlackScholesSGM, bracket=[0.0001, 1.0], args=(S,K,r,q,T,callput,price))\n",
    "\treturn sol.root"
   ]
  },
  {
   "cell_type": "code",
   "execution_count": null,
   "metadata": {
    "pycharm": {
     "name": "#%%\n"
    }
   },
   "outputs": [],
   "source": [
    "class SSVI:\n",
    "    def __init__(self,df,S,minTTM):\n",
    "        self.S      = S\n",
    "        self.minTTM = minTTM\n",
    "        self.gamma1 = 0.238\n",
    "        self.gamma2 = 0.253\n",
    "        self.beta1  = np.exp(5.18)\n",
    "        self.beta2  = np.exp(-3.0)\n",
    "        self.TTM    = df[df[\"TTM\"]>=minTTM].TTM.unique() # NumPy array\n",
    "        self.N      = len(self.TTM)\n",
    "        self.D      = np.empty(self.N)         # implied dividend discount factors\n",
    "        self.B      = np.empty(self.N)         # implied discount factors\n",
    "        self.q      = np.empty(self.N)         # implied dividend rates\n",
    "        self.r      = np.empty(self.N)         # implied interest rates\n",
    "        self.F      = np.empty(self.N)         # forward prices\n",
    "        self.theta  = np.empty(self.N)         # at-the-money total implied variance\n",
    "        self.ATMvol = np.empty(self.N)         # at-the-money volatility\n",
    "        self.k      = []                       # log moneyness as list (in maturity) of arrays (in strikes)\n",
    "        self.TIVCb  = []                       # total implied variance of call bid prices\n",
    "        self.TIVCa  = []                       # total implied variance of call ask prices\n",
    "        self.TIVPb  = []                       # total implied variance of put bid prices\n",
    "        self.TIVPa  = []                       # total implied variance of put ask prices\n",
    "        self.TIVb   = []                       # total implied variance of bid prices\n",
    "        self.TIVa   = []                       # total implied variance of ask prices\n",
    "        i = 0\n",
    "        for T in self.TTM: # prepare data for calibration objective function\n",
    "            C = df[df[\"TTM\"]==T][\"Call mid\"].to_numpy()\n",
    "            P = df[df[\"TTM\"]==T][\"Put mid\"].to_numpy()\n",
    "            K = df[df[\"TTM\"]==T][\"Strike\"].to_numpy()\n",
    "            # dividends and interest rates\n",
    "            args = C,P,K\n",
    "            self.D[i],self.B[i] = optimize.minimize(self.f, [0.9,0.9], method='SLSQP',args=args).x\n",
    "            self.r[i] = -np.log(self.B[i])/T\n",
    "            self.q[i] = -np.log(self.D[i])/T\n",
    "            self.F[i] = self.S*self.D[i]/self.B[i]\n",
    "            # at-the-money volatility\n",
    "            idx = (np.abs(K - self.F[i])).argmin() # index of strike closest to ATM fwd\n",
    "            v1 = BlackScholesImpVol(self.S,K[idx],self.r[i],self.q[i],T,1,C[idx])\n",
    "            v2 = BlackScholesImpVol(self.S,K[idx],self.r[i],self.q[i],T,-1,P[idx])\n",
    "            self.ATMvol[i] = (v1+v2)/2\n",
    "            self.theta[i] = self.ATMvol[i]**2 * T\n",
    "            # log forward moneyness\n",
    "            self.k.append(np.log(K/self.F[i]))\n",
    "            # now calculate total implied variances from option prices\n",
    "            Cb = df[df[\"TTM\"]==T][\"Bid\"].to_numpy()\n",
    "            Ca = df[df[\"TTM\"]==T][\"Ask\"].to_numpy()\n",
    "            Pb = df[df[\"TTM\"]==T][\"Bid.1\"].to_numpy()\n",
    "            Pa = df[df[\"TTM\"]==T][\"Ask.1\"].to_numpy()\n",
    "            CbTIV = np.empty(len(K))\n",
    "            CaTIV = np.empty(len(K))\n",
    "            PbTIV = np.empty(len(K))\n",
    "            PaTIV = np.empty(len(K))\n",
    "            bTIV  = np.empty(len(K))\n",
    "            aTIV  = np.empty(len(K))\n",
    "            for j in range(0,len(K)):\n",
    "                if (np.abs(self.k[i][j])/self.theta[i]>3.5):\n",
    "                    self.k[i][j] = np.inf\n",
    "                else:\n",
    "                    try:\n",
    "                        CbTIV[j] = BlackScholesImpVol(self.S,K[j],self.r[i],self.q[i],T,1,Cb[j])**2 * T\n",
    "                        CaTIV[j] = BlackScholesImpVol(self.S,K[j],self.r[i],self.q[i],T,1,Ca[j])**2 * T\n",
    "                        PbTIV[j] = BlackScholesImpVol(self.S,K[j],self.r[i],self.q[i],T,-1,Pb[j])**2 * T\n",
    "                        PaTIV[j] = BlackScholesImpVol(self.S,K[j],self.r[i],self.q[i],T,-1,Pa[j])**2 * T\n",
    "                        bTIV[j]  = np.minimum(CbTIV[j],PbTIV[j])\n",
    "                        aTIV[j]  = np.maximum(CaTIV[j],PaTIV[j])\n",
    "                    except ValueError:\n",
    "                        print(\"Skipping: \",self.S,K[j],self.r[i],self.q[i],T,1,Cb[j])\n",
    "                        self.k[i][j] = np.inf\n",
    "            self.TIVCb.append(CbTIV[self.k[i]!=np.inf])\n",
    "            self.TIVCa.append(CaTIV[self.k[i]!=np.inf])\n",
    "            self.TIVPb.append(PbTIV[self.k[i]!=np.inf])\n",
    "            self.TIVPa.append(PaTIV[self.k[i]!=np.inf])\n",
    "            self.TIVb.append(bTIV[self.k[i]!=np.inf])\n",
    "            self.TIVa.append(aTIV[self.k[i]!=np.inf])\n",
    "            self.k[i] = self.k[i][self.k[i]!=np.inf]\n",
    "            i += 1\n",
    "        epsilon,self.rho = optimize.minimize(self.objfunc, [0.5,-0.7], method='SLSQP').x\n",
    "        self.set_eta(epsilon)\n",
    "    def f(self,x,C,P,K):    # squared deviations from put/call parity\n",
    "        D,B = x\n",
    "        return np.sum((C-P-D*self.S+B*K)**2)\n",
    "    def set_eta(self,epsilon):\n",
    "        self.eta = 2.016048*np.exp(np.maximum(-1.0,np.minimum(1.0,epsilon)))\n",
    "    def phi(self,theta):\n",
    "        return self.eta/(theta**self.gamma1*(1+self.beta1*theta)**self.gamma2*(1+self.beta2*theta)**(1.0-self.gamma1-self.gamma2))\n",
    "    def w(self,i,k):\n",
    "        phi_k = self.phi(self.theta[i])*k\n",
    "        return 0.5*self.theta[i]*(1+self.rho*phi_k+np.sqrt((phi_k+self.rho)**2+(1.0-self.rho**2)))\n",
    "    def objfunc(self,x):    # calibration objective function\n",
    "        self.set_eta(x[0])\n",
    "        self.rho = x[1]\n",
    "        phi = self.eta/(self.theta**self.gamma1*(1+self.beta1*self.theta)**self.gamma2*(1+self.beta2*self.theta)**(1.0-self.gamma1-self.gamma2))\n",
    "        phi_k = phi*self.k\n",
    "        w = 0.5*self.theta*(1+self.rho*phi_k+np.array(list(map(lambda i:np.sqrt(i),(phi_k+self.rho)**2+(1.0-self.rho**2))),dtype=object))\n",
    "        err = np.sum(np.array(list(map(lambda i:np.sum(i),np.array(list(map(lambda x:np.maximum(0.0,x), w-self.TIVa)),dtype=object)**2/w**2)),dtype=object))\n",
    "        err += np.sum(np.array(list(map(lambda i:np.sum(i),np.array(list(map(lambda x:np.minimum(0.0,x), w-self.TIVb)),dtype=object)**2/w**2)),dtype=object))\n",
    "        return err\n",
    "    def smile(self,i):      # return the model implied volatility smile for the i-th maturity\n",
    "        phi_k = self.phi(self.theta[i])*self.k[i]\n",
    "        return np.sqrt(0.5*self.theta[i]*(1+self.rho*phi_k+np.array(list(map(lambda i:np.sqrt(i),(phi_k+self.rho)**2+(1.0-self.rho**2)))))/self.TTM[i])"
   ]
  },
  {
   "cell_type": "code",
   "execution_count": null,
   "metadata": {
    "pycharm": {
     "name": "#%%\n"
    }
   },
   "outputs": [],
   "source": [
    "ssvi=SSVI(df,SP500_20220218,7.0/365)\n",
    "n = len(ssvi.TIVb)\n",
    "for i in range(0,n):\n",
    "    phi = ssvi.eta/(ssvi.theta[i]**ssvi.gamma1*(1+ssvi.beta1*ssvi.theta[i])**ssvi.gamma2*(1+ssvi.beta2*ssvi.theta[i])**(1.0-ssvi.gamma1-ssvi.gamma2))\n",
    "    phi_k = phi*ssvi.k[i]\n",
    "    w = 0.5*ssvi.theta[i]*(1+ssvi.rho*phi_k+np.array(list(map(lambda i:np.sqrt(i),(phi_k+ssvi.rho)**2+(1.0-ssvi.rho**2)))))\n",
    "    if (not(np.logical_and.reduce(ssvi.TIVb[i]<=w) and np.logical_and.reduce(w<=ssvi.TIVa[i]))):\n",
    "        print(i,ssvi.TIVb[i],w,ssvi.TIVa[i])\n",
    "    else:\n",
    "        print(i,\"OK\")\n"
   ]
  }
 ],
 "metadata": {
  "kernelspec": {
   "display_name": "Python 3",
   "language": "python",
   "name": "python3"
  },
  "language_info": {
   "codemirror_mode": {
    "name": "ipython",
    "version": 3
   },
   "file_extension": ".py",
   "mimetype": "text/x-python",
   "name": "python",
   "nbconvert_exporter": "python",
   "pygments_lexer": "ipython3",
   "version": "3.7.7"
  }
 },
 "nbformat": 4,
 "nbformat_minor": 1
}
