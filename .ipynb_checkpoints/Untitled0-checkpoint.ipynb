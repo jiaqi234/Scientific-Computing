{
 "cells": [
  {
   "cell_type": "code",
   "execution_count": 35,
   "metadata": {
    "id": "6VzQpnGnIIPF"
   },
   "outputs": [],
   "source": [
    "import datetime\n",
    "import pandas as pd\n",
    "import numpy as np\n",
    "from scipy import optimize\n",
    "from scipy.stats import norm\n",
    "import matplotlib.pyplot as plt"
   ]
  },
  {
   "cell_type": "markdown",
   "metadata": {
    "id": "aTB8ZRpcInj3"
   },
   "source": [
    "## Question 2"
   ]
  },
  {
   "cell_type": "code",
   "execution_count": 25,
   "metadata": {
    "id": "G-qaompYPRES"
   },
   "outputs": [],
   "source": [
    "SP500_20220218 = 4348.8701"
   ]
  },
  {
   "cell_type": "code",
   "execution_count": 21,
   "metadata": {
    "colab": {
     "base_uri": "https://localhost:8080/",
     "height": 374
    },
    "id": "evGeBmP1IMvg",
    "outputId": "6c090bfa-8954-4dc8-b733-2a8eb6fc0930"
   },
   "outputs": [
    {
     "data": {
      "text/html": [
       "\n",
       "  <div id=\"df-c318c5fc-6942-48f0-b091-fba81ae9e196\">\n",
       "    <div class=\"colab-df-container\">\n",
       "      <div>\n",
       "<style scoped>\n",
       "    .dataframe tbody tr th:only-of-type {\n",
       "        vertical-align: middle;\n",
       "    }\n",
       "\n",
       "    .dataframe tbody tr th {\n",
       "        vertical-align: top;\n",
       "    }\n",
       "\n",
       "    .dataframe thead th {\n",
       "        text-align: right;\n",
       "    }\n",
       "</style>\n",
       "<table border=\"1\" class=\"dataframe\">\n",
       "  <thead>\n",
       "    <tr style=\"text-align: right;\">\n",
       "      <th></th>\n",
       "      <th>Expiration Date</th>\n",
       "      <th>Calls</th>\n",
       "      <th>Last Sale</th>\n",
       "      <th>Net</th>\n",
       "      <th>Bid</th>\n",
       "      <th>Ask</th>\n",
       "      <th>Volume</th>\n",
       "      <th>IV</th>\n",
       "      <th>Delta</th>\n",
       "      <th>Gamma</th>\n",
       "      <th>Open Interest</th>\n",
       "      <th>Strike</th>\n",
       "      <th>Puts</th>\n",
       "      <th>Last Sale.1</th>\n",
       "      <th>Net.1</th>\n",
       "      <th>Bid.1</th>\n",
       "      <th>Ask.1</th>\n",
       "      <th>Volume.1</th>\n",
       "      <th>IV.1</th>\n",
       "      <th>Delta.1</th>\n",
       "      <th>Gamma.1</th>\n",
       "      <th>Open Interest.1</th>\n",
       "      <th>Call mid</th>\n",
       "      <th>Put mid</th>\n",
       "    </tr>\n",
       "  </thead>\n",
       "  <tbody>\n",
       "    <tr>\n",
       "      <th>0</th>\n",
       "      <td>Tue Feb 22 2022</td>\n",
       "      <td>SPXW220222C02400000</td>\n",
       "      <td>0.00</td>\n",
       "      <td>0.0</td>\n",
       "      <td>1945.6</td>\n",
       "      <td>1962.5</td>\n",
       "      <td>0</td>\n",
       "      <td>2.6200</td>\n",
       "      <td>1.0</td>\n",
       "      <td>0.0</td>\n",
       "      <td>0</td>\n",
       "      <td>2400</td>\n",
       "      <td>SPXW220222P02400000</td>\n",
       "      <td>0.05</td>\n",
       "      <td>0.025</td>\n",
       "      <td>0.0</td>\n",
       "      <td>0.05</td>\n",
       "      <td>1</td>\n",
       "      <td>1.5871</td>\n",
       "      <td>0.0</td>\n",
       "      <td>0.0</td>\n",
       "      <td>269</td>\n",
       "      <td>1954.05</td>\n",
       "      <td>0.025</td>\n",
       "    </tr>\n",
       "    <tr>\n",
       "      <th>1</th>\n",
       "      <td>Tue Feb 22 2022</td>\n",
       "      <td>SPXW220222C02600000</td>\n",
       "      <td>0.00</td>\n",
       "      <td>0.0</td>\n",
       "      <td>1745.6</td>\n",
       "      <td>1762.5</td>\n",
       "      <td>0</td>\n",
       "      <td>2.3011</td>\n",
       "      <td>1.0</td>\n",
       "      <td>0.0</td>\n",
       "      <td>0</td>\n",
       "      <td>2600</td>\n",
       "      <td>SPXW220222P02600000</td>\n",
       "      <td>0.05</td>\n",
       "      <td>0.025</td>\n",
       "      <td>0.0</td>\n",
       "      <td>0.05</td>\n",
       "      <td>2</td>\n",
       "      <td>1.3932</td>\n",
       "      <td>0.0</td>\n",
       "      <td>0.0</td>\n",
       "      <td>294</td>\n",
       "      <td>1754.05</td>\n",
       "      <td>0.025</td>\n",
       "    </tr>\n",
       "    <tr>\n",
       "      <th>2</th>\n",
       "      <td>Tue Feb 22 2022</td>\n",
       "      <td>SPXW220222C03000000</td>\n",
       "      <td>1328.24</td>\n",
       "      <td>0.0</td>\n",
       "      <td>1345.6</td>\n",
       "      <td>1362.5</td>\n",
       "      <td>0</td>\n",
       "      <td>1.7248</td>\n",
       "      <td>1.0</td>\n",
       "      <td>0.0</td>\n",
       "      <td>1</td>\n",
       "      <td>3000</td>\n",
       "      <td>SPXW220222P03000000</td>\n",
       "      <td>0.05</td>\n",
       "      <td>0.025</td>\n",
       "      <td>0.0</td>\n",
       "      <td>0.05</td>\n",
       "      <td>325</td>\n",
       "      <td>1.0238</td>\n",
       "      <td>0.0</td>\n",
       "      <td>0.0</td>\n",
       "      <td>988</td>\n",
       "      <td>1354.05</td>\n",
       "      <td>0.025</td>\n",
       "    </tr>\n",
       "    <tr>\n",
       "      <th>3</th>\n",
       "      <td>Tue Feb 22 2022</td>\n",
       "      <td>SPXW220222C03200000</td>\n",
       "      <td>1119.57</td>\n",
       "      <td>0.0</td>\n",
       "      <td>1151.5</td>\n",
       "      <td>1158.1</td>\n",
       "      <td>0</td>\n",
       "      <td>1.4583</td>\n",
       "      <td>1.0</td>\n",
       "      <td>0.0</td>\n",
       "      <td>17</td>\n",
       "      <td>3200</td>\n",
       "      <td>SPXW220222P03200000</td>\n",
       "      <td>0.05</td>\n",
       "      <td>0.000</td>\n",
       "      <td>0.0</td>\n",
       "      <td>0.05</td>\n",
       "      <td>3411</td>\n",
       "      <td>0.8503</td>\n",
       "      <td>0.0</td>\n",
       "      <td>0.0</td>\n",
       "      <td>9290</td>\n",
       "      <td>1154.80</td>\n",
       "      <td>0.025</td>\n",
       "    </tr>\n",
       "    <tr>\n",
       "      <th>4</th>\n",
       "      <td>Tue Feb 22 2022</td>\n",
       "      <td>SPXW220222C03300000</td>\n",
       "      <td>0.00</td>\n",
       "      <td>0.0</td>\n",
       "      <td>1051.6</td>\n",
       "      <td>1058.1</td>\n",
       "      <td>0</td>\n",
       "      <td>1.3334</td>\n",
       "      <td>1.0</td>\n",
       "      <td>0.0</td>\n",
       "      <td>0</td>\n",
       "      <td>3300</td>\n",
       "      <td>SPXW220222P03300000</td>\n",
       "      <td>0.05</td>\n",
       "      <td>0.050</td>\n",
       "      <td>0.0</td>\n",
       "      <td>0.05</td>\n",
       "      <td>343</td>\n",
       "      <td>0.7701</td>\n",
       "      <td>0.0</td>\n",
       "      <td>0.0</td>\n",
       "      <td>0</td>\n",
       "      <td>1054.85</td>\n",
       "      <td>0.025</td>\n",
       "    </tr>\n",
       "  </tbody>\n",
       "</table>\n",
       "</div>\n",
       "      <button class=\"colab-df-convert\" onclick=\"convertToInteractive('df-c318c5fc-6942-48f0-b091-fba81ae9e196')\"\n",
       "              title=\"Convert this dataframe to an interactive table.\"\n",
       "              style=\"display:none;\">\n",
       "        \n",
       "  <svg xmlns=\"http://www.w3.org/2000/svg\" height=\"24px\"viewBox=\"0 0 24 24\"\n",
       "       width=\"24px\">\n",
       "    <path d=\"M0 0h24v24H0V0z\" fill=\"none\"/>\n",
       "    <path d=\"M18.56 5.44l.94 2.06.94-2.06 2.06-.94-2.06-.94-.94-2.06-.94 2.06-2.06.94zm-11 1L8.5 8.5l.94-2.06 2.06-.94-2.06-.94L8.5 2.5l-.94 2.06-2.06.94zm10 10l.94 2.06.94-2.06 2.06-.94-2.06-.94-.94-2.06-.94 2.06-2.06.94z\"/><path d=\"M17.41 7.96l-1.37-1.37c-.4-.4-.92-.59-1.43-.59-.52 0-1.04.2-1.43.59L10.3 9.45l-7.72 7.72c-.78.78-.78 2.05 0 2.83L4 21.41c.39.39.9.59 1.41.59.51 0 1.02-.2 1.41-.59l7.78-7.78 2.81-2.81c.8-.78.8-2.07 0-2.86zM5.41 20L4 18.59l7.72-7.72 1.47 1.35L5.41 20z\"/>\n",
       "  </svg>\n",
       "      </button>\n",
       "      \n",
       "  <style>\n",
       "    .colab-df-container {\n",
       "      display:flex;\n",
       "      flex-wrap:wrap;\n",
       "      gap: 12px;\n",
       "    }\n",
       "\n",
       "    .colab-df-convert {\n",
       "      background-color: #E8F0FE;\n",
       "      border: none;\n",
       "      border-radius: 50%;\n",
       "      cursor: pointer;\n",
       "      display: none;\n",
       "      fill: #1967D2;\n",
       "      height: 32px;\n",
       "      padding: 0 0 0 0;\n",
       "      width: 32px;\n",
       "    }\n",
       "\n",
       "    .colab-df-convert:hover {\n",
       "      background-color: #E2EBFA;\n",
       "      box-shadow: 0px 1px 2px rgba(60, 64, 67, 0.3), 0px 1px 3px 1px rgba(60, 64, 67, 0.15);\n",
       "      fill: #174EA6;\n",
       "    }\n",
       "\n",
       "    [theme=dark] .colab-df-convert {\n",
       "      background-color: #3B4455;\n",
       "      fill: #D2E3FC;\n",
       "    }\n",
       "\n",
       "    [theme=dark] .colab-df-convert:hover {\n",
       "      background-color: #434B5C;\n",
       "      box-shadow: 0px 1px 3px 1px rgba(0, 0, 0, 0.15);\n",
       "      filter: drop-shadow(0px 1px 2px rgba(0, 0, 0, 0.3));\n",
       "      fill: #FFFFFF;\n",
       "    }\n",
       "  </style>\n",
       "\n",
       "      <script>\n",
       "        const buttonEl =\n",
       "          document.querySelector('#df-c318c5fc-6942-48f0-b091-fba81ae9e196 button.colab-df-convert');\n",
       "        buttonEl.style.display =\n",
       "          google.colab.kernel.accessAllowed ? 'block' : 'none';\n",
       "\n",
       "        async function convertToInteractive(key) {\n",
       "          const element = document.querySelector('#df-c318c5fc-6942-48f0-b091-fba81ae9e196');\n",
       "          const dataTable =\n",
       "            await google.colab.kernel.invokeFunction('convertToInteractive',\n",
       "                                                     [key], {});\n",
       "          if (!dataTable) return;\n",
       "\n",
       "          const docLinkHtml = 'Like what you see? Visit the ' +\n",
       "            '<a target=\"_blank\" href=https://colab.research.google.com/notebooks/data_table.ipynb>data table notebook</a>'\n",
       "            + ' to learn more about interactive tables.';\n",
       "          element.innerHTML = '';\n",
       "          dataTable['output_type'] = 'display_data';\n",
       "          await google.colab.output.renderOutput(dataTable, element);\n",
       "          const docLink = document.createElement('div');\n",
       "          docLink.innerHTML = docLinkHtml;\n",
       "          element.appendChild(docLink);\n",
       "        }\n",
       "      </script>\n",
       "    </div>\n",
       "  </div>\n",
       "  "
      ],
      "text/plain": [
       "   Expiration Date                Calls  ...  Call mid  Put mid\n",
       "0  Tue Feb 22 2022  SPXW220222C02400000  ...   1954.05    0.025\n",
       "1  Tue Feb 22 2022  SPXW220222C02600000  ...   1754.05    0.025\n",
       "2  Tue Feb 22 2022  SPXW220222C03000000  ...   1354.05    0.025\n",
       "3  Tue Feb 22 2022  SPXW220222C03200000  ...   1154.80    0.025\n",
       "4  Tue Feb 22 2022  SPXW220222C03300000  ...   1054.85    0.025\n",
       "\n",
       "[5 rows x 24 columns]"
      ]
     },
     "execution_count": 21,
     "metadata": {},
     "output_type": "execute_result"
    }
   ],
   "source": [
    "file_dir = \"spx_quotedata20220218_all.xlsx\"\n",
    "\n",
    "df = pd.read_excel(file_dir)\n",
    "df[\"Call mid\"]=(df[\"Bid\"]+df[\"Ask\"])/2\n",
    "df[\"Put mid\"]=(df[\"Bid.1\"]+df[\"Ask.1\"])/2\n",
    "df.head()"
   ]
  },
  {
   "cell_type": "code",
   "execution_count": 22,
   "metadata": {
    "colab": {
     "base_uri": "https://localhost:8080/",
     "height": 374
    },
    "id": "ioVdYVmROCmH",
    "outputId": "7274d7f8-ceb4-4fed-aa96-009cf64858e5"
   },
   "outputs": [
    {
     "data": {
      "text/html": [
       "\n",
       "  <div id=\"df-6569e0c8-efbf-49bb-9511-caf3bd8e41a3\">\n",
       "    <div class=\"colab-df-container\">\n",
       "      <div>\n",
       "<style scoped>\n",
       "    .dataframe tbody tr th:only-of-type {\n",
       "        vertical-align: middle;\n",
       "    }\n",
       "\n",
       "    .dataframe tbody tr th {\n",
       "        vertical-align: top;\n",
       "    }\n",
       "\n",
       "    .dataframe thead th {\n",
       "        text-align: right;\n",
       "    }\n",
       "</style>\n",
       "<table border=\"1\" class=\"dataframe\">\n",
       "  <thead>\n",
       "    <tr style=\"text-align: right;\">\n",
       "      <th></th>\n",
       "      <th>Expiration Date</th>\n",
       "      <th>Calls</th>\n",
       "      <th>Last Sale</th>\n",
       "      <th>Net</th>\n",
       "      <th>Bid</th>\n",
       "      <th>Ask</th>\n",
       "      <th>Volume</th>\n",
       "      <th>IV</th>\n",
       "      <th>Delta</th>\n",
       "      <th>Gamma</th>\n",
       "      <th>Open Interest</th>\n",
       "      <th>Strike</th>\n",
       "      <th>Puts</th>\n",
       "      <th>Last Sale.1</th>\n",
       "      <th>Net.1</th>\n",
       "      <th>Bid.1</th>\n",
       "      <th>Ask.1</th>\n",
       "      <th>Volume.1</th>\n",
       "      <th>IV.1</th>\n",
       "      <th>Delta.1</th>\n",
       "      <th>Gamma.1</th>\n",
       "      <th>Open Interest.1</th>\n",
       "      <th>Call mid</th>\n",
       "      <th>Put mid</th>\n",
       "      <th>TTM</th>\n",
       "    </tr>\n",
       "  </thead>\n",
       "  <tbody>\n",
       "    <tr>\n",
       "      <th>5231</th>\n",
       "      <td>2026-12-18</td>\n",
       "      <td>SPX261218C04400000</td>\n",
       "      <td>830.95</td>\n",
       "      <td>9.55</td>\n",
       "      <td>704.3</td>\n",
       "      <td>896.3</td>\n",
       "      <td>1</td>\n",
       "      <td>0.2128</td>\n",
       "      <td>0.6172</td>\n",
       "      <td>0.0002</td>\n",
       "      <td>52</td>\n",
       "      <td>4400</td>\n",
       "      <td>SPX261218P04400000</td>\n",
       "      <td>682.42</td>\n",
       "      <td>1.42</td>\n",
       "      <td>602.3</td>\n",
       "      <td>794.3</td>\n",
       "      <td>1</td>\n",
       "      <td>0.2099</td>\n",
       "      <td>-0.3959</td>\n",
       "      <td>0.0002</td>\n",
       "      <td>76</td>\n",
       "      <td>800.3</td>\n",
       "      <td>698.3</td>\n",
       "      <td>4.832877</td>\n",
       "    </tr>\n",
       "    <tr>\n",
       "      <th>5232</th>\n",
       "      <td>2026-12-18</td>\n",
       "      <td>SPX261218C04500000</td>\n",
       "      <td>796.13</td>\n",
       "      <td>0.00</td>\n",
       "      <td>656.9</td>\n",
       "      <td>848.9</td>\n",
       "      <td>0</td>\n",
       "      <td>0.2102</td>\n",
       "      <td>0.5973</td>\n",
       "      <td>0.0002</td>\n",
       "      <td>63</td>\n",
       "      <td>4500</td>\n",
       "      <td>SPX261218P04500000</td>\n",
       "      <td>750.00</td>\n",
       "      <td>27.55</td>\n",
       "      <td>644.5</td>\n",
       "      <td>836.5</td>\n",
       "      <td>2</td>\n",
       "      <td>0.2068</td>\n",
       "      <td>-0.4158</td>\n",
       "      <td>0.0002</td>\n",
       "      <td>150</td>\n",
       "      <td>752.9</td>\n",
       "      <td>740.5</td>\n",
       "      <td>4.832877</td>\n",
       "    </tr>\n",
       "    <tr>\n",
       "      <th>5233</th>\n",
       "      <td>2026-12-18</td>\n",
       "      <td>SPX261218C05500000</td>\n",
       "      <td>343.40</td>\n",
       "      <td>-36.25</td>\n",
       "      <td>267.5</td>\n",
       "      <td>459.5</td>\n",
       "      <td>1</td>\n",
       "      <td>0.1843</td>\n",
       "      <td>0.3872</td>\n",
       "      <td>0.0002</td>\n",
       "      <td>16</td>\n",
       "      <td>5500</td>\n",
       "      <td>SPX261218P05500000</td>\n",
       "      <td>1163.29</td>\n",
       "      <td>0.00</td>\n",
       "      <td>1153.3</td>\n",
       "      <td>1345.3</td>\n",
       "      <td>0</td>\n",
       "      <td>0.1786</td>\n",
       "      <td>-0.6258</td>\n",
       "      <td>0.0002</td>\n",
       "      <td>36</td>\n",
       "      <td>363.5</td>\n",
       "      <td>1249.3</td>\n",
       "      <td>4.832877</td>\n",
       "    </tr>\n",
       "    <tr>\n",
       "      <th>5234</th>\n",
       "      <td>2026-12-18</td>\n",
       "      <td>SPX261218C07600000</td>\n",
       "      <td>61.06</td>\n",
       "      <td>-7.44</td>\n",
       "      <td>21.9</td>\n",
       "      <td>101.9</td>\n",
       "      <td>1</td>\n",
       "      <td>0.1638</td>\n",
       "      <td>0.1060</td>\n",
       "      <td>0.0001</td>\n",
       "      <td>3</td>\n",
       "      <td>7600</td>\n",
       "      <td>SPX261218P07600000</td>\n",
       "      <td>0.00</td>\n",
       "      <td>0.00</td>\n",
       "      <td>2774.7</td>\n",
       "      <td>2966.7</td>\n",
       "      <td>0</td>\n",
       "      <td>0.1457</td>\n",
       "      <td>-0.9071</td>\n",
       "      <td>0.0001</td>\n",
       "      <td>0</td>\n",
       "      <td>61.9</td>\n",
       "      <td>2870.7</td>\n",
       "      <td>4.832877</td>\n",
       "    </tr>\n",
       "    <tr>\n",
       "      <th>5235</th>\n",
       "      <td>2026-12-18</td>\n",
       "      <td>SPX261218C07800000</td>\n",
       "      <td>52.91</td>\n",
       "      <td>-7.09</td>\n",
       "      <td>14.4</td>\n",
       "      <td>94.4</td>\n",
       "      <td>1</td>\n",
       "      <td>0.1645</td>\n",
       "      <td>0.0946</td>\n",
       "      <td>0.0001</td>\n",
       "      <td>595</td>\n",
       "      <td>7800</td>\n",
       "      <td>SPX261218P07800000</td>\n",
       "      <td>0.00</td>\n",
       "      <td>0.00</td>\n",
       "      <td>2948.9</td>\n",
       "      <td>3140.9</td>\n",
       "      <td>0</td>\n",
       "      <td>0.1429</td>\n",
       "      <td>-0.9185</td>\n",
       "      <td>0.0001</td>\n",
       "      <td>0</td>\n",
       "      <td>54.4</td>\n",
       "      <td>3044.9</td>\n",
       "      <td>4.832877</td>\n",
       "    </tr>\n",
       "  </tbody>\n",
       "</table>\n",
       "</div>\n",
       "      <button class=\"colab-df-convert\" onclick=\"convertToInteractive('df-6569e0c8-efbf-49bb-9511-caf3bd8e41a3')\"\n",
       "              title=\"Convert this dataframe to an interactive table.\"\n",
       "              style=\"display:none;\">\n",
       "        \n",
       "  <svg xmlns=\"http://www.w3.org/2000/svg\" height=\"24px\"viewBox=\"0 0 24 24\"\n",
       "       width=\"24px\">\n",
       "    <path d=\"M0 0h24v24H0V0z\" fill=\"none\"/>\n",
       "    <path d=\"M18.56 5.44l.94 2.06.94-2.06 2.06-.94-2.06-.94-.94-2.06-.94 2.06-2.06.94zm-11 1L8.5 8.5l.94-2.06 2.06-.94-2.06-.94L8.5 2.5l-.94 2.06-2.06.94zm10 10l.94 2.06.94-2.06 2.06-.94-2.06-.94-.94-2.06-.94 2.06-2.06.94z\"/><path d=\"M17.41 7.96l-1.37-1.37c-.4-.4-.92-.59-1.43-.59-.52 0-1.04.2-1.43.59L10.3 9.45l-7.72 7.72c-.78.78-.78 2.05 0 2.83L4 21.41c.39.39.9.59 1.41.59.51 0 1.02-.2 1.41-.59l7.78-7.78 2.81-2.81c.8-.78.8-2.07 0-2.86zM5.41 20L4 18.59l7.72-7.72 1.47 1.35L5.41 20z\"/>\n",
       "  </svg>\n",
       "      </button>\n",
       "      \n",
       "  <style>\n",
       "    .colab-df-container {\n",
       "      display:flex;\n",
       "      flex-wrap:wrap;\n",
       "      gap: 12px;\n",
       "    }\n",
       "\n",
       "    .colab-df-convert {\n",
       "      background-color: #E8F0FE;\n",
       "      border: none;\n",
       "      border-radius: 50%;\n",
       "      cursor: pointer;\n",
       "      display: none;\n",
       "      fill: #1967D2;\n",
       "      height: 32px;\n",
       "      padding: 0 0 0 0;\n",
       "      width: 32px;\n",
       "    }\n",
       "\n",
       "    .colab-df-convert:hover {\n",
       "      background-color: #E2EBFA;\n",
       "      box-shadow: 0px 1px 2px rgba(60, 64, 67, 0.3), 0px 1px 3px 1px rgba(60, 64, 67, 0.15);\n",
       "      fill: #174EA6;\n",
       "    }\n",
       "\n",
       "    [theme=dark] .colab-df-convert {\n",
       "      background-color: #3B4455;\n",
       "      fill: #D2E3FC;\n",
       "    }\n",
       "\n",
       "    [theme=dark] .colab-df-convert:hover {\n",
       "      background-color: #434B5C;\n",
       "      box-shadow: 0px 1px 3px 1px rgba(0, 0, 0, 0.15);\n",
       "      filter: drop-shadow(0px 1px 2px rgba(0, 0, 0, 0.3));\n",
       "      fill: #FFFFFF;\n",
       "    }\n",
       "  </style>\n",
       "\n",
       "      <script>\n",
       "        const buttonEl =\n",
       "          document.querySelector('#df-6569e0c8-efbf-49bb-9511-caf3bd8e41a3 button.colab-df-convert');\n",
       "        buttonEl.style.display =\n",
       "          google.colab.kernel.accessAllowed ? 'block' : 'none';\n",
       "\n",
       "        async function convertToInteractive(key) {\n",
       "          const element = document.querySelector('#df-6569e0c8-efbf-49bb-9511-caf3bd8e41a3');\n",
       "          const dataTable =\n",
       "            await google.colab.kernel.invokeFunction('convertToInteractive',\n",
       "                                                     [key], {});\n",
       "          if (!dataTable) return;\n",
       "\n",
       "          const docLinkHtml = 'Like what you see? Visit the ' +\n",
       "            '<a target=\"_blank\" href=https://colab.research.google.com/notebooks/data_table.ipynb>data table notebook</a>'\n",
       "            + ' to learn more about interactive tables.';\n",
       "          element.innerHTML = '';\n",
       "          dataTable['output_type'] = 'display_data';\n",
       "          await google.colab.output.renderOutput(dataTable, element);\n",
       "          const docLink = document.createElement('div');\n",
       "          docLink.innerHTML = docLinkHtml;\n",
       "          element.appendChild(docLink);\n",
       "        }\n",
       "      </script>\n",
       "    </div>\n",
       "  </div>\n",
       "  "
      ],
      "text/plain": [
       "     Expiration Date               Calls  ...  Put mid       TTM\n",
       "5231      2026-12-18  SPX261218C04400000  ...    698.3  4.832877\n",
       "5232      2026-12-18  SPX261218C04500000  ...    740.5  4.832877\n",
       "5233      2026-12-18  SPX261218C05500000  ...   1249.3  4.832877\n",
       "5234      2026-12-18  SPX261218C07600000  ...   2870.7  4.832877\n",
       "5235      2026-12-18  SPX261218C07800000  ...   3044.9  4.832877\n",
       "\n",
       "[5 rows x 25 columns]"
      ]
     },
     "execution_count": 22,
     "metadata": {},
     "output_type": "execute_result"
    }
   ],
   "source": [
    "monthdict = { \"Jan\":1,\"Feb\":2,\"Mar\":3,\"Apr\":4,\"May\":5,\"Jun\":6,\"Jul\":7,\"Aug\":8,\"Sep\":9,\"Oct\":10,\"Nov\":11,\"Dec\":12}\n",
    "def convdate(s):\n",
    "    return datetime.date(int(s.split()[3]),monthdict[s.split()[1]],int(s.split()[2]))\n",
    "\n",
    "df[\"Expiration Date\"] = df[\"Expiration Date\"].apply(convdate)\n",
    "today = datetime.date(2022, 2, 18)\n",
    "df[\"TTM\"] = df[\"Expiration Date\"].apply(lambda d: (d-today).days/365)\n",
    "df.tail()"
   ]
  },
  {
   "cell_type": "code",
   "execution_count": 23,
   "metadata": {
    "id": "esoV1XV7OzTj"
   },
   "outputs": [],
   "source": [
    "TTM = df[df[\"TTM\"] > 0].TTM.unique()"
   ]
  },
  {
   "cell_type": "markdown",
   "metadata": {
    "id": "qEoeftinP_VB"
   },
   "source": [
    "### a)"
   ]
  },
  {
   "cell_type": "code",
   "execution_count": 24,
   "metadata": {
    "id": "TxNyjXCzO12C"
   },
   "outputs": [],
   "source": [
    "def f(x,C,P,K,S):\n",
    "    D,B = x\n",
    "    return np.sum((C-P-D*S+B*K)**2)"
   ]
  },
  {
   "cell_type": "code",
   "execution_count": 27,
   "metadata": {
    "id": "0F6Tw9-EO44F"
   },
   "outputs": [],
   "source": [
    "N      = len(TTM)\n",
    "D      = np.empty(N)         # implied dividend discount factors\n",
    "B      = np.empty(N)         # implied discount factors\n",
    "i = 0\n",
    "for T in TTM:\n",
    "    C = df[df[\"TTM\"]==T][\"Call mid\"].to_numpy()\n",
    "    P = df[df[\"TTM\"]==T][\"Put mid\"].to_numpy()\n",
    "    K = df[df[\"TTM\"]==T][\"Strike\"].to_numpy()\n",
    "    args = C,P,K,SP500_20220218\n",
    "    D[i],B[i] = optimize.minimize(f, [0.9,0.9], method='SLSQP',args=args).x\n",
    "    i = i+1"
   ]
  },
  {
   "cell_type": "markdown",
   "metadata": {
    "id": "jU3zGtBIP0fK"
   },
   "source": [
    "Dividend Discount Factor"
   ]
  },
  {
   "cell_type": "code",
   "execution_count": 28,
   "metadata": {
    "colab": {
     "base_uri": "https://localhost:8080/"
    },
    "id": "F2ccS9DSO41x",
    "outputId": "261613ce-1dab-4e38-cf9a-b9fabe52fcce"
   },
   "outputs": [
    {
     "data": {
      "text/plain": [
       "array([1.00081956, 1.00089905, 1.00069795, 1.00054548, 1.00048221,\n",
       "       1.00035337, 1.00024542, 1.00003046, 0.99993389, 0.99988776,\n",
       "       0.99982618, 1.00007164, 0.9995549 , 0.99954613, 0.99936228,\n",
       "       0.99940831, 0.99909026, 0.99863593, 0.99758468, 0.99716977,\n",
       "       0.99627183, 0.9959214 , 0.9955784 , 0.99540101, 0.99426333,\n",
       "       0.99292592, 0.99252621, 0.99222549, 0.99101495, 0.98974061,\n",
       "       0.98981028, 0.98917019, 0.98801626, 0.98665434, 0.98310073,\n",
       "       0.97801851, 0.95904952, 0.95433891, 0.9257537 ])"
      ]
     },
     "execution_count": 28,
     "metadata": {},
     "output_type": "execute_result"
    }
   ],
   "source": [
    "D"
   ]
  },
  {
   "cell_type": "markdown",
   "metadata": {
    "id": "QxJyqqPeP4Zs"
   },
   "source": [
    "Zero Coupon Bond Price"
   ]
  },
  {
   "cell_type": "code",
   "execution_count": 29,
   "metadata": {
    "colab": {
     "base_uri": "https://localhost:8080/"
    },
    "id": "PgzSsoQCO4zK",
    "outputId": "a640d282-6b3d-463f-a306-f915bec4da9b"
   },
   "outputs": [
    {
     "data": {
      "text/plain": [
       "array([0.99939501, 0.99948532, 0.99947404, 0.99946013, 0.99947331,\n",
       "       0.9995509 , 0.99947398, 0.99937363, 0.99942632, 0.99959551,\n",
       "       0.99957107, 0.99984723, 0.99933906, 0.99943186, 0.99934264,\n",
       "       0.99937581, 0.99929817, 0.99890278, 0.99849656, 0.99822063,\n",
       "       0.99768123, 0.99726085, 0.9968499 , 0.99657917, 0.995578  ,\n",
       "       0.99441651, 0.99372725, 0.99303273, 0.99178995, 0.99042584,\n",
       "       0.98972748, 0.98839721, 0.98684342, 0.98524443, 0.97981647,\n",
       "       0.97029507, 0.94222727, 0.94601588, 0.89799942])"
      ]
     },
     "execution_count": 29,
     "metadata": {},
     "output_type": "execute_result"
    }
   ],
   "source": [
    "B"
   ]
  },
  {
   "cell_type": "markdown",
   "metadata": {
    "id": "lYvXulxTQBzg"
   },
   "source": [
    "### b)"
   ]
  },
  {
   "cell_type": "code",
   "execution_count": 30,
   "metadata": {
    "id": "k95wmtKVO4wf"
   },
   "outputs": [],
   "source": [
    "def BlackScholes(S,K,sgm,r,q,T,callput):\n",
    "    d1 = (np.log(S/K)+((r-q)+0.5*sgm*sgm)*T)/(sgm*np.sqrt(T))\n",
    "    d2 = d1 - sgm*np.sqrt(T)\n",
    "    return callput*(S*np.exp(-q*T)*norm.cdf(callput*d1)-K*np.exp(-r*T)*norm.cdf(callput*d2))\n",
    "\n",
    "def BlackScholesSGM(sgm,S,K,r,q,T,callput,price):\n",
    "    return price-BlackScholes(S,K,sgm,r,q,T,callput)\n",
    "\n",
    "def BlackScholesImpVol(S,K,r,q,T,callput,price):\n",
    "\tsol = optimize.root_scalar(BlackScholesSGM, bracket=[0.0001, 1.0], args=(S,K,r,q,T,callput,price))\n",
    "\treturn sol.root"
   ]
  },
  {
   "cell_type": "code",
   "execution_count": 31,
   "metadata": {
    "id": "dr0Lp2P7O4t8"
   },
   "outputs": [],
   "source": [
    "class SSVI:\n",
    "    def __init__(self,df,S,minTTM):\n",
    "        self.S      = S\n",
    "        self.minTTM = minTTM\n",
    "        self.gamma1 = 0.238\n",
    "        self.gamma2 = 0.253\n",
    "        self.beta1  = np.exp(5.18)\n",
    "        self.beta2  = np.exp(-3.0)\n",
    "        self.TTM    = df[df[\"TTM\"]>=minTTM].TTM.unique() # NumPy array\n",
    "        self.N      = len(self.TTM)\n",
    "        self.D      = np.empty(self.N)         # implied dividend discount factors\n",
    "        self.B      = np.empty(self.N)         # implied discount factors\n",
    "        self.q      = np.empty(self.N)         # implied dividend rates\n",
    "        self.r      = np.empty(self.N)         # implied interest rates\n",
    "        self.F      = np.empty(self.N)         # forward prices\n",
    "        self.theta  = np.empty(self.N)         # at-the-money total implied variance\n",
    "        self.ATMvol = np.empty(self.N)         # at-the-money volatility\n",
    "        self.k      = []                       # log moneyness as list (in maturity) of arrays (in strikes)\n",
    "        self.TIVCb  = []                       # total implied variance of call bid prices\n",
    "        self.TIVCa  = []                       # total implied variance of call ask prices\n",
    "        self.TIVPb  = []                       # total implied variance of put bid prices\n",
    "        self.TIVPa  = []                       # total implied variance of put ask prices\n",
    "        self.TIVb   = []                       # total implied variance of bid prices\n",
    "        self.TIVa   = []                       # total implied variance of ask prices\n",
    "        i = 0\n",
    "        for T in self.TTM: # prepare data for calibration objective function\n",
    "            C = df[df[\"TTM\"]==T][\"Call mid\"].to_numpy()\n",
    "            P = df[df[\"TTM\"]==T][\"Put mid\"].to_numpy()\n",
    "            K = df[df[\"TTM\"]==T][\"Strike\"].to_numpy()\n",
    "            # dividends and interest rates\n",
    "            args = C,P,K\n",
    "            self.D[i],self.B[i] = optimize.minimize(self.f, [0.9,0.9], method='SLSQP',args=args).x\n",
    "            self.r[i] = -np.log(self.B[i])/T\n",
    "            self.q[i] = -np.log(self.D[i])/T\n",
    "            self.F[i] = self.S*self.D[i]/self.B[i]\n",
    "            # at-the-money volatility\n",
    "            idx = (np.abs(K - self.F[i])).argmin() # index of strike closest to ATM fwd\n",
    "            v1 = BlackScholesImpVol(self.S,K[idx],self.r[i],self.q[i],T,1,C[idx])\n",
    "            v2 = BlackScholesImpVol(self.S,K[idx],self.r[i],self.q[i],T,-1,P[idx])\n",
    "            self.ATMvol[i] = (v1+v2)/2\n",
    "            self.theta[i] = self.ATMvol[i]**2 * T\n",
    "            # log forward moneyness\n",
    "            self.k.append(np.log(K/self.F[i])) \n",
    "            # now calculate total implied variances from option prices\n",
    "            Cb = df[df[\"TTM\"]==T][\"Bid\"].to_numpy()\n",
    "            Ca = df[df[\"TTM\"]==T][\"Ask\"].to_numpy()\n",
    "            Pb = df[df[\"TTM\"]==T][\"Bid.1\"].to_numpy()\n",
    "            Pa = df[df[\"TTM\"]==T][\"Ask.1\"].to_numpy()\n",
    "            CbTIV = np.empty(len(K))\n",
    "            CaTIV = np.empty(len(K))\n",
    "            PbTIV = np.empty(len(K))\n",
    "            PaTIV = np.empty(len(K))\n",
    "            bTIV  = np.empty(len(K))\n",
    "            aTIV  = np.empty(len(K))\n",
    "            for j in range(0,len(K)):\n",
    "                if (np.abs(self.k[i][j])/self.theta[i]>3.5):\n",
    "                    self.k[i][j] = np.inf\n",
    "                else:             \n",
    "                    try:                    \n",
    "                        CbTIV[j] = BlackScholesImpVol(self.S,K[j],self.r[i],self.q[i],T,1,Cb[j])**2 * T                \n",
    "                        CaTIV[j] = BlackScholesImpVol(self.S,K[j],self.r[i],self.q[i],T,1,Ca[j])**2 * T                \n",
    "                        PbTIV[j] = BlackScholesImpVol(self.S,K[j],self.r[i],self.q[i],T,-1,Pb[j])**2 * T                \n",
    "                        PaTIV[j] = BlackScholesImpVol(self.S,K[j],self.r[i],self.q[i],T,-1,Pa[j])**2 * T             \n",
    "                        bTIV[j]  = np.minimum(CbTIV[j],PbTIV[j])                \n",
    "                        aTIV[j]  = np.maximum(CaTIV[j],PaTIV[j])\n",
    "                    except ValueError:\n",
    "                        print(\"Skipping: \",self.S,K[j],self.r[i],self.q[i],T,1,Cb[j])\n",
    "                        self.k[i][j] = np.inf\n",
    "            self.TIVCb.append(CbTIV[self.k[i]!=np.inf])\n",
    "            self.TIVCa.append(CaTIV[self.k[i]!=np.inf])\n",
    "            self.TIVPb.append(PbTIV[self.k[i]!=np.inf])\n",
    "            self.TIVPa.append(PaTIV[self.k[i]!=np.inf])\n",
    "            self.TIVb.append(bTIV[self.k[i]!=np.inf])\n",
    "            self.TIVa.append(aTIV[self.k[i]!=np.inf])\n",
    "            self.k[i] = self.k[i][self.k[i]!=np.inf]\n",
    "            i += 1\n",
    "        epsilon,self.rho = optimize.minimize(self.objfunc, [0.5,-0.7], method='SLSQP').x\n",
    "        self.set_eta(epsilon)\n",
    "    def f(self,x,C,P,K):    # squared deviations from put/call parity\n",
    "        D,B = x\n",
    "        return np.sum((C-P-D*self.S+B*K)**2)\n",
    "    def set_eta(self,epsilon):\n",
    "        self.eta = 2.016048*np.exp(np.maximum(-1.0,np.minimum(1.0,epsilon)))\n",
    "    def phi(self,theta):\n",
    "        return self.eta/(theta**self.gamma1*(1+self.beta1*theta)**self.gamma2*(1+self.beta2*theta)**(1.0-self.gamma1-self.gamma2))\n",
    "    def w(self,i,k):\n",
    "        phi_k = self.phi(self.theta[i])*k\n",
    "        return 0.5*self.theta[i]*(1+self.rho*phi_k+np.sqrt((phi_k+self.rho)**2+(1.0-self.rho**2)))\n",
    "    def objfunc(self,x):    # calibration objective function\n",
    "        self.set_eta(x[0])\n",
    "        self.rho = x[1]\n",
    "        phi = self.eta/(self.theta**self.gamma1*(1+self.beta1*self.theta)**self.gamma2*(1+self.beta2*self.theta)**(1.0-self.gamma1-self.gamma2))\n",
    "        phi_k = phi*self.k\n",
    "        w = 0.5*self.theta*(1+self.rho*phi_k+np.array(list(map(lambda i:np.sqrt(i),(phi_k+self.rho)**2+(1.0-self.rho**2))),dtype=object)) \n",
    "        err = np.sum(np.array(list(map(lambda i:np.sum(i),np.array(list(map(lambda x:np.maximum(0.0,x), w-self.TIVa)),dtype=object)**2/w**2)),dtype=object))\n",
    "        err += np.sum(np.array(list(map(lambda i:np.sum(i),np.array(list(map(lambda x:np.minimum(0.0,x), w-self.TIVb)),dtype=object)**2/w**2)),dtype=object))\n",
    "        return err\n",
    "    def smile(self,i):      # return the model implied volatility smile for the i-th maturity\n",
    "        phi_k = self.phi(self.theta[i])*self.k[i]\n",
    "        return np.sqrt(0.5*self.theta[i]*(1+self.rho*phi_k+np.array(list(map(lambda i:np.sqrt(i),(phi_k+self.rho)**2+(1.0-self.rho**2)))))/self.TTM[i])"
   ]
  },
  {
   "cell_type": "code",
   "execution_count": 37,
   "metadata": {
    "colab": {
     "base_uri": "https://localhost:8080/"
    },
    "id": "XkrkQoM3O4d6",
    "outputId": "414d2240-f8a1-4723-80f2-b5682a468b92"
   },
   "outputs": [
    {
     "name": "stdout",
     "output_type": "stream",
     "text": [
      "Skipping:  4348.8701 5800 0.016551274189807577 0.012199608427830008 1.821917808219178 1 35.0\n",
      "Skipping:  4348.8701 5900 0.016551274189807577 0.012199608427830008 1.821917808219178 1 39.7\n",
      "Skipping:  4348.8701 7600 0.022261246390628424 0.015962968374834026 4.832876712328767 1 21.9\n",
      "Skipping:  4348.8701 7800 0.022261246390628424 0.015962968374834026 4.832876712328767 1 14.4\n"
     ]
    },
    {
     "name": "stderr",
     "output_type": "stream",
     "text": [
      "/usr/local/lib/python3.7/dist-packages/ipykernel_launcher.py:93: VisibleDeprecationWarning: Creating an ndarray from ragged nested sequences (which is a list-or-tuple of lists-or-tuples-or ndarrays with different lengths or shapes) is deprecated. If you meant to do this, you must specify 'dtype=object' when creating the ndarray.\n",
      "/usr/local/lib/python3.7/dist-packages/ipykernel_launcher.py:95: VisibleDeprecationWarning: Creating an ndarray from ragged nested sequences (which is a list-or-tuple of lists-or-tuples-or ndarrays with different lengths or shapes) is deprecated. If you meant to do this, you must specify 'dtype=object' when creating the ndarray.\n",
      "/usr/local/lib/python3.7/dist-packages/ipykernel_launcher.py:96: VisibleDeprecationWarning: Creating an ndarray from ragged nested sequences (which is a list-or-tuple of lists-or-tuples-or ndarrays with different lengths or shapes) is deprecated. If you meant to do this, you must specify 'dtype=object' when creating the ndarray.\n",
      "/usr/local/lib/python3.7/dist-packages/ipykernel_launcher.py:94: RuntimeWarning: invalid value encountered in sqrt\n"
     ]
    }
   ],
   "source": [
    "ssvi=SSVI(df, SP500_20220218, TTM[0])"
   ]
  },
  {
   "cell_type": "markdown",
   "metadata": {
    "id": "kUq1_CltW8zU"
   },
   "source": [
    "The following code checks the quality of the calibration for each maturity $T_i$ by printing \"OK\" if the model total variance $w(k,T_i)$ lies between the bid and ask market-implied total variances. Otherwise, it prints bid, model and ask total variances for all available strikes for that maturity."
   ]
  },
  {
   "cell_type": "code",
   "execution_count": 40,
   "metadata": {
    "colab": {
     "base_uri": "https://localhost:8080/"
    },
    "id": "4TD-aJPVSXa3",
    "outputId": "b17e016c-bbb1-41ea-df09-61fdb920ef9e"
   },
   "outputs": [
    {
     "name": "stdout",
     "output_type": "stream",
     "text": [
      "0 OK\n",
      "1 OK\n",
      "2 OK\n",
      "3 [0.00156441 0.00154367 0.00152508 0.00150404 0.00148502 0.00146775\n",
      " 0.00144828 0.00142611 0.00140574] [0.00159299 0.00156916 0.00154544 0.00152182 0.00149831 0.00147491\n",
      " 0.00145163 0.00142848 0.00140544] [0.00160138 0.00158489 0.00156137 0.00154456 0.00152525 0.00150345\n",
      " 0.00149246 0.0014746  0.00145414]\n",
      "4 [0.0020468  0.0020161  0.00199355 0.00196863 0.00194644 0.00192182\n",
      " 0.00189479 0.00187531 0.00184834 0.00182383 0.0018017  0.00177698] [0.0020837  0.00205518 0.00202677 0.00199848 0.0019703  0.00194224\n",
      " 0.00191431 0.0018865  0.00185882 0.00183128 0.00180388 0.00177662] [0.00209999 0.00207398 0.00205093 0.0020255  0.00200059 0.00197569\n",
      " 0.00195036 0.00193382 0.00190661 0.00188193 0.00185971 0.0018349 ]\n",
      "5 [0.00249801 0.00246465 0.00244057 0.00240841 0.00237962 0.00235408\n",
      " 0.00232611 0.00229574 0.00226489 0.00223502 0.00220812 0.00217869\n",
      " 0.0021507  0.00211758] [0.00256276 0.0025299  0.00249717 0.00246455 0.00243207 0.00239971\n",
      " 0.00236748 0.0023354  0.00230345 0.00227165 0.00223999 0.00220849\n",
      " 0.00217715 0.00214596] [0.00255405 0.00252583 0.00249831 0.00247137 0.00243887 0.00240712\n",
      " 0.00237866 0.00235129 0.00232367 0.00229911 0.00226652 0.00223694\n",
      " 0.00221027 0.00218101]\n",
      "6 [0.00276723 0.00273407 0.00270431 0.00267225 0.00264388 0.00261314\n",
      " 0.00258006 0.00255046 0.00252262 0.00248406 0.00245298 0.00242875\n",
      " 0.00239819 0.00236511 0.00233511 0.00230252] [0.00284341 0.00280826 0.00277323 0.00273833 0.00270355 0.00266891\n",
      " 0.0026344  0.00260003 0.00256581 0.00253173 0.00249781 0.00246403\n",
      " 0.00243042 0.00239697 0.00236369 0.00233058] [0.00284179 0.00280729 0.00277673 0.00274387 0.00271478 0.00268333\n",
      " 0.00264954 0.00261932 0.0025867  0.00255168 0.00252005 0.00251113\n",
      " 0.00248035 0.00244704 0.00241691 0.00238419]\n",
      "7 [0.00320501 0.00313182 0.0030984  0.00306271 0.00302474 0.00299085\n",
      " 0.00295462 0.00293308 0.00288757 0.00285046 0.00281707 0.00278122\n",
      " 0.00274898 0.00264308 0.00260665] [0.00328558 0.00320832 0.00316988 0.00313159 0.00309343 0.00305541\n",
      " 0.00301754 0.00297982 0.00294225 0.00290484 0.00286759 0.0028305\n",
      " 0.00279358 0.00268388 0.00264768] [0.00328522 0.00321675 0.00318243 0.00314583 0.00310696 0.00307226\n",
      " 0.00303523 0.00300219 0.00296676 0.00292894 0.00290342 0.0028671\n",
      " 0.00283448 0.00272757 0.00269086]\n",
      "8 OK\n",
      "9 OK\n",
      "10 OK\n",
      "11 [0.00501669 0.00516931 0.00496933 0.00512067 0.00492813 0.00507831\n",
      " 0.00486828 0.0050254  0.00482277 0.00497867 0.00477506 0.00492976\n",
      " 0.00488683 0.00470037 0.00484163 0.00465396 0.00479417 0.00460978\n",
      " 0.00474448 0.00455101 0.00470049 0.00451686 0.00465418 0.00446146\n",
      " 0.00460557 0.00441918 0.00455467 0.00436333 0.00450921 0.00432388\n",
      " 0.00446139 0.00427445 0.00441886 0.00423015 0.00436627 0.00418716\n",
      " 0.00431891 0.00413803 0.00427295 0.00409387 0.0042244  0.00403983\n",
      " 0.00417719 0.00399804 0.00413144 0.00394634 0.00408669 0.00389942\n",
      " 0.00403937 0.00384991 0.00398947 0.00381234 0.00394436] [0.00513605 0.00513605 0.00508459 0.00508459 0.00503328 0.00503328\n",
      " 0.00498211 0.00498211 0.0049311  0.0049311  0.00488025 0.00488025\n",
      " 0.00482955 0.00477902 0.00477902 0.00472865 0.00472865 0.00467844\n",
      " 0.00467844 0.00462841 0.00462841 0.00457855 0.00457855 0.00452886\n",
      " 0.00452886 0.00447936 0.00447936 0.00443003 0.00443003 0.0043809\n",
      " 0.0043809  0.00433196 0.00433196 0.00428321 0.00428321 0.00423466\n",
      " 0.00423466 0.00418631 0.00418631 0.00413817 0.00413817 0.00409025\n",
      " 0.00409025 0.00404254 0.00404254 0.00399505 0.00399505 0.00394779\n",
      " 0.00394779 0.00390076 0.00390076 0.00385397 0.00385397] [0.00516078 0.00525817 0.00512067 0.00520885 0.00506991 0.00515743\n",
      " 0.0050254  0.00511231 0.0049654  0.00506498 0.00492485 0.00501547\n",
      " 0.00497202 0.00482882 0.00491813 0.00478151 0.0048702  0.00473197\n",
      " 0.00482809 0.00468812 0.00477565 0.00464195 0.00472894 0.00459347\n",
      " 0.00467992 0.00455048 0.00463646 0.00449737 0.00458282 0.00445737\n",
      " 0.00453466 0.00441492 0.00449185 0.00436241 0.00443893 0.00432271\n",
      " 0.00439894 0.00427295 0.00434883 0.00422828 0.00430388 0.00418111\n",
      " 0.00425643 0.00413144 0.00420647 0.00408669 0.00416151 0.00404681\n",
      " 0.00411399 0.00399688 0.00407135 0.00395176 0.00402609]\n",
      "12 OK\n",
      "13 OK\n",
      "14 OK\n",
      "15 OK\n",
      "16 [0.00978519 0.00997875 0.00989806 0.00963674 0.00982748 0.00956548\n",
      " 0.009743   0.00949222 0.00966848 0.00941697 0.00933976 0.00951353\n",
      " 0.00928351 0.00944469 0.00920225 0.00936228 0.00913039 0.00928936\n",
      " 0.00905647 0.00898052 0.0091374  0.00890255 0.00906956 0.00883358\n",
      " 0.00898848 0.00876249 0.00891645 0.00868929 0.0088423  0.00861398\n",
      " 0.00876606 0.00853659 0.00846781 0.00838621 0.00854632 0.00831313\n",
      " 0.00847234 0.00824839 0.0083962  0.00817092 0.00831791 0.00824796\n",
      " 0.00803025 0.00816533 0.00795655 0.00810134 0.00788061 0.00802468\n",
      " 0.00781033 0.00794579 0.00774041 0.00787492 0.00765807 0.00780174\n",
      " 0.00759363 0.00772625 0.00752679 0.00765855 0.00745756 0.0075784\n",
      " 0.00737599 0.00750598 0.00731174 0.00744115 0.00723551 0.00736391\n",
      " 0.00716654 0.00729419 0.0070951  0.00722201 0.00702118 0.00714892\n",
      " 0.00695453 0.00708006 0.00688534 0.00701023 0.00681359 0.00693784\n",
      " 0.00672958 0.00687266 0.00660217 0.0067283  0.00643352 0.00666532\n",
      " 0.00635847 0.00659537 0.00629983 0.00653637 0.00622888] [0.00989844 0.00989844 0.00982174 0.00974522 0.00974522 0.00966888\n",
      " 0.00966888 0.00959272 0.00959272 0.00951675 0.00944096 0.00944096\n",
      " 0.00936536 0.00936536 0.00928994 0.00928994 0.00921472 0.00921472\n",
      " 0.00913969 0.00906486 0.00906486 0.00899022 0.00899022 0.00891578\n",
      " 0.00891578 0.00884155 0.00884155 0.00876752 0.00876752 0.00869369\n",
      " 0.00869369 0.00862007 0.00854667 0.00847348 0.00847348 0.0084005\n",
      " 0.0084005  0.00832775 0.00832775 0.00825522 0.00825522 0.00818291\n",
      " 0.00811084 0.00811084 0.00803899 0.00803899 0.00796738 0.00796738\n",
      " 0.00789601 0.00789601 0.00782489 0.00782489 0.00775401 0.00775401\n",
      " 0.00768337 0.00768337 0.007613   0.007613   0.00754288 0.00754288\n",
      " 0.00747302 0.00747302 0.00740343 0.00740343 0.0073341  0.0073341\n",
      " 0.00726506 0.00726506 0.00719629 0.00719629 0.00712781 0.00712781\n",
      " 0.00705961 0.00705961 0.00699171 0.00699171 0.00692411 0.00692411\n",
      " 0.00685681 0.00685681 0.00672316 0.00672316 0.00665681 0.00665681\n",
      " 0.00659078 0.00659078 0.0065251  0.0065251  0.00645975] [0.01012507 0.01014955 0.01006758 0.00997169 0.00999582 0.00988612\n",
      " 0.00990923 0.0098106  0.00983438 0.0097331  0.00964194 0.00967752\n",
      " 0.00954983 0.0096072  0.00946708 0.00952486 0.00939226 0.00943979\n",
      " 0.00931662 0.00924134 0.00928666 0.00916203 0.00921833 0.00908875\n",
      " 0.00913665 0.00900501 0.00906411 0.00893033 0.00898946 0.0088578\n",
      " 0.00891271 0.0087902  0.0087046  0.00862685 0.0086808  0.0085528\n",
      " 0.00860646 0.00848725 0.00852995 0.00841943 0.00845129 0.00838105\n",
      " 0.00825603 0.00830857 0.008192   0.00823385 0.00811525 0.00815689\n",
      " 0.00804662 0.0080777  0.00797567 0.00800662 0.00790241 0.0079435\n",
      " 0.00782683 0.00786775 0.00775912 0.00779988 0.00767888 0.00771947\n",
      " 0.00760643 0.00764686 0.00754165 0.00758196 0.00746437 0.00750453\n",
      " 0.0073947  0.00743473 0.00732256 0.00736247 0.00725788 0.00728773\n",
      " 0.00718075 0.00722045 0.00711103 0.00715063 0.00704861 0.00707826\n",
      " 0.00697375 0.00701319 0.00683589 0.00687521 0.00683178 0.00680227\n",
      " 0.00676596 0.00673647 0.00671711 0.00666798 0.00664585]\n",
      "17 [0.01256842 0.01239713 0.01204527 0.01196248 0.01186462 0.011791\n",
      " 0.01170234 0.01145025 0.01135383 0.01118031 0.01110294 0.01101114\n",
      " 0.01091738 0.01083383 0.01066052 0.01055882 0.01049089 0.01023766\n",
      " 0.01007087 0.00997812 0.00989475 0.00980916 0.00972138 0.00964272\n",
      " 0.00955049 0.0094673  0.00928902 0.00919961 0.00911896 0.00887373\n",
      " 0.00879446 0.00871274 0.00862856 0.00831009 0.00823484 0.00815698\n",
      " 0.00800406 0.00793449 0.00785112 0.00778125 0.00769795 0.00763323\n",
      " 0.00755502] [0.0125811  0.01240493 0.01205489 0.01196787 0.01188105 0.01179443\n",
      " 0.01170801 0.01144998 0.01136439 0.01119384 0.01110888 0.01102415\n",
      " 0.01093963 0.01085533 0.01068741 0.01060379 0.01052041 0.01027166\n",
      " 0.01010702 0.01002508 0.00994338 0.00986194 0.00978076 0.00969983\n",
      " 0.00961917 0.00953878 0.0093788  0.00929923 0.00921994 0.0089838\n",
      " 0.00890568 0.00882786 0.00875035 0.00844348 0.00836758 0.00829201\n",
      " 0.00814192 0.00806741 0.00799325 0.00791946 0.00784604 0.007773\n",
      " 0.00770035] [0.01284639 0.0126713  0.01231208 0.01221426 0.01212788 0.0120264\n",
      " 0.01194927 0.01165645 0.01154666 0.01137219 0.01128195 0.01119656\n",
      " 0.0111079  0.01103623 0.01086199 0.0107597  0.0106675  0.01042599\n",
      " 0.0102346  0.01015327 0.01006973 0.00998397 0.00990748 0.00980582\n",
      " 0.00972483 0.00964155 0.00952444 0.00943407 0.0093526  0.00910508\n",
      " 0.00902514 0.00894276 0.00885792 0.00853741 0.0084618  0.00838359\n",
      " 0.00823013 0.00815482 0.00807682 0.0079961  0.00792346 0.00784804\n",
      " 0.00778065]\n",
      "18 OK\n",
      "19 [0.01829459 0.01719595 0.01676576 0.01654711 0.01633619 0.01611754\n",
      " 0.01590618 0.01557447 0.0152544  0.01504061 0.01461708 0.0144851\n",
      " 0.01437912 0.01418633 0.01397543 0.01377015 0.01353738 0.01345894\n",
      " 0.01333895 0.01311474 0.01290083 0.01209619 0.01190008 0.01170684\n",
      " 0.01112967 0.01094589 0.01058375 0.0104895  0.01040503] [0.01841342 0.01732103 0.01689037 0.01667643 0.01646343 0.01625139\n",
      " 0.01604031 0.01572553 0.015413   0.01520592 0.01479491 0.01469282\n",
      " 0.01459101 0.0143882  0.01418652 0.01398596 0.01378657 0.01368732\n",
      " 0.01358836 0.01339136 0.0131956  0.01242543 0.01223627 0.01204853\n",
      " 0.01149418 0.01131248 0.01095398 0.01086541 0.01077726] [0.01868696 0.01756516 0.01712654 0.01690381 0.01667359 0.01645123\n",
      " 0.01616101 0.01585023 0.01551529 0.01528705 0.01484975 0.01476005\n",
      " 0.01464003 0.01442192 0.01420928 0.01400183 0.01378569 0.01367438\n",
      " 0.01357439 0.01343458 0.01321836 0.01240638 0.01220882 0.01201432\n",
      " 0.01143429 0.01124999 0.01088739 0.01080582 0.01070875]\n",
      "20 [0.02228498 0.02255448 0.02115676 0.02133466 0.02043403 0.01996766\n",
      " 0.01988778 0.01948817 0.01962968 0.01952307 0.01920408 0.01876238\n",
      " 0.01867229 0.01814593 0.01831587 0.01802975 0.01780027 0.01795761\n",
      " 0.01757531 0.0177193  0.01748843 0.01726468 0.01696967 0.01713445\n",
      " 0.01683607 0.01659734 0.01679217 0.01638841 0.01654354 0.01613934\n",
      " 0.01630152 0.01589028 0.0160658  0.01581351 0.01595935 0.01564736\n",
      " 0.01519301 0.01495248 0.01515163 0.01471715 0.01490085 0.0146031\n",
      " 0.01478625 0.01468344 0.01426099 0.01447065 0.01408128 0.01422039\n",
      " 0.01382253 0.01400244 0.0136231  0.01380239 0.01351275 0.01369169\n",
      " 0.01338623 0.01356473 0.01318037 0.01296424 0.01314174 0.01295576\n",
      " 0.01243311 0.01274549 0.01235121 0.01265    0.01252452 0.01203512\n",
      " 0.01234721 0.01183303 0.01215884 0.01161963 0.01194558 0.01176189\n",
      " 0.01133874 0.01166572 0.01086585 0.01123706] [0.02245129 0.02245129 0.02123296 0.02123296 0.02051321 0.02003819\n",
      " 0.01980215 0.0195671  0.0195671  0.01944996 0.01933306 0.01886803\n",
      " 0.01863707 0.01829261 0.01829261 0.01817832 0.01795055 0.01795055\n",
      " 0.01772388 0.01772388 0.01749832 0.01727389 0.0171621  0.0171621\n",
      " 0.0170506  0.01682847 0.01682847 0.01660752 0.01660752 0.01638778\n",
      " 0.01638778 0.01616925 0.01616925 0.01606046 0.01606046 0.01595198\n",
      " 0.01552124 0.01530784 0.01530784 0.01509578 0.01509578 0.01499026\n",
      " 0.01499026 0.01488509 0.01467579 0.01467579 0.01446793 0.01446793\n",
      " 0.01426153 0.01426153 0.01405662 0.01405662 0.01395473 0.01395473\n",
      " 0.01385323 0.01385323 0.01365141 0.01345119 0.01345119 0.01325261\n",
      " 0.0130557  0.0130557  0.01295789 0.01295789 0.01286052 0.01266709\n",
      " 0.01266709 0.01247547 0.01247547 0.01228571 0.01228571 0.01209784\n",
      " 0.01200463 0.01200463 0.01154612 0.01154612] [0.02292245 0.02286418 0.02164867 0.02163036 0.02089183 0.02039834\n",
      " 0.02019207 0.0198928  0.0199267  0.01979981 0.01963755 0.01913817\n",
      " 0.01892609 0.01851236 0.01856042 0.01839746 0.01814583 0.01819389\n",
      " 0.01790216 0.01796476 0.01771261 0.01746802 0.01731754 0.01735037\n",
      " 0.01716972 0.01694281 0.01698507 0.01673784 0.01674632 0.01647938\n",
      " 0.01651409 0.0162423  0.01627331 0.01614994 0.01614994 0.0160113\n",
      " 0.01555201 0.01532337 0.01538082 0.01509993 0.01515705 0.01498474\n",
      " 0.0150417  0.01492404 0.01463944 0.01469592 0.01443029 0.01447244\n",
      " 0.01422539 0.01425338 0.01401063 0.01402457 0.01389953 0.01391344\n",
      " 0.01379983 0.01381372 0.01357895 0.0133755  0.01338931 0.01317544\n",
      " 0.01303368 0.01297857 0.01295189 0.01286925 0.01277099 0.01266266\n",
      " 0.01258005 0.01247449 0.01237807 0.01227515 0.01219242 0.01200921\n",
      " 0.01201012 0.0119133  0.01158469 0.01147304]\n",
      "21 [0.02441319 0.02402323 0.02377393 0.02314744 0.02302044 0.02225708\n",
      " 0.02188677 0.02175956 0.02163049 0.02039211 0.01963386 0.01912731\n",
      " 0.0189917  0.01860504 0.01811355 0.0178708  0.01749079 0.0173599\n",
      " 0.0171221  0.01689054 0.01637669 0.01626497 0.0144871  0.0142571\n",
      " 0.01338864 0.01192343] [0.02422672 0.02384091 0.02358489 0.02294911 0.02282268 0.02206935\n",
      " 0.02169607 0.02157216 0.0214485  0.02022636 0.01950606 0.01903149\n",
      " 0.01891357 0.01856157 0.01809643 0.01786571 0.01752197 0.01740803\n",
      " 0.01718113 0.01695554 0.01650843 0.01639751 0.01477806 0.01456881\n",
      " 0.01374906 0.01229405] [0.02495532 0.02457594 0.0243205  0.02366012 0.02353033 0.02276925\n",
      " 0.022373   0.0222433  0.02211173 0.02069744 0.01991402 0.01942506\n",
      " 0.01929031 0.01889148 0.01838732 0.01813501 0.01778543 0.01765553\n",
      " 0.01740465 0.01714513 0.01678013 0.0166304  0.01489064 0.01465953\n",
      " 0.01378907 0.01233119]\n",
      "22 [0.02798233 0.02732753 0.02666976 0.02536024 0.02483226 0.02431284\n",
      " 0.02404186 0.0237821  0.02351472 0.02325807 0.02272165 0.02284697\n",
      " 0.02206123 0.0214554  0.02113753 0.02088824 0.02074802 0.02062765\n",
      " 0.02032577 0.02009124 0.01978083 0.01950423 0.01943543 0.01897426\n",
      " 0.01873614 0.01818602 0.01793686 0.01766311 0.01741118 0.01664501\n",
      " 0.0164008  0.01611666 0.01549801 0.01513478 0.01488934 0.01466288\n",
      " 0.01442548 0.01396173 0.01374994 0.01403414 0.01352654 0.01343601\n",
      " 0.01290462 0.01269299 0.01249923] [0.02833062 0.02763269 0.02694101 0.02557673 0.02503826 0.02450403\n",
      " 0.02423851 0.02397408 0.02371074 0.02344849 0.02292735 0.02292735\n",
      " 0.02228231 0.02164453 0.0213915  0.02113969 0.02101424 0.0208891\n",
      " 0.02063976 0.02039168 0.02014488 0.01989938 0.01977712 0.01941235\n",
      " 0.01917086 0.01869206 0.01845479 0.01821897 0.01798463 0.01729078\n",
      " 0.01706265 0.01683615 0.01627723 0.01594709 0.01572924 0.01551323\n",
      " 0.01529911 0.01487669 0.01466847 0.01466847 0.01446231 0.01405634\n",
      " 0.01385663 0.01365917 0.013464  ] [0.02882222 0.02812278 0.02742258 0.02601464 0.02545392 0.02490317\n",
      " 0.02462636 0.02434224 0.0240695  0.0237893  0.02324305 0.02332069\n",
      " 0.02255344 0.02188582 0.02158099 0.02135386 0.02116926 0.02099995\n",
      " 0.02077527 0.02051172 0.02023988 0.02002531 0.01989012 0.01945578\n",
      " 0.01926298 0.01872179 0.0184381  0.01820842 0.01792248 0.01725707\n",
      " 0.0169338  0.01676963 0.01617672 0.01582666 0.01561049 0.01538361\n",
      " 0.01517621 0.01474347 0.01454827 0.01448741 0.01434168 0.01387815\n",
      " 0.01377465 0.01358254 0.01340946]\n",
      "23 [0.03175843 0.03149843 0.03134853 0.0310723  0.03049832 0.0290955\n",
      " 0.02631207 0.02423519 0.02409616 0.02326788 0.02075031 0.02020822\n",
      " 0.0199322  0.01857856 0.01831193 0.01677349 0.01653085 0.01430694] [0.03351815 0.03321101 0.03290492 0.03259989 0.03199301 0.03049453\n",
      " 0.02757977 0.02546895 0.02533063 0.02450725 0.02210759 0.02158956\n",
      " 0.02133275 0.02007157 0.01982409 0.01837498 0.01813972 0.01589689] [0.03294462 0.03264768 0.03222469 0.03193898 0.03136935 0.02992187\n",
      " 0.02708119 0.02493766 0.02479454 0.02394957 0.02138917 0.02083945\n",
      " 0.02055977 0.01919072 0.01892158 0.01738905 0.01714568 0.01490007]\n",
      "24 [0.03525251 0.03428534 0.03452652 0.0338745  0.03308048 0.03233502\n",
      " 0.03167966 0.03167769 0.0309496  0.03021767 0.02948079 0.02869736\n",
      " 0.02653854 0.02575935 0.02507132 0.02428633 0.02348694 0.0231777\n",
      " 0.02274184 0.0223037  0.02201208 0.02053738 0.01995296 0.01982173\n",
      " 0.0196713  0.01939637 0.01843678 0.01777864 0.01713446 0.01651849\n",
      " 0.01533017 0.0147887 ] [0.03558046 0.03526155 0.03478524 0.03399688 0.03321543 0.03244094\n",
      " 0.03182642 0.0316735  0.03091316 0.03016003 0.0294142  0.0286758\n",
      " 0.02650663 0.02579949 0.02510064 0.02441033 0.02372883 0.02345876\n",
      " 0.02305643 0.02265749 0.02239345 0.02109721 0.02059039 0.02046477\n",
      " 0.02033959 0.02009058 0.01923357 0.01863585 0.01805082 0.01747908\n",
      " 0.01637811 0.01585026] [0.03626158 0.03663199 0.03548522 0.03476192 0.03392197 0.03315614\n",
      " 0.03257446 0.03243555 0.03166824 0.03089885 0.03012616 0.02930806\n",
      " 0.02705624 0.02625714 0.02549637 0.02476441 0.02404102 0.02383558\n",
      " 0.02330542 0.02296824 0.02265565 0.02125189 0.0207815  0.020564\n",
      " 0.02051431 0.02023717 0.01923826 0.01861249 0.01800295 0.01742466\n",
      " 0.01635697 0.01588397]\n",
      "25 [0.041888   0.04113033 0.04035311 0.03966204 0.03879266 0.03732417\n",
      " 0.03654275 0.03498175 0.03337096 0.03262658 0.03183329 0.03105481\n",
      " 0.03026854 0.02947341 0.02876582 0.02787821 0.02709533 0.0262789\n",
      " 0.02548425 0.02470863 0.02393128 0.02316822 0.022417   0.02158638\n",
      " 0.02086965 0.019465   0.01880808 0.01816711 0.01755852 0.01694487\n",
      " 0.01639883 0.01590391] [0.04266018 0.04178235 0.04091183 0.04004864 0.03919278 0.03750325\n",
      " 0.03666966 0.03502515 0.03341141 0.03261633 0.03182928 0.03105039\n",
      " 0.03027982 0.02951775 0.02876439 0.02801994 0.02728466 0.02655881\n",
      " 0.02584268 0.0251366  0.02444091 0.023756   0.02308228 0.0224202\n",
      " 0.02177024 0.02050877 0.01989838 0.01930235 0.01872131 0.01815591\n",
      " 0.0176068  0.01707463] [0.0431726  0.04232708 0.04149317 0.04072227 0.03982675 0.03823768\n",
      " 0.03741158 0.035767   0.03407918 0.03325576 0.03249306 0.03163943\n",
      " 0.03084265 0.03001728 0.02920306 0.02842404 0.02763307 0.02684688\n",
      " 0.02608235 0.0253741  0.02458973 0.02382079 0.02311918 0.02246375\n",
      " 0.02176217 0.02044769 0.01983123 0.01923409 0.01869206 0.01814973\n",
      " 0.01766309 0.01723453]\n",
      "26 [0.04412532 0.04174061 0.03853598 0.0377849  0.03533854 0.03135406] [0.04640541 0.04365407 0.04009397 0.03922354 0.03666033 0.03255479] [0.0462025  0.04356375 0.0401267  0.03931836 0.03673411 0.0325239 ]\n",
      "27 [0.04959702 0.048724   0.04708048 0.04621753 0.04539354 0.04452286\n",
      " 0.03866339 0.03782193 0.03697863 0.03528619 0.03444667 0.03360034\n",
      " 0.03272506 0.03186213 0.03098904 0.03014495 0.02756477 0.02681275\n",
      " 0.02520377 0.02442049 0.02364845 0.02290464 0.02216799 0.02145577\n",
      " 0.02078591 0.01951164 0.01836263 0.01779998] [0.05086303 0.04989209 0.047974   0.04702685 0.04608765 0.0451564\n",
      " 0.0388638  0.03799793 0.0371406  0.03545208 0.0346212  0.03379945\n",
      " 0.03298703 0.03218416 0.03139107 0.030608   0.02832192 0.02758202\n",
      " 0.02613766 0.02543406 0.02474345 0.02406634 0.02340322 0.02275466\n",
      " 0.02212121 0.02090196 0.01975015 0.01920098] [0.05117983 0.05020654 0.04843593 0.04751297 0.04657533 0.04570605\n",
      " 0.03952125 0.03864051 0.03775948 0.03605866 0.03516847 0.03429489\n",
      " 0.03344458 0.03259225 0.03177117 0.03093772 0.02847059 0.02777143\n",
      " 0.02620971 0.02546197 0.02472721 0.02402312 0.02332864 0.0226815\n",
      " 0.02204156 0.0209004  0.01990959 0.01944801]\n",
      "28 [0.05629937 0.05539371 0.05450726 0.05357399 0.05268974 0.0518504\n",
      " 0.05008682 0.04303313 0.0421569  0.04128091 0.04040405 0.03775706\n",
      " 0.036888   0.03601195 0.0341119  0.03321082 0.03236116 0.03057677\n",
      " 0.02961963 0.02793451 0.02640149 0.02561644 0.02410184 0.02268567\n",
      " 0.0220094  0.01967523] [0.05823133 0.05718182 0.05614079 0.05510821 0.05408408 0.05306837\n",
      " 0.05106225 0.04337834 0.04245698 0.04154459 0.04064127 0.03798713\n",
      " 0.03712155 0.03626584 0.03458489 0.03376013 0.03294621 0.03135208\n",
      " 0.03057253 0.02905028 0.0275799  0.02686528 0.02547959 0.02415539\n",
      " 0.02351769 0.02114198] [0.05791668 0.0571085  0.05618286 0.05517902 0.05422765 0.05329356\n",
      " 0.05141021 0.04398875 0.04307118 0.04215546 0.04124035 0.03850985\n",
      " 0.03760774 0.03670416 0.03504254 0.0340877  0.03331467 0.03161778\n",
      " 0.03067251 0.0290592  0.02758528 0.0268425  0.02542074 0.02411216\n",
      " 0.02351796 0.02151537]\n",
      "29 [0.06233708 0.06142114 0.05951603 0.05859572 0.05769395 0.05581178\n",
      " 0.05489471 0.05402146 0.05306986 0.05215996 0.051317   0.05036826\n",
      " 0.0494561  0.04765042 0.04672823 0.04580977 0.04487957 0.04399978\n",
      " 0.04304573 0.0421642  0.04123214 0.04032076 0.03940488 0.03846057\n",
      " 0.03751011 0.03657461 0.03567423 0.03474081 0.0338388  0.0329443\n",
      " 0.03205556 0.03119211 0.03028826 0.02934264 0.02860705 0.02780471\n",
      " 0.02701867 0.02624745 0.02551123 0.02478762 0.02409765 0.0234414\n",
      " 0.0228195  0.02223316 0.02168427 0.0211511  0.02066031 0.02021639] [0.06494549 0.06382833 0.06162082 0.06053041 0.05944885 0.05731224\n",
      " 0.05625717 0.05521092 0.0541735  0.05314493 0.05212521 0.0511144\n",
      " 0.05011253 0.0481358  0.04716108 0.04619556 0.04523933 0.04429249\n",
      " 0.04335516 0.04242748 0.04150958 0.04060163 0.03970381 0.03881631\n",
      " 0.03793934 0.03707313 0.03621792 0.035374   0.03454166 0.03372119\n",
      " 0.03291295 0.03211728 0.03133456 0.03056521 0.02980962 0.02906826\n",
      " 0.02834158 0.02763006 0.02693419 0.02625446 0.02559139 0.02494548\n",
      " 0.02431722 0.0237071  0.02311558 0.0225431  0.02199004 0.02145677] [0.06430174 0.06345029 0.06135027 0.06035581 0.05941636 0.0573982\n",
      " 0.05641736 0.05548334 0.05447241 0.05350593 0.05258046 0.0516078\n",
      " 0.05064525 0.04874459 0.04777735 0.04684147 0.04588338 0.04492818\n",
      " 0.04397464 0.04304594 0.04209182 0.04115952 0.04020022 0.03931038\n",
      " 0.03839528 0.03749503 0.03658545 0.03566542 0.03477768 0.03394183\n",
      " 0.03309033 0.03233009 0.03150779 0.030601   0.02990957 0.02915223\n",
      " 0.02839219 0.02769336 0.02701176 0.02634678 0.02574281 0.02515603\n",
      " 0.02460986 0.02410623 0.02364779 0.02323801 0.02285598 0.022505  ]\n",
      "30 [0.05733569 0.05552517 0.04814575 0.04444358 0.04068267 0.03242504\n",
      " 0.03069792 0.02984653 0.02901528 0.02822411 0.02667024 0.02391249\n",
      " 0.02164402] [0.06178935 0.05959344 0.0511792  0.04719864 0.04337678 0.03541579\n",
      " 0.03378077 0.03298354 0.03220037 0.03143166 0.02993941 0.02714846\n",
      " 0.02464024] [0.05978619 0.05784828 0.05001803 0.04615785 0.04241733 0.03424375\n",
      " 0.03254906 0.03173956 0.03093127 0.03016697 0.0287     0.02613312\n",
      " 0.02421538]\n",
      "31 [0.06602077 0.06218889 0.06042318 0.05852405 0.05659085 0.05488375\n",
      " 0.05294915 0.05107579 0.04914475 0.04729861 0.04534894 0.04347042\n",
      " 0.04154565 0.03962503 0.03769788 0.03561849 0.03202754 0.03030532\n",
      " 0.02868862 0.02716788 0.02576032 0.02449049 0.02329366 0.02225862\n",
      " 0.02136238] [0.06941545 0.06480972 0.06256258 0.06035238 0.05817913 0.05604289\n",
      " 0.05394391 0.05188253 0.04985929 0.04787485 0.04593009 0.04402609\n",
      " 0.04216417 0.04034589 0.03857309 0.03684791 0.0335505  0.0319841\n",
      " 0.03047694 0.02903259 0.02765474 0.02634708 0.02511313 0.02395603\n",
      " 0.02287828] [0.06867769 0.06445525 0.06250159 0.06045859 0.05839153 0.05620785\n",
      " 0.05425603 0.0522296  0.05026223 0.04828907 0.04633918 0.04442454\n",
      " 0.04254932 0.04060753 0.03873168 0.03715908 0.03372508 0.03211664\n",
      " 0.03062757 0.02925223 0.02801305 0.02694072 0.02597587 0.02521584\n",
      " 0.02464441]\n",
      "32 [0.07270379 0.07189397 0.07087464 0.06884218 0.06680067 0.06583109\n",
      " 0.06286736 0.06187093 0.06092167 0.05995458 0.05896977 0.05793751\n",
      " 0.056025   0.05505305 0.0540608  0.05307582 0.05209685 0.0511227\n",
      " 0.04915821 0.04816629 0.04717534 0.04620932 0.04521692 0.04424613\n",
      " 0.04328596 0.04226504 0.04123864 0.04030017 0.03932878 0.03813713\n",
      " 0.03627833 0.03271199 0.03186905 0.03104988 0.0302769  0.02950271\n",
      " 0.02877381 0.02806658 0.02740558 0.02676747 0.02615308 0.02399373] [0.07697604 0.07573928 0.07451239 0.07208803 0.0697026  0.0685244\n",
      " 0.06504759 0.06390788 0.06277779 0.06165732 0.06054649 0.05944533\n",
      " 0.05727215 0.05620022 0.05513815 0.05408601 0.05304387 0.05201183\n",
      " 0.04997848 0.04897741 0.04798693 0.0470072  0.04603838 0.04508067\n",
      " 0.04413425 0.04319935 0.04227621 0.04136507 0.04046619 0.03957988\n",
      " 0.03784615 0.03454395 0.03375502 0.03298155 0.03222397 0.03148269\n",
      " 0.03075817 0.03005082 0.02936109 0.02868938 0.0280361  0.02561442] [0.07579766 0.07484538 0.07372489 0.07150136 0.06924674 0.06819478\n",
      " 0.06496765 0.06393286 0.06291544 0.06185105 0.0608029  0.05973909\n",
      " 0.05768138 0.05659715 0.05558111 0.05457339 0.05351769 0.05244977\n",
      " 0.05046513 0.04946399 0.04849023 0.04749096 0.04651627 0.04553938\n",
      " 0.04455921 0.04359914 0.04265745 0.04170844 0.04077495 0.03985542\n",
      " 0.03805239 0.03469293 0.03390317 0.03316476 0.03245368 0.03176974\n",
      " 0.03111299 0.03050844 0.02993277 0.02938714 0.02889897 0.02729445]\n",
      "33 [0.08260146 0.08147652 0.08043561 0.07925943 0.07722696 0.07611619\n",
      " 0.07507719 0.07402818 0.07304428 0.0719735  0.07100092 0.06994289\n",
      " 0.0688731  0.06785981 0.06486317 0.0638538  0.06282792 0.05980055\n",
      " 0.05879445 0.05675297 0.05574484 0.05471573 0.05367911 0.05265324\n",
      " 0.05063922 0.04964819 0.04863162 0.04758927 0.04657128 0.04552575\n",
      " 0.04447702 0.04347299 0.04253578 0.04046587 0.03952457 0.038571\n",
      " 0.03765165 0.03674111 0.03583799 0.03496485 0.03330423 0.03251511\n",
      " 0.03175277 0.03101698 0.03030779 0.02962556 0.02899686 0.02780337\n",
      " 0.02726881 0.02625445 0.02574925 0.02531856 0.02497094 0.02451905] [0.08813357 0.08679957 0.08547617 0.08416327 0.0815687  0.08028689\n",
      " 0.07901532 0.07775392 0.07650266 0.07526147 0.07403033 0.07280921\n",
      " 0.07159806 0.07039687 0.06685295 0.06569152 0.06454004 0.06114556\n",
      " 0.06003418 0.05784187 0.05676109 0.05569067 0.0546307  0.05358129\n",
      " 0.05151463 0.05049765 0.04949177 0.04849717 0.04751404 0.04654256\n",
      " 0.04558296 0.04463547 0.04370033 0.04186818 0.04097175 0.04008883\n",
      " 0.03921975 0.03836484 0.03752447 0.03669902 0.03509439 0.03431601\n",
      " 0.03355413 0.03280916 0.0320815  0.03137155 0.03067972 0.02935184\n",
      " 0.02871648 0.02750439 0.02692814 0.026372   0.02583608 0.02532043] [0.0864125  0.08515719 0.08394775 0.08269416 0.08039485 0.07917705\n",
      " 0.07803596 0.07688845 0.07581059 0.07461052 0.07355157 0.07240899\n",
      " 0.07125746 0.07016615 0.06691932 0.06584292 0.0647521  0.06154371\n",
      " 0.0604516  0.05833279 0.05727397 0.05619562 0.05515307 0.05408924\n",
      " 0.05199212 0.05101232 0.05000691 0.04894985 0.04794398 0.04698677\n",
      " 0.04595002 0.04495936 0.04398776 0.04214465 0.0411965  0.04045701\n",
      " 0.03958273 0.03871933 0.03786568 0.03706963 0.03552531 0.03482543\n",
      " 0.03413242 0.0334712  0.03286796 0.03229869 0.03176482 0.03081127\n",
      " 0.0303968  0.02965163 0.02932698 0.02905958 0.02888695 0.02865711]\n",
      "34 [0.10214266 0.10093118 0.09972076 0.09851079 0.09734999 0.09501983\n",
      " 0.09384967 0.09272106 0.09154192 0.09040194 0.08925546 0.08814429\n",
      " 0.08702464 0.08589637 0.08479913 0.08369159 0.08257366 0.08148305\n",
      " 0.08038061 0.07930284 0.07821197 0.07710798 0.07602568 0.07492911\n",
      " 0.07385204 0.07279296 0.07168476 0.07062592 0.06964571 0.06845657\n",
      " 0.06747043 0.06636131 0.06524577 0.06414184 0.0630483  0.06193468\n",
      " 0.06082977 0.05973244 0.05864156 0.05755603 0.056726   0.05569786\n",
      " 0.05459557 0.05360077 0.05255087 0.05152686 0.05050045 0.04909697\n",
      " 0.04809067 0.04710496 0.04611217 0.04516409 0.04420674 0.04329198\n",
      " 0.04239251 0.04153414 0.03985876 0.03826257 0.03682883 0.03545117\n",
      " 0.03313332 0.03129587 0.029759  ] [0.11030969 0.10878253 0.10726757 0.1057647  0.1042738  0.10132748\n",
      " 0.09987186 0.09842781 0.09699524 0.09557407 0.09416421 0.09276559\n",
      " 0.09137815 0.09000181 0.08863653 0.08728226 0.08593893 0.08460652\n",
      " 0.08328499 0.08197431 0.08067446 0.07938541 0.07810716 0.07683971\n",
      " 0.07558306 0.07433722 0.07310221 0.07187805 0.07066478 0.06946243\n",
      " 0.06827106 0.06709074 0.06592151 0.06476347 0.0636167  0.0624813\n",
      " 0.06135738 0.06024505 0.05914444 0.05805571 0.05697899 0.05591446\n",
      " 0.05486229 0.05382268 0.05279583 0.05178196 0.05078129 0.04979408\n",
      " 0.04882057 0.04786104 0.04691577 0.04598505 0.04506919 0.04416849\n",
      " 0.0432833  0.04241393 0.04072402 0.0391015  0.03754909 0.03606938\n",
      " 0.03333725 0.03091929 0.02882047] [0.10810478 0.10671094 0.10532468 0.1039451  0.10257134 0.09988629\n",
      " 0.09857159 0.09725795 0.09599014 0.09467609 0.09340515 0.0921316\n",
      " 0.09089704 0.08965758 0.08841292 0.08720258 0.08598508 0.08476023\n",
      " 0.0835656  0.08236192 0.0811856  0.07999873 0.0788366  0.07766255\n",
      " 0.07651084 0.07534595 0.07416779 0.07304207 0.07199844 0.07074445\n",
      " 0.06966723 0.06854066 0.06739668 0.06626563 0.0651764  0.0640627\n",
      " 0.06299376 0.06193244 0.06084878 0.0597999  0.05864193 0.05760217\n",
      " 0.05653704 0.05547396 0.05452238 0.05351471 0.05250562 0.05163039\n",
      " 0.05066952 0.04973133 0.04878773 0.04789198 0.04701615 0.04615953\n",
      " 0.04534871 0.04455618 0.04305241 0.04167642 0.04046171 0.03936083\n",
      " 0.03764827 0.03652162 0.03593321]\n",
      "35 [0.11168581 0.11082594 0.1091419  0.10819425 0.10735781 0.10639453\n",
      " 0.10553692 0.10248544 0.09876418 0.09490811 0.09410967 0.09306132\n",
      " 0.09114516 0.09018735 0.08917462 0.08722935 0.08625435 0.08522612\n",
      " 0.079243   0.07823103 0.07723648 0.0762581  0.075228   0.07424631\n",
      " 0.07324557 0.07224217 0.07121896 0.07021303 0.06917728 0.06813563\n",
      " 0.06708569 0.06603781 0.06498736 0.0639718  0.06293904 0.06188017\n",
      " 0.06085611 0.05983641 0.05882023 0.05777806 0.05676649 0.05572748\n",
      " 0.05471708 0.05370592 0.05269312 0.0517059  0.0507152  0.04972013\n",
      " 0.04874786 0.04776942 0.04678381 0.04581838 0.04487243 0.04300776\n",
      " 0.04115524 0.0393989  0.0444721  0.03903151 0.03754158 0.03601525\n",
      " 0.03459681 0.03322951 0.03188752 0.04172145 0.01953152] [0.15676893 0.15486431 0.15110179 0.14924353 0.14740036 0.14557211\n",
      " 0.14375862 0.13840507 0.13146439 0.12474164 0.12309414 0.12145972\n",
      " 0.11822971 0.11663396 0.11505093 0.11192279 0.11037755 0.10884477\n",
      " 0.09990761 0.09846104 0.09702671 0.0956046  0.09419472 0.09279708\n",
      " 0.0914117  0.0900386  0.08867781 0.08732937 0.08599332 0.08466973\n",
      " 0.08335865 0.08206014 0.08077429 0.07950119 0.07824092 0.07699358\n",
      " 0.0757593  0.07453819 0.07333037 0.07213599 0.0709552  0.06978814\n",
      " 0.06863499 0.06749592 0.0663711  0.06526074 0.06416502 0.06308417\n",
      " 0.06201838 0.06096789 0.05993291 0.0589137  0.05791047 0.05595295\n",
      " 0.05406231 0.05224051 0.05048943 0.04881086 0.04720639 0.0456774\n",
      " 0.04422493 0.04284966 0.04155184 0.03918714 0.03712315] [0.18134835 0.17902159 0.17455426 0.17227005 0.17015631 0.1679399\n",
      " 0.16588545 0.15968853 0.15187086 0.1444509  0.14263138 0.14077227\n",
      " 0.13734471 0.13566772 0.13394816 0.13067259 0.12906445 0.12741285\n",
      " 0.11815887 0.11672557 0.11524572 0.11380315 0.11235529 0.11090188\n",
      " 0.10952259 0.10811543 0.10670121 0.10535041 0.10396354 0.1025881\n",
      " 0.10122559 0.09989923 0.09853814 0.0972428  0.09596397 0.09471137\n",
      " 0.0934444  0.09223444 0.09100875 0.0898025  0.08865008 0.08744505\n",
      " 0.08632725 0.08522559 0.08410481 0.08306835 0.08204617 0.08100339\n",
      " 0.08007739 0.07909557 0.07805259 0.07715014 0.07629445 0.07468919\n",
      " 0.07320373 0.07194683 0.07333285 0.06616194 0.0654009  0.0647224\n",
      " 0.06428981 0.06404975 0.06398481 0.07086687 0.0698957 ]\n",
      "36 OK\n",
      "37 OK\n",
      "38 OK\n"
     ]
    }
   ],
   "source": [
    "n = len(ssvi.TIVb)\n",
    "for i in range(0,n):\n",
    "    phi = ssvi.eta/(ssvi.theta[i]**ssvi.gamma1*(1+ssvi.beta1*ssvi.theta[i])**ssvi.gamma2*(1+ssvi.beta2*ssvi.theta[i])**(1.0-ssvi.gamma1-ssvi.gamma2))\n",
    "    phi_k = phi*ssvi.k[i]\n",
    "    w = 0.5*ssvi.theta[i]*(1+ssvi.rho*phi_k+np.array(list(map(lambda i:np.sqrt(i),(phi_k+ssvi.rho)**2+(1.0-ssvi.rho**2)))))\n",
    "    if (not(np.logical_and.reduce(ssvi.TIVb[i]<=w) and np.logical_and.reduce(w<=ssvi.TIVa[i]))):\n",
    "        print(i,ssvi.TIVb[i],w,ssvi.TIVa[i])\n",
    "    else:\n",
    "        print(i,\"OK\")"
   ]
  },
  {
   "cell_type": "markdown",
   "metadata": {
    "id": "AykyKekiS3iS"
   },
   "source": [
    "### c)"
   ]
  },
  {
   "cell_type": "code",
   "execution_count": 50,
   "metadata": {
    "id": "Z0d05u3bSo0f"
   },
   "outputs": [],
   "source": [
    "expiration_date = datetime.date(2022, 8, 19)\n",
    "strike = 4250"
   ]
  },
  {
   "cell_type": "code",
   "execution_count": 58,
   "metadata": {
    "id": "4C4SE1JIWWB6"
   },
   "outputs": [],
   "source": [
    "ttm = (expiration_date - today).days / 365\n",
    "i = np.where(TTM == ttm)[0][0]"
   ]
  },
  {
   "cell_type": "code",
   "execution_count": 59,
   "metadata": {
    "colab": {
     "base_uri": "https://localhost:8080/",
     "height": 301
    },
    "id": "xPFdoBoDWx9o",
    "outputId": "e1f402c9-adf1-4a31-ab9b-278d36eee057"
   },
   "outputs": [
    {
     "name": "stdout",
     "output_type": "stream",
     "text": [
      "For maturity  182.0  days:\n"
     ]
    },
    {
     "data": {
      "text/plain": [
       "[<matplotlib.lines.Line2D at 0x7f34e3752210>]"
      ]
     },
     "execution_count": 59,
     "metadata": {},
     "output_type": "execute_result"
    },
    {
     "data": {
      "image/png": "[encoded data removed]",
      "text/plain": [
       "<Figure size 432x288 with 1 Axes>"
      ]
     },
     "metadata": {
      "needs_background": "light"
     },
     "output_type": "display_data"
    }
   ],
   "source": [
    "print(\"For maturity \",ssvi.TTM[i]*365,\" days:\")\n",
    "phi = ssvi.eta/(ssvi.theta[i]**ssvi.gamma1*(1+ssvi.beta1*ssvi.theta[i])**ssvi.gamma2*(1+ssvi.beta2*ssvi.theta[i])**(1.0-ssvi.gamma1-ssvi.gamma2))\n",
    "phi_k = phi*ssvi.k[i]\n",
    "w = 0.5*ssvi.theta[i]*(1+ssvi.rho*phi_k+np.array(list(map(lambda i:np.sqrt(i),(phi_k+ssvi.rho)**2+(1.0-ssvi.rho**2)))))\n",
    "    \n",
    "plt.plot(ssvi.k[i],np.sqrt(ssvi.TIVb[i]/ssvi.TTM[i]))\n",
    "plt.plot(ssvi.k[i],np.sqrt(ssvi.TIVa[i]/ssvi.TTM[i]))\n",
    "plt.plot(ssvi.k[i],np.sqrt(w/ssvi.TTM[i]))"
   ]
  },
  {
   "cell_type": "code",
   "execution_count": 70,
   "metadata": {
    "id": "KXKzlBINX7K4"
   },
   "outputs": [],
   "source": [
    "log_moneyness = np.log(strike / ssvi.F[i])\n",
    "lower = ssvi.k[i][ssvi.k[i] <= log_moneyness].max()\n",
    "upper = ssvi.k[i][ssvi.k[i] >= log_moneyness].min()\n",
    "i_minus = np.where(ssvi.k[i] == lower)[0][0]\n",
    "i_plus = np.where(ssvi.k[i] == upper)[0][0]"
   ]
  },
  {
   "cell_type": "code",
   "execution_count": 81,
   "metadata": {
    "colab": {
     "base_uri": "https://localhost:8080/"
    },
    "id": "LlLT7FCOYhui",
    "outputId": "0c26c918-9e11-4791-cd83-d2ce8d341f92"
   },
   "outputs": [
    {
     "name": "stdout",
     "output_type": "stream",
     "text": [
      "Volatility: 23.681613493305427 %\n"
     ]
    }
   ],
   "source": [
    "v_minus = np.sqrt(ssvi.TIVb[i]/ssvi.TTM[i])[i_minus]\n",
    "v_plus = np.sqrt(ssvi.TIVb[i]/ssvi.TTM[i])[i_plus]\n",
    "\n",
    "vol = ((upper - log_moneyness) * v_minus + (log_moneyness - lower) * v_plus) / (upper - lower)\n",
    "print(f\"Volatility: {vol * 100} %\")"
   ]
  },
  {
   "cell_type": "code",
   "execution_count": 82,
   "metadata": {
    "colab": {
     "base_uri": "https://localhost:8080/"
    },
    "id": "_8Q8awHXZ7tM",
    "outputId": "1a2b9126-e054-4fb2-83ac-e8065bbc26d4"
   },
   "outputs": [
    {
     "name": "stdout",
     "output_type": "stream",
     "text": [
      "The value of this option on 18 February 2022 is 333.78033318253756\n"
     ]
    }
   ],
   "source": [
    "r = ssvi.r[i]\n",
    "q = ssvi.q[i]\n",
    "callput = 1\n",
    "price = BlackScholes(SP500_20220218, strike, vol, r, q, ttm, callput)\n",
    "print(f\"The value of this option on 18 February 2022 is {price}\")"
   ]
  },
  {
   "cell_type": "markdown",
   "metadata": {
    "id": "1O731puLfG7Z"
   },
   "source": [
    "### d)"
   ]
  },
  {
   "cell_type": "code",
   "execution_count": 85,
   "metadata": {
    "id": "sgCmvzJ4fFGT"
   },
   "outputs": [],
   "source": [
    "expiration_date = datetime.date(2023, 2, 18)\n",
    "strike = 4800"
   ]
  },
  {
   "cell_type": "code",
   "execution_count": 90,
   "metadata": {
    "id": "DPosQOHFfZcs"
   },
   "outputs": [],
   "source": [
    "ttm = (expiration_date - today).days / 365\n",
    "near_ttm = TTM[TTM <= ttm].max()\n",
    "far_ttm = TTM[TTM >= ttm].min()\n",
    "near_i = np.where(TTM == near_ttm)[0][0]\n",
    "far_i = np.where(TTM == far_ttm)[0][0]"
   ]
  },
  {
   "cell_type": "markdown",
   "metadata": {
    "id": "2REv967rgB1A"
   },
   "source": [
    "Near part"
   ]
  },
  {
   "cell_type": "code",
   "execution_count": 91,
   "metadata": {
    "colab": {
     "base_uri": "https://localhost:8080/",
     "height": 301
    },
    "id": "iJlOhcoufcHK",
    "outputId": "c41a1145-7b00-4bbf-fc33-ab198cdb5796"
   },
   "outputs": [
    {
     "name": "stdout",
     "output_type": "stream",
     "text": [
      "For maturity  364.0  days:\n"
     ]
    },
    {
     "data": {
      "text/plain": [
       "[<matplotlib.lines.Line2D at 0x7f34e325f290>]"
      ]
     },
     "execution_count": 91,
     "metadata": {},
     "output_type": "execute_result"
    },
    {
     "data": {
      "image/png": "[encoded data removed]",
      "text/plain": [
       "<Figure size 432x288 with 1 Axes>"
      ]
     },
     "metadata": {
      "needs_background": "light"
     },
     "output_type": "display_data"
    }
   ],
   "source": [
    "print(\"For maturity \",ssvi.TTM[near_i]*365,\" days:\")\n",
    "phi = ssvi.eta/(ssvi.theta[near_i]**ssvi.gamma1*(1+ssvi.beta1*ssvi.theta[near_i])**ssvi.gamma2*(1+ssvi.beta2*ssvi.theta[near_i])**(1.0-ssvi.gamma1-ssvi.gamma2))\n",
    "phi_k = phi*ssvi.k[near_i]\n",
    "w = 0.5*ssvi.theta[near_i]*(1+ssvi.rho*phi_k+np.array(list(map(lambda i:np.sqrt(i),(phi_k+ssvi.rho)**2+(1.0-ssvi.rho**2)))))\n",
    "    \n",
    "plt.plot(ssvi.k[near_i],np.sqrt(ssvi.TIVb[near_i]/ssvi.TTM[near_i]))\n",
    "plt.plot(ssvi.k[near_i],np.sqrt(ssvi.TIVa[near_i]/ssvi.TTM[near_i]))\n",
    "plt.plot(ssvi.k[near_i],np.sqrt(w/ssvi.TTM[near_i]))"
   ]
  },
  {
   "cell_type": "code",
   "execution_count": 98,
   "metadata": {
    "id": "pfZcZpnrgVjV"
   },
   "outputs": [],
   "source": [
    "log_moneyness = np.log(strike / ssvi.F[near_i])\n",
    "i_near = np.where(ssvi.k[near_i] == log_moneyness)[0][0]"
   ]
  },
  {
   "cell_type": "code",
   "execution_count": 102,
   "metadata": {
    "colab": {
     "base_uri": "https://localhost:8080/"
    },
    "id": "lHFqV8RaglP8",
    "outputId": "6ae2a65e-259f-4c32-8c7a-501935eaa358"
   },
   "outputs": [
    {
     "name": "stdout",
     "output_type": "stream",
     "text": [
      "Near Volatility: 17.876408405865096 %\n"
     ]
    }
   ],
   "source": [
    "near_vol = np.sqrt(ssvi.TIVb[near_i]/ssvi.TTM[near_i])[i_near]\n",
    "print(f\"Near Volatility: {near_vol * 100} %\")"
   ]
  },
  {
   "cell_type": "markdown",
   "metadata": {
    "id": "YvVxO53Ghdbc"
   },
   "source": [
    "Far Part"
   ]
  },
  {
   "cell_type": "code",
   "execution_count": 104,
   "metadata": {
    "colab": {
     "base_uri": "https://localhost:8080/",
     "height": 301
    },
    "id": "oHsIc9tDhiJI",
    "outputId": "83931499-ed64-4b2d-b53f-32997571e424"
   },
   "outputs": [
    {
     "name": "stdout",
     "output_type": "stream",
     "text": [
      "For maturity  392.0  days:\n"
     ]
    },
    {
     "data": {
      "text/plain": [
       "[<matplotlib.lines.Line2D at 0x7f34e316fcd0>]"
      ]
     },
     "execution_count": 104,
     "metadata": {},
     "output_type": "execute_result"
    },
    {
     "data": {
      "image/png": "[encoded data removed]",
      "text/plain": [
       "<Figure size 432x288 with 1 Axes>"
      ]
     },
     "metadata": {
      "needs_background": "light"
     },
     "output_type": "display_data"
    }
   ],
   "source": [
    "print(\"For maturity \",ssvi.TTM[far_i]*365,\" days:\")\n",
    "phi = ssvi.eta/(ssvi.theta[far_i]**ssvi.gamma1*(1+ssvi.beta1*ssvi.theta[far_i])**ssvi.gamma2*(1+ssvi.beta2*ssvi.theta[far_i])**(1.0-ssvi.gamma1-ssvi.gamma2))\n",
    "phi_k = phi*ssvi.k[far_i]\n",
    "w = 0.5*ssvi.theta[far_i]*(1+ssvi.rho*phi_k+np.array(list(map(lambda i:np.sqrt(i),(phi_k+ssvi.rho)**2+(1.0-ssvi.rho**2)))))\n",
    "    \n",
    "plt.plot(ssvi.k[far_i],np.sqrt(ssvi.TIVb[far_i]/ssvi.TTM[far_i]))\n",
    "plt.plot(ssvi.k[far_i],np.sqrt(ssvi.TIVa[far_i]/ssvi.TTM[far_i]))\n",
    "plt.plot(ssvi.k[far_i],np.sqrt(w/ssvi.TTM[far_i]))"
   ]
  },
  {
   "cell_type": "code",
   "execution_count": 106,
   "metadata": {
    "id": "JFOmUdGphlZp"
   },
   "outputs": [],
   "source": [
    "log_moneyness = np.log(strike / ssvi.F[far_i])\n",
    "i_far = np.where(ssvi.k[far_i] == log_moneyness)[0][0]"
   ]
  },
  {
   "cell_type": "code",
   "execution_count": 109,
   "metadata": {
    "colab": {
     "base_uri": "https://localhost:8080/"
    },
    "id": "NxMNhP-fiK4J",
    "outputId": "315bf521-99ba-4fe3-f50a-a833b0898964"
   },
   "outputs": [
    {
     "name": "stdout",
     "output_type": "stream",
     "text": [
      "Far Volatility: 18.043436687964416 %\n"
     ]
    }
   ],
   "source": [
    "far_vol = np.sqrt(ssvi.TIVb[far_i]/ssvi.TTM[far_i])[i_far]\n",
    "print(f\"Far Volatility: {far_vol * 100} %\")"
   ]
  },
  {
   "cell_type": "markdown",
   "metadata": {
    "id": "GLDuazJTir0d"
   },
   "source": [
    "Calculation"
   ]
  },
  {
   "cell_type": "code",
   "execution_count": 108,
   "metadata": {
    "colab": {
     "base_uri": "https://localhost:8080/"
    },
    "id": "LofD-5vWiW0Q",
    "outputId": "b8727336-92d7-45b0-d8a6-a1c63653b017"
   },
   "outputs": [
    {
     "name": "stdout",
     "output_type": "stream",
     "text": [
      "Volatility: 17.88237370165436 %\n"
     ]
    }
   ],
   "source": [
    "vol = ((far_ttm - ttm) * near_vol + (ttm - near_ttm) * far_vol) / (far_ttm - near_ttm)\n",
    "print(f\"Volatility: {vol * 100} %\")"
   ]
  },
  {
   "cell_type": "code",
   "execution_count": 111,
   "metadata": {
    "colab": {
     "base_uri": "https://localhost:8080/"
    },
    "id": "1DEqvMUEiyWF",
    "outputId": "3d7850c8-3fb6-4168-aa21-606b7f86ac70"
   },
   "outputs": [
    {
     "name": "stdout",
     "output_type": "stream",
     "text": [
      "The value of this option on 18 February 2022 is 148.88366194301966\n"
     ]
    }
   ],
   "source": [
    "B_near = ssvi.B[near_i]\n",
    "B_far = ssvi.B[far_i]\n",
    "D_near = ssvi.D[near_i]\n",
    "D_far = ssvi.D[far_i]\n",
    "r = np.log(np.power(B_near, (far_ttm - ttm)/(far_ttm - near_ttm))*np.power(B_far, (ttm - near_ttm)/(far_ttm - near_ttm))) / ttm\n",
    "q = np.log(np.power(D_near, (far_ttm - ttm)/(far_ttm - near_ttm))*np.power(D_far, (ttm - near_ttm)/(far_ttm - near_ttm))) / ttm\n",
    "callput = 1\n",
    "price = BlackScholes(SP500_20220218, strike, vol, r, q, ttm, callput)\n",
    "print(f\"The value of this option on 18 February 2022 is {price}\")"
   ]
  },
  {
   "cell_type": "code",
   "execution_count": null,
   "metadata": {
    "id": "_BDtp4w_jp4A"
   },
   "outputs": [],
   "source": []
  }
 ],
 "metadata": {
  "colab": {
   "name": "Untitled0.ipynb",
   "provenance": []
  },
  "kernelspec": {
   "display_name": "Python 3",
   "language": "python",
   "name": "python3"
  },
  "language_info": {
   "codemirror_mode": {
    "name": "ipython",
    "version": 3
   },
   "file_extension": ".py",
   "mimetype": "text/x-python",
   "name": "python",
   "nbconvert_exporter": "python",
   "pygments_lexer": "ipython3",
   "version": "3.7.7"
  }
 },
 "nbformat": 4,
 "nbformat_minor": 1
}
