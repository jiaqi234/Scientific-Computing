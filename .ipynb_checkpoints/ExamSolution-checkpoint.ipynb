{
 "cells": [
  {
   "cell_type": "markdown",
   "metadata": {},
   "source": [
    "# Question 1(a)\n"
   ]
  },
  {
   "cell_type": "code",
   "execution_count": 1,
   "metadata": {},
   "outputs": [],
   "source": [
    "import numpy as np\n",
    "\n",
    "def fowardSwapRate(Ti,Tj,Tn):\n",
    "# Extracting a term structure of zero coupon bond prices from market swap rates\n",
    "Consider an (in--arrears) interest rate swap from the viewpoint of the side paying fixed and receiving floating.\n",
    "\n",
    "Let the notional amount of the swap be 1.\n",
    "\n",
    "Let ${\\mathbb{T}}=\\{T_1,\\ldots,T_n\\}$ be the tenor structure for the swap.\n",
    "\n",
    "Let $t$ be the time when the swap was set up. If $t<T_1$, we have a *forward start swap*.\n",
    "- At each time $T_i$, $2\\leq i\\leq n$, the fixed payment made is $(T_i-T_{i-1})\\ell(t,{\\mathbb{T}})$.\n",
    "- At each time $T_i$, $2\\leq i\\leq n$, the floating payment received is\n",
    "$$\n",
    "(T_i-T_{i-1})r(T_{i-1},T_i)\n",
    "$$\n",
    "where $r(T_{i-1},T_i)$ is the floating market interest rate (with simple compounding) for the accrual period $[T_{i-1},T_i]$.\n",
    "\n",
    "Usually the swap is set up such that its initial value is zero. Then $\\ell(T_1,{\\mathbb{T}})$ is the (forward) *swap rate*.\n",
    "\n",
    "Then the swap rate must equal the coupon on a coupon bond quoted at par, i.e. with price $V(T_1,{\\mathbb{T}},\\ell(T_1,{\\mathbb{T}}))=1$.\n",
    "\\begin{eqnarray*}\n",
    "(1-B(T_1,T_n)) & = & \\ell(T_1,{\\mathbb{T}}) \\sum_{i=2}^n (T_i-T_{i-1}) B(T_1,T_i) \\\\\n",
    "\\Leftrightarrow\\qquad \\ell(T_1,{\\mathbb{T}}) & = &\n",
    "\\frac{1-B(T_1,T_n)}{\\sum_{i=2}^n (T_i-T_{i-1}) B(T_1,T_i)}\n",
    "\\end{eqnarray*}\n",
    "\n",
    "Given market swap rates $\\ell(T_1,{\\mathbb{T}})$, we want to determine the associated zero coupon bond prices $B(T_1,T_i)$.\n",
    "\n",
    "Let us first import the requisite packages:Swap length: 1.0  Swap rate: 0.192  PV: -3.9705348384155847e-13\n",
    "Swap length: 2.0  Swap rate: 0.203  PV: 1.3877787807814457e-17\n",
    "Swap length: 3.0  Swap rate: 0.245  PV: -1.474514954580286e-17\n",
    "Swap length: 4.0  Swap rate: 0.33  PV: 3.469446951953614e-17\n",
    "Swap length: 5.0  Swap rate: 0.4320000000000001  PV: 0.0\n",
    "Swap length: 6.0  Swap rate: 0.5429999999999999  PV: 2.0816681711721685e-17\n",
    "Swap length: 7.0  Swap rate: 0.647  PV: 3.3306690738754696e-16\n",
    "Swap length: 8.0  Swap rate: 0.7440000000000001  PV: 1.186550857568136e-15\n",
    "Swap length: 9.0  Swap rate: 0.8320000000000001  PV: 3.622102617839573e-15\n",
    "Swap length: 10.0  Swap rate: 0.91  PV: 8.992806499463768e-15\n",
    "Swap length: 15.0  Swap rate: 1.164  PV: 8.326672684688674e-17\n",
    "Swap length: 20.0  Swap rate: 1.288  PV: 1.1934897514720433e-15\n",
    "Swap length: 30.0  Swap rate: 1.371  PV: 5.551115123125783e-17\n",
    "    for i in range(0,n): # loop over number of sampling iterations\n",
    "        lnS_t = np.log(S)\n",
    "        avg = 0.0\n",
    "        geo = 0.0\n",
    "        for j in range(0,m): # loop over time steps\n",
    "            lnS_t += ((r-0.5*sgm**2)*dt+sgm*np.sqrt(dt)*np.random.standard_normal())\n",
    "            geo += lnS_t # accumulating the geometric average in log terms\n",
    "            S_t = np.exp(lnS_t)\n",
    "            avg += S_t\n",
    "        # payoff of option on the arithmetic average\n",
    "        payoff=avg/m-K\n",
    "        payoff=payoff*(payoff>0)\n",
    "        # payoff of option on the geometric average\n",
    "        payoff2=np.exp(geo/m)-K\n",
    "        payoff2=payoff2*(payoff2>0)\n",
    "        # payoff difference\n",
    "        payoff -= payoff2\n",
    "        acc = acc + payoff\n",
    "        acc2 = acc2 + payoff*payoff\n",
    "    # Monte Carlo estimate\n",
    "    MC=np.exp(-r*T)*acc/n + GeoAvgOption(S,K,m,sgm,r,T)\n",
    "    # Standard deviation of the simulation mean\n",
    "    MCstd=np.exp(-r*T)*np.sqrt(acc2/n-acc*acc/n**2)/np.sqrt(n)\n",
    "    return MC, MCstd"
   ]
  },
  {
   "cell_type": "markdown",
   "metadata": {},
   "source": [
    "# Question 1(b)\n",
    "Below we have a Python function `receiverSwaption`."
   ]
  },
  {
   "cell_type": "code",
   "execution_count": 2,
   "metadata": {},
   "outputs": [],
   "source": [
    "import numpy as np\n",
    "import pandas as pd\n",
    "import pandas_datareader\n",
    "import datetime\n",
    "import scipy.optimize as opt\n",
    "import matplotlib.pyplot as plt\n",
    "%matplotlib inlinestart=datetime.datetime(2020,12,15)\n",
    "end=datetime.datetime(2020,12,15)"
   ]
  },
  {
   "cell_type": "code",
   "execution_count": 20,
   "metadata": {},
   "outputs": [
    {
     "name": "stdout",
     "output_type": "stream",
     "text": [
      "[100000, 21.06561755238392, 0.09881718027879516, 20.86798319182633, 21.26325191294151]\n",
      "[100000, 20.979815910527734, 0.00464026970250132, 20.970535371122732, 20.989096449932735]\n"
     ]
    }
   ],
   "source": [
    "S=390\n",
    "K=400\n",
    "sgm=0.2\n",
    "r=0.07\n",
    "T=1\n",
    "m=12\n",
    "n=100000\n",
    "np.random.seed(1234)\n",
    "MC, MCstd=AvgMC(S,K,m,sgm,r,T,n)\n",
    "print([n,MC,MCstd,MC-2*MCstd,MC+2*MCstd])\n",
    "np.random.seed(1234)\n",
    "MC, MCstd=AvgMCCV(S,K,m,sgm,r,T,n)\n",
    "print([n,MC,MCstd,MC-2*MCstd,MC+2*MCstd])"
   ]
  },
  {
   "cell_type": "code",
   "execution_count": 2,
   "metadata": {},
   "outputs": [],
   "source": [
    "import numpy as np\n",
    "import pandas as pd\n",
    "import pandas_datareader\n",
    "import datetime\n",
    "import scipy.optimize as opt\n",
    "import matplotlib.pyplot as plt\n",
    "%matplotlib inlinestart=datetime.datetime(2020,12,15)\n",
    "end=datetime.datetime(2020,12,15)"
   ]
  },
  {
   "cell_type": "markdown",
   "metadata": {},
   "source": [
    "# Question 2(a)\n"
   ]
  },
  {
   "cell_type": "code",
   "execution_count": 2,
   "metadata": {},
   "outputs": [],
   "source": [
    "## Monte Carlo pricing of a Black/Scholes call option\n",
    "In the Black/Scholes model, the price of the underlying stock follows Geometric Brownian motion, with the dynamics under the risk-neutral measure given by\n",
    "$$S(T)=S(t)\\exp\\left\\{\\left(r−\\frac12\\sigma^2\\right)(T−t)+\\sigma(W(T)−W(t))\\right\\}$$\n",
    "Recall that the time 0 price of a European call option (and analogously the put option) expiring at time $T$ with strike price $K$ can be expressed as the expectation under the risk-neutral measure of \n",
    "$$C=E\\left[e^{−rT}\\max(0,S(T)−K)\\right]$$\n",
    "Thus we can write a Python function which calculates the Monte Carlo estimate `MC` for the Black/Scholes price of the option and the standard deviation `MCstd` of the simulation mean, where the function takes seven arguments (in this order): $S$, $K$, $\\sigma$, $r$, $T$, a 1 for a call or -1 for a put, and $n$, the number of sampling iterations of the Monte Carlo algorithm:def BlackScholesMC(S,K,sgm,r,T,callput,n):\n",
    "    w = np.random.standard_normal(n)\n",
    "    ST=S*np.exp((r-0.5*sgm**2)*T+sgm*np.sqrt(T)*w)\n",
    "    payoff=callput*(ST-K) \n",
    "    payoff=payoff*(payoff>0)\n",
    "    MC=np.exp(-r*T)*np.mean(payoff)\n",
    "    MCstd=np.exp(-r*T)*np.std(payoff)/np.sqrt(n)\n",
    "    return MC, MCstd"
   ]
  },
  {
   "cell_type": "markdown",
   "metadata": {},
   "source": [
    "# Question 2(b)\n"
   ]
  },
  {
   "cell_type": "code",
   "execution_count": 6,
   "metadata": {},
   "outputs": [
    {
     "data": {
      "text/html": [
       "<div>\n",
       "<style scoped>\n",
       "    .dataframe tbody tr th:only-of-type {\n",
       "        vertical-align: middle;\n",
       "    }\n",
       "\n",
       "    .dataframe tbody tr th {\n",
       "        vertical-align: top;\n",
       "    }\n",
       "\n",
       "    .dataframe thead th {\n",
       "        text-align: right;\n",
       "    }\n",
       "</style>\n",
       "<table border=\"1\" class=\"dataframe\">\n",
       "  <thead>\n",
       "    <tr style=\"text-align: right;\">\n",
       "      <th></th>\n",
       "      <th>DATE</th>\n",
       "      <th>ICERates1100USD1Y</th>\n",
       "      <th>ICERates1100USD2Y</th>\n",
       "      <th>ICERates1100USD3Y</th>\n",
       "      <th>ICERates1100USD4Y</th>\n",
       "      <th>ICERates1100USD5Y</th>\n",
       "      <th>ICERates1100USD6Y</th>\n",
       "      <th>ICERates1100USD7Y</th>\n",
       "      <th>ICERates1100USD8Y</th>\n",
       "      <th>ICERates1100USD9Y</th>\n",
       "      <th>ICERates1100USD10Y</th>\n",
       "      <th>ICERates1100USD15Y</th>\n",
       "      <th>ICERates1100USD20Y</th>\n",
       "      <th>ICERates1100USD30Y</th>\n",
       "    </tr>\n",
       "  </thead>\n",
       "  <tbody>\n",
       "    <tr>\n",
       "      <th>0</th>\n",
       "      <td>2020-12-15</td>\n",
       "      <td>0.192</td>\n",
       "      <td>0.203</td>\n",
       "      <td>0.245</td>\n",
       "      <td>0.33</td>\n",
       "      <td>0.432</td>\n",
       "      <td>0.543</td>\n",
       "      <td>0.647</td>\n",
       "      <td>0.744</td>\n",
       "      <td>0.832</td>\n",
       "      <td>0.91</td>\n",
       "      <td>1.164</td>\n",
       "      <td>1.288</td>\n",
       "      <td>1.371</td>\n",
       "    </tr>\n",
       "  </tbody>\n",
       "</table>\n",
       "</div>"
      ],
      "text/plain": [
       "         DATE  ICERates1100USD1Y  ICERates1100USD2Y  ICERates1100USD3Y  \\\n",
       "0  2020-12-15              0.192              0.203              0.245   \n",
       "\n",
       "   ICERates1100USD4Y  ICERates1100USD5Y  ICERates1100USD6Y  ICERates1100USD7Y  \\\n",
       "0               0.33              0.432              0.543              0.647   \n",
       "\n",
       "   ICERates1100USD8Y  ICERates1100USD9Y  ICERates1100USD10Y  \\\n",
       "0              0.744              0.832                0.91   \n",
       "\n",
       "   ICERates1100USD15Y  ICERates1100USD20Y  ICERates1100USD30Y  \n",
       "0               1.164               1.288               1.371  "
      ]
     },
     "execution_count": 6,
     "metadata": {},
     "output_type": "execute_result"
    }
   ],
   "source": [
    "swaprates = pd.read_csv('swaprates'+str(start.date())+'.csv')\n",
    "swaprates"
   ]
  },
  {
   "cell_type": "markdown",
   "metadata": {},
   "source": [
    "# Question 2(c)\n"
   ]
  },
  {
   "cell_type": "code",
   "execution_count": 2,
   "metadata": {},
   "outputs": [],
   "source": [
    "def BlackScholesMC(S,K,sgm,r,T,callput,n):\n",
    "    RunningSum = 0\n",
    "    RunningSum2 = 0\n",
    "    for i in range(n):\n",
    "        w = np.random.standard_normal()\n",
    "        ST=S*np.exp((r-0.5*sgm**2)*T+sgm*np.sqrt(T)*w)\n",
    "        payoff=callput*(ST-K) \n",
    "        payoff=payoff*(payoff>0)\n",
    "        RunningSum += payoff\n",
    "        RunningSum2 += payoff*payoff\n",
    "    MC=np.exp(-r*T)*RunningSum/n\n",
    "    MCstd=np.sqrt(np.exp(-2*r*T)*RunningSum2/n-MC*MC)/np.sqrt(n)\n",
    "    return MC, MCstd"
   ]
  },
  {
   "cell_type": "markdown",
   "metadata": {},
   "source": [
    "<div style=\"background-color:#FBEFFB;\"><p style=\"font-size:20px;color:#FF0080\">&#9888; Stop and think!</p> <!--- Warning --->\n",
    "    Note that in the above function, <code>w = np.random.standard_normal()</code> results in a standard normal random variate (i.e., zero mean and variance equal to 1). Multiplying <code>np.sqrt(T)*w</code> results in a normal random variate with mean zero and variance $T$ (we're setting $t=0$, so $T-t=T$).\n",
    "</div>\n",
    "<p>To run this code with user inputs:</p>"
   ]
  },
  {
   "cell_type": "code",
   "execution_count": 3,
   "metadata": {},
   "outputs": [
    {
     "name": "stdout",
     "output_type": "stream",
     "text": [
      "Enter the underlying stock price: 100\n",
      "Enter the strike price: 105\n",
      "Enter the volatility: 0.45\n",
      "Enter continuously compounded interest rate: 0.03\n",
      "Enter the time to maturity: 1.5\n",
      "Enter 1 for call or -1 for put option: 1\n",
      "Enter the number of simulations: 10000\n",
      "The MC estimate for the option price is: \n",
      "21.955828961136692\n",
      "The 2 standard deviation confidence interval for the option price is: \n",
      "21.049257744755305 22.86240017751808\n"
     ]
    }
   ],
   "source": [
    "stock = float(input('Enter the underlying stock price: '))\n",
    "strike = float(input('Enter the strike price: '))\n",
    "sigma = float(input('Enter the volatility: '))\n",
    "interest = float(input('Enter continuously compounded interest rate: '))\n",
    "maturity = float(input('Enter the time to maturity: '))\n",
    "callput = int(input('Enter 1 for call or -1 for put option: '))\n",
    "n = int(input('Enter the number of simulations: '))\n",
    "MC, MCstd = BlackScholesMC(stock,strike,sigma,interest,maturity,callput,n)\n",
    "print('The MC estimate for the option price is: ')\n",
    "print(MC)\n",
    "print('The 2 standard deviation confidence interval for the option price is: ')\n",
    "print(MC-2*MCstd,MC+2*MCstd)"
   ]
  },
  {
   "cell_type": "markdown",
   "metadata": {},
   "source": [
    "# Question 2(d)\n"
   ]
  },
  {
   "cell_type": "code",
   "execution_count": 11,
   "metadata": {},
   "outputs": [
    {
     "name": "stdout",
     "output_type": "stream",
     "text": [
      "[0.  0.5 1. ]\n",
      "0.19200000003976037  0.192\n"
     ]
    }
   ],
   "source": [
    "dt = 0.5\n",
    "zcb = np.array([1.])\n",
    "timeline = np.arange(0,1.1,dt)\n",
    "print(timeline)\n",
    "sol = opt.root_scalar(swapPVloglinear, bracket=[0.0001, 1], args=(timeline,zcb,rates[0]/100.))\n",
    "print(str((1./(sol.root)**0.5-1)/dt*100)+'  '+str(rates[0]))"
   ]
  },
  {
   "cell_type": "markdown",
   "metadata": {},
   "source": [
    "Before we iteratively apply this to all swap rates, we need an additional function which fills in the missing zero coupon bonds $B(T_0,T_i)$ for $m<i<n$ on a timeline by loglinear interpolation:"
   ]
  },
  {
   "cell_type": "code",
   "execution_count": 12,
   "metadata": {},
   "outputs": [],
   "source": [
    "# fill up ZCB vector using loglinear interpolation\n",
    "def ZCBloglinear(lastbond,timeline,zcb):\n",
    "    dt     = (timeline[1:]-timeline[:-1])\n",
    "    i      = len(zcb)\n",
    "    ttm    = (timeline[i:]-timeline[i-1])/(timeline[-1]-timeline[i-1])\n",
    "    tmp    = zcb[-1]**(1.-ttm) * lastbond**ttm\n",
    "    return np.append(zcb,tmp)"
   ]
  },
  {
   "cell_type": "markdown",
   "metadata": {},
   "source": [
    "Based on the result we obtained in the calculation using the one-year swap rate above:"
   ]
  },
  {
   "cell_type": "code",
   "execution_count": 13,
   "metadata": {},
   "outputs": [
    {
     "name": "stdout",
     "output_type": "stream",
     "text": [
      "[1.]\n"
     ]
    },
    {
     "data": {
      "text/plain": [
       "array([1.        , 0.99904092, 0.99808276])"
      ]
     },
     "execution_count": 13,
     "metadata": {},
     "output_type": "execute_result"
    }
   ],
   "source": [
    "print(zcb)\n",
    "zcb = ZCBloglinear(sol.root,timeline,zcb)\n",
    "zcb"
   ]
  }
 ],
 "metadata": {
  "kernelspec": {
   "display_name": "Python 3",
   "language": "python",
   "name": "python3"
  },
  "language_info": {
   "codemirror_mode": {
    "name": "ipython",
    "version": 3
   },
   "file_extension": ".py",
   "mimetype": "text/x-python",
   "name": "python",
   "nbconvert_exporter": "python",
   "pygments_lexer": "ipython3",
   "version": "3.7.7"
  }
 },
 "nbformat": 4,
 "nbformat_minor": 4
}
