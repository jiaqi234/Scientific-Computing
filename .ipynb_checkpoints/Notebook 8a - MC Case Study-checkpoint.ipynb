{
 "cells": [
  {
   "cell_type": "markdown",
   "metadata": {},
   "source": [
    "<h1 style=\"font-family:Impact,Arial;font-size:70px;\">Monte Carlo simulation case study</h1>\n",
    "<h2 style=\"font-family:Arial;\">Erik Schl&ouml;gl</h2>\n",
    "<p><small> School of Mathematical &amp; Physical Sciences<br>\n",
    "University of Technology Sydney\n",
    "</small></p>\n",
    "<p>\n",
    "<a href=\"mailto:Erik.Schlogl@uts.edu.au?Subject=37000 MC Case Study\" target=\"_blank\">\n",
    "<small><font color=MediumVioletRed>Erik.Schlogl@uts.edu.au</font></small></a>\n",
    "</p>\n",
    "<hr style=\"height:5px;border:none;color:#333;background-color:#333;\" />\n",
    "<div style=\"background-color:#F2FBEF;\">\n",
    "<h2><font color=#04B404>After completing this notebook you should know how to:</font></h2>\n",
    "<br>\n",
    "<ul>\n",
    "<li> Simulate geometric Brownian motion. </li>\n",
    "    <li> Calculate prices of financial instruments known as options using Monte Carlo simulation.</li>\n",
    "</ul>\n",
    "</div>\n",
    "<hr style=\"height:5px;border:none;color:#333;background-color:#333;\" />\n",
    "This notebook builds on the previous notebooks on simulation, summarising the key ideas of Monte Carlo simulation and applying them in the more advanced case of a stochastic process (here, in the case of geometric Brownian motion). This will also serve as an application example in the subsequent notebook on speeding up Python programs."
   ]
  },
  {
   "cell_type": "markdown",
   "metadata": {},
   "source": [
    "<hr style=\"height:5px;border:none;color:#333;background-color:#333;\" />\n",
    "<h1>1. Monte Carlo simulation</h1>\n",
    "The goal is to calculate the expected value of a function $f(\\cdot)$ of a random variable $x$, where the distribution of $x$ is given by the probability density $\\psi(x)$, i.e.\n",
    "$$\n",
    "E[f(x)]=\\int_{-\\infty}^{\\infty}f(x)\\psi(x)dx\n",
    "$$"
   ]
  },
  {
   "cell_type": "markdown",
   "metadata": {},
   "source": [
    "<h2>1.1 Outline of the Monte Carlo simulation</h2>\n",
    "<OL>\n",
    "    <LI>Establish a procedure for drawing variates $x$ from the target distribution $\\psi(x)$.</LI>\n",
    "<LI>Initialise the variables:\n",
    "    <UL>\n",
    "        <LI>RunningSum = 0 </LI>\n",
    "        <LI>RunningSumSquared = 0 </LI>\n",
    "        <LI>$i=1$</LI>\n",
    "    </UL></LI>\n",
    "<LI>Draw a realisation $x_i$ from the target distribution.</LI>\n",
    "    <LI>Add $f(x_i)$ to RunningSum and  $(f(x_i))^2$ to RunningSumSquared.</LI>\n",
    "<LI>Increment the counter $i$. If $i$ is less than the maximum number of iterations, go to step 3.</LI>\n",
    "    <LI>Calculate the simulated mean by dividing RunningSum by the total number of iterations.</LI>\n",
    "<LI>Calculate the variance of the simulations by dividing RunningSumSquared by the total number of iterations and subtracting the square of the mean.</LI>\n",
    "    </OL>"
   ]
  },
  {
   "cell_type": "markdown",
   "metadata": {},
   "source": [
    "<h2>1.2 Error estimation for Monte Carlo methods</h2>\n",
    "<p>By the Central Limit Theorem, we know that for a large number $N$ of simulations, the simulation mean $X_N$ is approximately normally distributed, with standard deviation\n",
    "$$\n",
    "\\sqrt{\\frac{\\sigma^2}N}\n",
    "$$\n",
    "where the simulation variance is an estimate for $\\sigma^2$.\n",
    "\n",
    "Thus, if there is no bias, the simulation mean is normally distributed around the target value with a standard deviation, which decreases with $\\sqrt{N}$.\n",
    "\n",
    "A 95% confidence interval for the target value is therefore approximately given by\n",
    "$$\n",
    "\\left[X_N-2\\sqrt{\\frac{\\sigma^2}N};X_N+2\\sqrt{\\frac{\\sigma^2}N}\\right]\n",
    "$$</p>\n",
    "<div style=\"background-color:#FBEFFB;\"><p style=\"font-size:20px;color:#FF0080\">&#9888; Stop and think!</p> <!--- Warning --->\n",
    "Monte Carlo simulation without error bounds is meaningless!\n",
    "</div>"
   ]
  },
  {
   "cell_type": "markdown",
   "metadata": {},
   "source": [
    "<h2>1.3 Generating normal random numbers</h2>\n",
    "<p>The NumPy function <code>random.standard_normal()</code> returns a random variate drawn from the standard normal distribution, while <code>random.standard_normal(n)</code> returns <code>n</code> such variates in a Numpy array:</p>"
   ]
  },
  {
   "cell_type": "code",
   "execution_count": 1,
   "metadata": {},
   "outputs": [
    {
     "name": "stdout",
     "output_type": "stream",
     "text": [
      "1.2704881244674804\n",
      "[-1.71668103  1.2332075   0.08756243  0.37314477  0.08151637]\n"
     ]
    }
   ],
   "source": [
    "import numpy as np\n",
    "print(np.random.standard_normal())\n",
    "n = 5\n",
    "print(np.random.standard_normal(n))"
   ]
  },
  {
   "cell_type": "markdown",
   "metadata": {},
   "source": [
    "Recall that a standard normal random variable can be converted into a normal random variable of desired mean and standard deviation by multiplying by the standard deviation and adding the mean."
   ]
  },
  {
   "cell_type": "markdown",
   "metadata": {},
   "source": [
    "<h1>2. Monte Carlo pricing of a Black/Scholes option</h1>\n",
    "\n",
    "In the Black/Scholes model, the price of the underlying stock $S$ follows Geometric Brownian motion, with the dynamics under the risk-neutral probability measure given by\n",
    "$$S(T)=S(t)\\exp\\left\\{\\left(r−\\frac12\\sigma^2\\right)(T−t)+\\sigma(W(T)−W(t))\\right\\},$$\n",
    "where $W$ is a standard Brownian motion, $r$ is the risk-free interest rate and $\\sigma$ is the volatility (both of which are assumed to be constant). For present purposes, we do not need to concern ourselves with the deeper mathematical and economic details of this model - rather, it is sufficient to note that $W(T)−W(t)$ is a normally distributed random variable with zero mean and a variance equal to $T-t$, and furthermore, if $t_1<t_2\\leq t_3<t_4$, then $W(t_4)-W(t_3)$ is independent of $W(t_2)-W(t_1)$.\n",
    "\n",
    "A European call option expiring at a (future) time $T$ gives the holder of the option the right (but not the obligation) to buy the stock $S$ for a price $K$ (known as the *strike price*). Thus the holder will only exercise this right if at time $T$ the difference $S(T)-K$ is positive, so the time $T$ payoff to the option holder is\n",
    "$$ \\max(0,S(T)−K) $$\n",
    "Similarly, a European *put* option is the right to *sell*, so its payoff is\n",
    "$$ \\max(0,K-S(T)) $$\n",
    "Now, the time 0 price $C$ of a European call option (and analogously the put option) expiring at time $T$ with strike price $K$ can be expressed as the expectation \n",
    "$$C=E\\left[e^{−rT}\\max(0,S(T)−K)\\right]$$\n",
    "Thus we can write a Python function which calculates the Monte Carlo estimate `MC` for the Black/Scholes price of the option and the standard deviation `MCstd` of the simulation mean, where the function takes seven arguments (in this order): $S$, $K$, $\\sigma$, $r$, $T$, a 1 for a call or -1 for a put, and $n$, the number of sampling iterations of the Monte Carlo algorithm:"
   ]
  },
  {
   "cell_type": "code",
   "execution_count": 2,
   "metadata": {},
   "outputs": [],
   "source": [
    "def BlackScholesMC(S,K,sgm,r,T,callput,n):\n",
    "    RunningSum = 0\n",
    "    RunningSum2 = 0\n",
    "    for i in range(n):\n",
    "        w = np.random.standard_normal()\n",
    "        ST=S*np.exp((r-0.5*sgm**2)*T+sgm*np.sqrt(T)*w)\n",
    "        payoff=callput*(ST-K) \n",
    "        payoff=payoff*(payoff>0)\n",
    "        RunningSum += payoff\n",
    "        RunningSum2 += payoff*payoff\n",
    "    MC=np.exp(-r*T)*RunningSum/n\n",
    "    MCstd=np.sqrt(np.exp(-2*r*T)*RunningSum2/n-MC*MC)/np.sqrt(n)\n",
    "    return MC, MCstd"
   ]
  },
  {
   "cell_type": "markdown",
   "metadata": {},
   "source": [
    "<div style=\"background-color:#FBEFFB;\"><p style=\"font-size:20px;color:#FF0080\">&#9888; Stop and think!</p> <!--- Warning --->\n",
    "    Note that in the above function, <code>w = np.random.standard_normal()</code> results in a standard normal random variate (i.e., zero mean and variance equal to 1). Multiplying <code>np.sqrt(T)*w</code> results in a normal random variate with mean zero and variance $T$ (we're setting $t=0$, so $T-t=T$).\n",
    "</div>\n",
    "<p>To run this code with user inputs:</p>"
   ]
  },
  {
   "cell_type": "code",
   "execution_count": 3,
   "metadata": {},
   "outputs": [
    {
     "name": "stdout",
     "output_type": "stream",
     "text": [
      "Enter the underlying stock price: 100\n",
      "Enter the strike price: 105\n",
      "Enter the volatility: 0.45\n",
      "Enter continuously compounded interest rate: 0.03\n",
      "Enter the time to maturity: 1.5\n",
      "Enter 1 for call or -1 for put option: 1\n",
      "Enter the number of simulations: 10000\n",
      "The MC estimate for the option price is: \n",
      "21.955828961136692\n",
      "The 2 standard deviation confidence interval for the option price is: \n",
      "21.049257744755305 22.86240017751808\n"
     ]
    }
   ],
   "source": [
    "stock = float(input('Enter the underlying stock price: '))\n",
    "strike = float(input('Enter the strike price: '))\n",
    "sigma = float(input('Enter the volatility: '))\n",
    "interest = float(input('Enter continuously compounded interest rate: '))\n",
    "maturity = float(input('Enter the time to maturity: '))\n",
    "callput = int(input('Enter 1 for call or -1 for put option: '))\n",
    "n = int(input('Enter the number of simulations: '))\n",
    "MC, MCstd = BlackScholesMC(stock,strike,sigma,interest,maturity,callput,n)\n",
    "print('The MC estimate for the option price is: ')\n",
    "print(MC)\n",
    "print('The 2 standard deviation confidence interval for the option price is: ')\n",
    "print(MC-2*MCstd,MC+2*MCstd)"
   ]
  },
  {
   "cell_type": "markdown",
   "metadata": {},
   "source": [
    "<h2>2.1 Speeding up the code by avoiding explicit loops</h2>\n",
    "\n",
    "The code for `BlackScholesMC()` contains an explicit loop, which tends to slow down Python code. Let's time the execution of this function:"
   ]
  },
  {
   "cell_type": "code",
   "execution_count": 4,
   "metadata": {},
   "outputs": [
    {
     "name": "stdout",
     "output_type": "stream",
     "text": [
      "1.44 ms ± 16.3 µs per loop (mean ± std. dev. of 7 runs, 1000 loops each)\n"
     ]
    }
   ],
   "source": [
    "%%timeit\n",
    "stock = 10000\n",
    "strike = 110\n",
    "sigma = 0.45\n",
    "interest = 0.02\n",
    "maturity = 1.5\n",
    "callput = 1\n",
    "n = 100\n",
    "MC, MCstd = BlackScholesMC(stock,strike,sigma,interest,maturity,callput,n)"
   ]
  },
  {
   "cell_type": "markdown",
   "metadata": {},
   "source": [
    "By generating all `n` standard normal random variates in one go using `w = np.random.standard_normal(n)` and then performing all calculations directly on this vector, we obtain an array `payoff` of `n` simulated payoffs. We can then use the functions `np.mean()` and `np.std()` on this array to calculate the Monte Carlo estimate and its standard deviation:"
   ]
  },
  {
   "cell_type": "code",
   "execution_count": 5,
   "metadata": {},
   "outputs": [],
   "source": [
    "def BlackScholesMCvec(S,K,sgm,r,T,callput,n):\n",
    "    w = np.random.standard_normal(n)\n",
    "    ST=S*np.exp((r-0.5*sgm**2)*T+sgm*np.sqrt(T)*w)\n",
    "    payoff=callput*(ST-K) \n",
    "    payoff=payoff*(payoff>0)\n",
    "    MC=np.exp(-r*T)*np.mean(payoff)\n",
    "    MCstd=np.exp(-r*T)*np.std(payoff)/np.sqrt(n)\n",
    "    return MC, MCstd"
   ]
  },
  {
   "cell_type": "markdown",
   "metadata": {},
   "source": [
    "Let's time this version of the Monte Carlo function using the same inputs as before:"
   ]
  },
  {
   "cell_type": "code",
   "execution_count": 6,
   "metadata": {},
   "outputs": [
    {
     "name": "stdout",
     "output_type": "stream",
     "text": [
      "119 µs ± 5.78 µs per loop (mean ± std. dev. of 7 runs, 10000 loops each)\n"
     ]
    }
   ],
   "source": [
    "%%timeit\n",
    "stock = 10000\n",
    "strike = 110\n",
    "sigma = 0.45\n",
    "interest = 0.02\n",
    "maturity = 1.5\n",
    "callput = 1\n",
    "n = 100\n",
    "MC, MCstd = BlackScholesMCvec(stock,strike,sigma,interest,maturity,callput,n)"
   ]
  },
  {
   "cell_type": "markdown",
   "metadata": {},
   "source": [
    "The version with an explicit `for` loop runs about ten times faster!\n",
    "\n",
    "<h2>2.2 Convergence of the Monte Carlo estimate</h2>\n",
    "\n",
    "The confidence interval gives us an idea of the accuracy of the Monte Carlo estimate. The confidence interval shrinks proportionally to the square root of `n`, the number of simulations. So to double the accuracy, we need to quadruple the number of simulations. Let's illustrate this by generating a sequence of confidence intervals, doubling the number of simulations in each step:"
   ]
  },
  {
   "cell_type": "code",
   "execution_count": 7,
   "metadata": {},
   "outputs": [],
   "source": [
    "stock = 100\n",
    "strike = 110\n",
    "sigma = 0.45\n",
    "interest = 0.02\n",
    "maturity = 1.5\n",
    "callput = 1\n",
    "n = 100\n",
    "MCest = np.zeros((16,3))\n",
    "x = np.zeros(16)\n",
    "for i in range(16):\n",
    "    x[i] = n\n",
    "    MC, MCstd = BlackScholesMCvec(stock,strike,sigma,interest,maturity,callput,n)\n",
    "    MCest[i,:] = MC-2*MCstd,MC,MC+2*MCstd\n",
    "    n *=2"
   ]
  },
  {
   "cell_type": "markdown",
   "metadata": {},
   "source": [
    "Plotting this data with `matplotlib`:"
   ]
  },
  {
   "cell_type": "code",
   "execution_count": 8,
   "metadata": {},
   "outputs": [
    {
     "data": {
      "image/png": "[encoded data removed]",
      "text/plain": [
       "<Figure size 432x288 with 1 Axes>"
      ]
     },
     "metadata": {
      "needs_background": "light"
     },
     "output_type": "display_data"
    }
   ],
   "source": [
    "import matplotlib.pyplot as plt\n",
    "import matplotlib.style as style\n",
    "style.use('bmh')\n",
    "plt.xscale(\"log\")\n",
    "plt.xlabel(\"Simulations\")\n",
    "plt.ylabel(\"Option price\")\n",
    "plt.plot(x,MCest) \n",
    "plt.legend((\"Lower conf. bound\",\"MC estimate\",\"Upper conf. bound\"), fontsize=8)\n",
    "plt.show()"
   ]
  },
  {
   "cell_type": "markdown",
   "metadata": {},
   "source": [
    "Notice that in the above plot, the horizontal axis is set to log scale (using `plt.xscale(\"log\")`) - this is because we are doubling the number of simulations in each step and without log scale the plot would not be very instructive. We can see how the Monte Carlo estimate becomes more and more accurate as we increase the number of simulations.\n",
    "\n",
    "We can show this convergence more explictly by plotting the width of the confidence interval, now with both axes in log scale:"
   ]
  },
  {
   "cell_type": "code",
   "execution_count": 9,
   "metadata": {},
   "outputs": [
    {
     "data": {
      "image/png": "[encoded data removed]",
      "text/plain": [
       "<Figure size 432x288 with 1 Axes>"
      ]
     },
     "metadata": {
      "needs_background": "light"
     },
     "output_type": "display_data"
    }
   ],
   "source": [
    "style.use('bmh')\n",
    "plt.xscale(\"log\")\n",
    "plt.yscale(\"log\")\n",
    "plt.xlabel(\"Simulations\")\n",
    "plt.ylabel(\"Confidence interval width\")\n",
    "plt.plot(x,MCest[:,2]-MCest[:,0]) \n",
    "plt.show()"
   ]
  },
  {
   "cell_type": "markdown",
   "metadata": {},
   "source": [
    "Notice that the slope of the graph in log-log-scale is $-0.5$, corresponding to square root convergence. The slight deviations from a straight line are due to the fact that the standard deviation is itself an estimate based on the Monte Carlo sample, and therefore subject to some random noise.\n",
    "\n",
    "<h2>2.3 Option on the average stock price</h2>\n",
    "\n",
    "Suppose now that the time line between 0 and $T$ is divided into $m$ equal time steps of length $\\Delta t=T/m$ (for example with $\\Delta t$ equal to one day). Suppose we observe the stock price $S$ after each time step, and calculate the average of these observations. The payoff of a call option on this average is then given by\n",
    "$$\n",
    "\\max\\left(0,\\frac1m\\sum_{i=1}^mS(i\\Delta t)-K\\right)\n",
    "$$\n",
    "We can calculate the price of such an option by Monte Carlo simulation as follows:"
   ]
  },
  {
   "cell_type": "code",
   "execution_count": 10,
   "metadata": {},
   "outputs": [],
   "source": [
    "def BlackScholesAvgOpt(S,K,sgm,r,T,callput,n,m):\n",
    "    RunningSum = 0\n",
    "    RunningSum2 = 0\n",
    "    dt = T/m\n",
    "    for i in range(n):\n",
    "        ST = S\n",
    "        avg = 0\n",
    "        for j in range(m):\n",
    "            w = np.random.standard_normal()\n",
    "            ST=ST*np.exp((r-0.5*sgm**2)*dt+sgm*np.sqrt(dt)*w)\n",
    "            avg += ST\n",
    "        payoff=callput*(avg/m-K) \n",
    "        payoff=payoff*(payoff>0)\n",
    "        RunningSum += payoff\n",
    "        RunningSum2 += payoff*payoff\n",
    "    MC=np.exp(-r*T)*RunningSum/n\n",
    "    MCstd=np.sqrt(np.exp(-2*r*T)*RunningSum2/n-MC*MC)/np.sqrt(n)\n",
    "    return MC, MCstd"
   ]
  },
  {
   "cell_type": "markdown",
   "metadata": {},
   "source": [
    "Notice how in the above function we now simulate $S$ in each of the $m$ time steps in the inner loop, with the change in $S$ on each time step given by\n",
    "$$S(i\\Delta t)=S((i-1)\\Delta t)\\exp\\left\\{\\left(r−\\frac12\\sigma^2\\right)\\Delta t+\\sigma(W(i\\Delta t)−W((i-1)\\Delta t))\\right\\}.$$\n",
    "Here, \n",
    "$$ W(i\\Delta t)−W((i-1)\\Delta t) $$\n",
    "is a normally distributed random variable with mean zero and variance equal to $\\Delta t$.\n",
    "\n",
    "The average stock price over each inner loop is collected in the variable `avg` and the payoff in each outer loop is calculated based on this `avg`. \n",
    "\n",
    "Again generating a convergence plot:"
   ]
  },
  {
   "cell_type": "code",
   "execution_count": 11,
   "metadata": {},
   "outputs": [],
   "source": [
    "stock = 100\n",
    "strike = 110\n",
    "sigma = 0.45\n",
    "interest = 0.02\n",
    "maturity = 1.5\n",
    "callput = 1\n",
    "n = 100\n",
    "m = 100\n",
    "MCest = np.zeros((8,3))\n",
    "x = np.zeros(8)\n",
    "for i in range(8):\n",
    "    x[i] = n\n",
    "    MC, MCstd = BlackScholesAvgOpt(stock,strike,sigma,interest,maturity,callput,n,m)\n",
    "    MCest[i,:] = MC-2*MCstd,MC,MC+2*MCstd\n",
    "    n *=2"
   ]
  },
  {
   "cell_type": "code",
   "execution_count": 12,
   "metadata": {},
   "outputs": [
    {
     "data": {
      "image/png": "[encoded data removed]",
      "text/plain": [
       "<Figure size 432x288 with 1 Axes>"
      ]
     },
     "metadata": {
      "needs_background": "light"
     },
     "output_type": "display_data"
    }
   ],
   "source": [
    "style.use('bmh')\n",
    "plt.xscale(\"log\")\n",
    "plt.xlabel(\"Simulations\")\n",
    "plt.ylabel(\"Option price\")\n",
    "plt.plot(x,MCest) \n",
    "plt.legend((\"Lower conf. bound\",\"MC estimate\",\"Upper conf. bound\"), fontsize=8)\n",
    "plt.show()"
   ]
  },
  {
   "cell_type": "markdown",
   "metadata": {},
   "source": [
    "Notice how the code with two nested loops now runs quite slowly. `BlackScholesAvgOpt()` can also be implemented without `for` loops. Try this as an exercise; the answer is given in the next notebook."
   ]
  },
  {
   "cell_type": "code",
   "execution_count": null,
   "metadata": {},
   "outputs": [],
   "source": []
  }
 ],
 "metadata": {
  "kernelspec": {
   "display_name": "Python 3",
   "language": "python",
   "name": "python3"
  },
  "language_info": {
   "codemirror_mode": {
    "name": "ipython",
    "version": 3
   },
   "file_extension": ".py",
   "mimetype": "text/x-python",
   "name": "python",
   "nbconvert_exporter": "python",
   "pygments_lexer": "ipython3",
   "version": "3.7.7"
  }
 },
 "nbformat": 4,
 "nbformat_minor": 4
}
